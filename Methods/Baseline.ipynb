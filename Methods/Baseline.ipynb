{
 "cells": [
  {
   "cell_type": "code",
   "execution_count": 2,
   "id": "initial_id",
   "metadata": {
    "collapsed": true,
    "ExecuteTime": {
     "end_time": "2023-10-27T12:36:22.971218Z",
     "start_time": "2023-10-27T12:36:22.723784Z"
    }
   },
   "outputs": [],
   "source": [
    "import math\n",
    "\n",
    "import data_preprocessing\n",
    "\n",
    "train, test = data_preprocessing.preprocess_data(\"../Energy Consumption Dataset.csv\")"
   ]
  },
  {
   "cell_type": "code",
   "execution_count": 4,
   "outputs": [
    {
     "data": {
      "text/plain": "43341.75"
     },
     "execution_count": 4,
     "metadata": {},
     "output_type": "execute_result"
    }
   ],
   "source": [
    "y_median = train[\"Energy Consumption\"].median()\n",
    "y_median"
   ],
   "metadata": {
    "collapsed": false,
    "ExecuteTime": {
     "end_time": "2023-10-27T12:37:33.014670Z",
     "start_time": "2023-10-27T12:37:33.007503Z"
    }
   },
   "id": "43467e083aa7e36b"
  },
  {
   "cell_type": "code",
   "execution_count": 14,
   "outputs": [],
   "source": [
    "import numpy as np\n",
    "\n",
    "y_pred = np.full((len(test)), y_median)\n",
    "y_true = test[\"Energy Consumption\"]"
   ],
   "metadata": {
    "collapsed": false,
    "ExecuteTime": {
     "end_time": "2023-10-27T12:42:22.021234Z",
     "start_time": "2023-10-27T12:42:22.014879Z"
    }
   },
   "id": "5034d77cf09609e4"
  },
  {
   "cell_type": "code",
   "execution_count": 15,
   "outputs": [
    {
     "data": {
      "text/plain": "14290.494702764094"
     },
     "execution_count": 15,
     "metadata": {},
     "output_type": "execute_result"
    }
   ],
   "source": [
    "from sklearn.metrics import *\n",
    "import math\n",
    "\n",
    "math.sqrt(mean_squared_error(y_true=y_true, y_pred= y_pred))"
   ],
   "metadata": {
    "collapsed": false,
    "ExecuteTime": {
     "end_time": "2023-10-27T12:42:22.162514Z",
     "start_time": "2023-10-27T12:42:22.158898Z"
    }
   },
   "id": "bfee96ba4bd3afe2"
  },
  {
   "cell_type": "code",
   "execution_count": null,
   "outputs": [],
   "source": [],
   "metadata": {
    "collapsed": false
   },
   "id": "4b5de357f92dbceb"
  }
 ],
 "metadata": {
  "kernelspec": {
   "display_name": "Python 3",
   "language": "python",
   "name": "python3"
  },
  "language_info": {
   "codemirror_mode": {
    "name": "ipython",
    "version": 2
   },
   "file_extension": ".py",
   "mimetype": "text/x-python",
   "name": "python",
   "nbconvert_exporter": "python",
   "pygments_lexer": "ipython2",
   "version": "2.7.6"
  }
 },
 "nbformat": 4,
 "nbformat_minor": 5
}
