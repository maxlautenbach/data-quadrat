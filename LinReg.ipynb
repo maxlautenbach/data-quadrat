{
 "cells": [
  {
   "cell_type": "code",
   "execution_count": 56,
   "metadata": {
    "collapsed": true,
    "ExecuteTime": {
     "end_time": "2023-11-13T19:12:52.130877Z",
     "start_time": "2023-11-13T19:12:52.125650Z"
    }
   },
   "outputs": [],
   "source": [
    "import pandas as pd\n",
    "import numpy as np\n",
    "from sklearn.model_selection import train_test_split\n",
    "import itertools\n",
    "import matplotlib.pyplot as plt\n",
    "from sklearn.preprocessing import *\n",
    "from sklearn.linear_model import LinearRegression, Lasso, Ridge\n",
    "from sklearn.preprocessing import PolynomialFeatures\n",
    "from sklearn.pipeline import Pipeline, make_pipeline\n",
    "from sklearn.metrics import mean_squared_error, r2_score\n",
    "from sklearn.model_selection import GridSearchCV"
   ]
  },
  {
   "cell_type": "markdown",
   "source": [
    "# Data DL"
   ],
   "metadata": {
    "collapsed": false
   }
  },
  {
   "cell_type": "code",
   "execution_count": 57,
   "outputs": [],
   "source": [
    "import data_preprocessing\n",
    "\n",
    "train, test = data_preprocessing.preprocess_data(\"Energy Consumption Dataset.csv\")"
   ],
   "metadata": {
    "collapsed": false,
    "ExecuteTime": {
     "end_time": "2023-11-13T19:12:52.222185Z",
     "start_time": "2023-11-13T19:12:52.130049Z"
    }
   }
  },
  {
   "cell_type": "code",
   "execution_count": 58,
   "outputs": [],
   "source": [
    "def split_x_y(df):\n",
    "    y = df[\"Energy Consumption\"]\n",
    "    X = df.drop(\"Energy Consumption\", axis=1)\n",
    "    return X, y"
   ],
   "metadata": {
    "collapsed": false,
    "ExecuteTime": {
     "end_time": "2023-11-13T19:12:52.228520Z",
     "start_time": "2023-11-13T19:12:52.223650Z"
    }
   }
  },
  {
   "cell_type": "code",
   "execution_count": 59,
   "outputs": [],
   "source": [
    "X_train, y_train = split_x_y(train)\n",
    "X_test, y_test = split_x_y(test)"
   ],
   "metadata": {
    "collapsed": false,
    "ExecuteTime": {
     "end_time": "2023-11-13T19:12:52.232223Z",
     "start_time": "2023-11-13T19:12:52.227466Z"
    }
   }
  },
  {
   "cell_type": "code",
   "execution_count": 60,
   "outputs": [],
   "source": [
    "def test_regressor(pipe):\n",
    "    y_pred = pipe.fit(X_train, y_train).predict(X_test)\n",
    "    return mean_squared_error(y_true=y_test, y_pred=y_pred, squared=False)"
   ],
   "metadata": {
    "collapsed": false,
    "ExecuteTime": {
     "end_time": "2023-11-13T19:12:52.234851Z",
     "start_time": "2023-11-13T19:12:52.232971Z"
    }
   }
  },
  {
   "cell_type": "code",
   "execution_count": 61,
   "outputs": [
    {
     "data": {
      "text/plain": "18152.20759372999"
     },
     "execution_count": 61,
     "metadata": {},
     "output_type": "execute_result"
    }
   ],
   "source": [
    "pipe = Pipeline([(\"Regressor\", LinearRegression())])\n",
    "test_regressor(pipe)"
   ],
   "metadata": {
    "collapsed": false,
    "ExecuteTime": {
     "end_time": "2023-11-13T19:12:52.391632Z",
     "start_time": "2023-11-13T19:12:52.237816Z"
    }
   }
  },
  {
   "cell_type": "code",
   "execution_count": 77,
   "outputs": [
    {
     "name": "stdout",
     "output_type": "stream",
     "text": [
      "Fitting 2 folds for each of 19 candidates, totalling 38 fits\n",
      "[CV 1/2] END .......Regressor__alpha=1;, score=-132049773.424 total time=   0.3s\n",
      "[CV 2/2] END .......Regressor__alpha=1;, score=-140127389.104 total time=   0.7s\n",
      "[CV 1/2] END .......Regressor__alpha=2;, score=-131890866.037 total time=   0.4s\n",
      "[CV 2/2] END .......Regressor__alpha=2;, score=-140169748.394 total time=   0.4s\n",
      "[CV 1/2] END .......Regressor__alpha=3;, score=-131753522.800 total time=   0.4s\n",
      "[CV 2/2] END .......Regressor__alpha=3;, score=-140216893.973 total time=   0.9s\n",
      "[CV 1/2] END .......Regressor__alpha=4;, score=-131612420.359 total time=   0.4s\n",
      "[CV 2/2] END .......Regressor__alpha=4;, score=-140257923.473 total time=   0.4s\n",
      "[CV 1/2] END .......Regressor__alpha=5;, score=-131469857.795 total time=   0.3s\n",
      "[CV 2/2] END .......Regressor__alpha=5;, score=-140290376.705 total time=   0.5s\n",
      "[CV 1/2] END .......Regressor__alpha=6;, score=-131329582.599 total time=   0.3s\n",
      "[CV 2/2] END .......Regressor__alpha=6;, score=-140323367.054 total time=   0.4s\n",
      "[CV 1/2] END .......Regressor__alpha=7;, score=-131267619.156 total time=   0.4s\n",
      "[CV 2/2] END .......Regressor__alpha=7;, score=-140356841.926 total time=   0.4s\n",
      "[CV 1/2] END .......Regressor__alpha=8;, score=-131239094.332 total time=   0.4s\n",
      "[CV 2/2] END .......Regressor__alpha=8;, score=-140389705.579 total time=   0.3s\n",
      "[CV 1/2] END .......Regressor__alpha=9;, score=-131211128.855 total time=   0.6s\n",
      "[CV 2/2] END .......Regressor__alpha=9;, score=-140422999.534 total time=   0.6s\n",
      "[CV 1/2] END ......Regressor__alpha=10;, score=-131183673.332 total time=   0.3s\n",
      "[CV 2/2] END ......Regressor__alpha=10;, score=-140456823.297 total time=   0.4s\n",
      "[CV 1/2] END ......Regressor__alpha=11;, score=-131156779.763 total time=   0.3s\n",
      "[CV 2/2] END ......Regressor__alpha=11;, score=-140491126.667 total time=   0.4s\n",
      "[CV 1/2] END ......Regressor__alpha=12;, score=-131130421.671 total time=   0.4s\n",
      "[CV 2/2] END ......Regressor__alpha=12;, score=-140525909.858 total time=   0.3s\n",
      "[CV 1/2] END ......Regressor__alpha=13;, score=-131104599.008 total time=   0.4s\n",
      "[CV 2/2] END ......Regressor__alpha=13;, score=-140561172.880 total time=   0.4s\n",
      "[CV 1/2] END ......Regressor__alpha=14;, score=-131079311.761 total time=   0.4s\n",
      "[CV 2/2] END ......Regressor__alpha=14;, score=-140596915.720 total time=   0.3s\n",
      "[CV 1/2] END ......Regressor__alpha=15;, score=-131054592.118 total time=   0.4s\n",
      "[CV 2/2] END ......Regressor__alpha=15;, score=-140633138.345 total time=   0.3s\n",
      "[CV 1/2] END ......Regressor__alpha=16;, score=-131030376.827 total time=   0.4s\n",
      "[CV 2/2] END ......Regressor__alpha=16;, score=-140669840.652 total time=   0.4s\n",
      "[CV 1/2] END ......Regressor__alpha=17;, score=-131006696.999 total time=   0.3s\n",
      "[CV 2/2] END ......Regressor__alpha=17;, score=-140707022.724 total time=   0.3s\n",
      "[CV 1/2] END ......Regressor__alpha=18;, score=-130983586.149 total time=   0.3s\n",
      "[CV 2/2] END ......Regressor__alpha=18;, score=-140744684.569 total time=   0.3s\n",
      "[CV 1/2] END ......Regressor__alpha=19;, score=-130960978.381 total time=   0.4s\n",
      "[CV 2/2] END ......Regressor__alpha=19;, score=-140782826.183 total time=   0.4s\n"
     ]
    },
    {
     "data": {
      "text/plain": "{'Regressor__alpha': 7}"
     },
     "execution_count": 77,
     "metadata": {},
     "output_type": "execute_result"
    }
   ],
   "source": [
    "pipe = Pipeline([(\"Regressor\", Lasso())])\n",
    "params = {\"Regressor__alpha\": np.arange(1,20, 1)}\n",
    "reg = GridSearchCV(pipe, params, cv=2, verbose=3, scoring=\"neg_mean_squared_error\")\n",
    "reg.fit(X_train, y_train)\n",
    "reg.best_params_"
   ],
   "metadata": {
    "collapsed": false,
    "ExecuteTime": {
     "end_time": "2023-11-13T19:22:07.248032Z",
     "start_time": "2023-11-13T19:21:50.670195Z"
    }
   }
  },
  {
   "cell_type": "code",
   "execution_count": 78,
   "outputs": [
    {
     "data": {
      "text/plain": "10119.109240215745"
     },
     "execution_count": 78,
     "metadata": {},
     "output_type": "execute_result"
    }
   ],
   "source": [
    "pipe = Pipeline([(\"Regressor\", Lasso(alpha=7))])\n",
    "test_regressor(pipe)"
   ],
   "metadata": {
    "collapsed": false,
    "ExecuteTime": {
     "end_time": "2023-11-13T19:22:19.250911Z",
     "start_time": "2023-11-13T19:22:18.838913Z"
    }
   }
  },
  {
   "cell_type": "code",
   "execution_count": 75,
   "outputs": [
    {
     "data": {
      "text/plain": "17070.692535566843"
     },
     "execution_count": 75,
     "metadata": {},
     "output_type": "execute_result"
    }
   ],
   "source": [
    "pipe = Pipeline([(\"Regressor\", Ridge())])\n",
    "test_regressor(pipe)"
   ],
   "metadata": {
    "collapsed": false,
    "ExecuteTime": {
     "end_time": "2023-11-13T19:20:28.459237Z",
     "start_time": "2023-11-13T19:20:28.425606Z"
    }
   }
  },
  {
   "cell_type": "code",
   "execution_count": 63,
   "outputs": [],
   "source": [],
   "metadata": {
    "collapsed": false,
    "ExecuteTime": {
     "end_time": "2023-11-13T19:12:53.218340Z",
     "start_time": "2023-11-13T19:12:53.149136Z"
    }
   }
  }
 ],
 "metadata": {
  "kernelspec": {
   "display_name": "Python 3",
   "language": "python",
   "name": "python3"
  },
  "language_info": {
   "codemirror_mode": {
    "name": "ipython",
    "version": 2
   },
   "file_extension": ".py",
   "mimetype": "text/x-python",
   "name": "python",
   "nbconvert_exporter": "python",
   "pygments_lexer": "ipython2",
   "version": "2.7.6"
  }
 },
 "nbformat": 4,
 "nbformat_minor": 0
}
