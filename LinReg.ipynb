{
 "cells": [
  {
   "cell_type": "code",
   "execution_count": 36,
   "metadata": {
    "collapsed": true,
    "ExecuteTime": {
     "end_time": "2023-12-03T14:04:01.770674Z",
     "start_time": "2023-12-03T14:04:01.759152Z"
    }
   },
   "outputs": [],
   "source": [
    "import pandas as pd\n",
    "import numpy as np\n",
    "from sklearn.model_selection import train_test_split\n",
    "import itertools\n",
    "import matplotlib.pyplot as plt\n",
    "from sklearn.preprocessing import *\n",
    "from sklearn.linear_model import LinearRegression, Lasso, Ridge\n",
    "from sklearn.preprocessing import PolynomialFeatures\n",
    "from sklearn.pipeline import Pipeline, make_pipeline\n",
    "from sklearn.metrics import mean_squared_error, r2_score\n",
    "from sklearn.model_selection import GridSearchCV"
   ]
  },
  {
   "cell_type": "markdown",
   "source": [
    "# Data DL"
   ],
   "metadata": {
    "collapsed": false
   }
  },
  {
   "cell_type": "code",
   "execution_count": 37,
   "outputs": [],
   "source": [
    "import data_preprocessing\n",
    "\n",
    "train, test = data_preprocessing.preprocess_data(\"Energy Consumption Dataset.csv\")"
   ],
   "metadata": {
    "collapsed": false,
    "ExecuteTime": {
     "end_time": "2023-12-03T14:04:01.852226Z",
     "start_time": "2023-12-03T14:04:01.764603Z"
    }
   }
  },
  {
   "cell_type": "code",
   "execution_count": 38,
   "outputs": [],
   "source": [
    "def split_x_y(df):\n",
    "    y = df[\"Energy Consumption\"]\n",
    "    X = df.drop(\"Energy Consumption\", axis=1)\n",
    "    return X, y"
   ],
   "metadata": {
    "collapsed": false,
    "ExecuteTime": {
     "end_time": "2023-12-03T14:04:01.865789Z",
     "start_time": "2023-12-03T14:04:01.852875Z"
    }
   }
  },
  {
   "cell_type": "code",
   "execution_count": 39,
   "outputs": [],
   "source": [
    "X_train, y_train = split_x_y(train)\n",
    "X_test, y_test = split_x_y(test)"
   ],
   "metadata": {
    "collapsed": false,
    "ExecuteTime": {
     "end_time": "2023-12-03T14:04:01.866143Z",
     "start_time": "2023-12-03T14:04:01.854948Z"
    }
   }
  },
  {
   "cell_type": "code",
   "execution_count": 40,
   "outputs": [],
   "source": [
    "def test_regressor(pipe):\n",
    "    y_pred = pipe.fit(X_train, y_train).predict(X_test)\n",
    "    return mean_squared_error(y_true=y_test, y_pred=y_pred, squared=False)"
   ],
   "metadata": {
    "collapsed": false,
    "ExecuteTime": {
     "end_time": "2023-12-03T14:04:01.866236Z",
     "start_time": "2023-12-03T14:04:01.865938Z"
    }
   }
  },
  {
   "cell_type": "code",
   "execution_count": 41,
   "outputs": [
    {
     "data": {
      "text/plain": "18152.20759372999"
     },
     "execution_count": 41,
     "metadata": {},
     "output_type": "execute_result"
    }
   ],
   "source": [
    "pipe = Pipeline([(\"Regressor\", LinearRegression())])\n",
    "test_regressor(pipe)"
   ],
   "metadata": {
    "collapsed": false,
    "ExecuteTime": {
     "end_time": "2023-12-03T14:04:01.977334Z",
     "start_time": "2023-12-03T14:04:01.866280Z"
    }
   }
  },
  {
   "cell_type": "code",
   "execution_count": 42,
   "outputs": [],
   "source": [
    "from sklearn.model_selection import *\n",
    "\n",
    "tscv = TimeSeriesSplit(5)"
   ],
   "metadata": {
    "collapsed": false,
    "ExecuteTime": {
     "end_time": "2023-12-03T14:04:01.984251Z",
     "start_time": "2023-12-03T14:04:01.978462Z"
    }
   }
  },
  {
   "cell_type": "code",
   "execution_count": 43,
   "outputs": [
    {
     "name": "stdout",
     "output_type": "stream",
     "text": [
      "Fitting 5 folds for each of 190 candidates, totalling 950 fits\n"
     ]
    },
    {
     "data": {
      "text/plain": "{'Regressor__alpha': 2.7000000000000015}"
     },
     "execution_count": 43,
     "metadata": {},
     "output_type": "execute_result"
    }
   ],
   "source": [
    "pipe = Pipeline([(\"Regressor\", Lasso())])\n",
    "params = {\"Regressor__alpha\": np.arange(1,20, 0.1)}\n",
    "reg = GridSearchCV(pipe, params, cv=tscv, verbose=3, scoring=\"neg_mean_squared_error\", n_jobs=-1)\n",
    "reg.fit(X_train, y_train)\n",
    "reg.best_params_"
   ],
   "metadata": {
    "collapsed": false,
    "ExecuteTime": {
     "end_time": "2023-12-03T14:04:21.440410Z",
     "start_time": "2023-12-03T14:04:01.987772Z"
    }
   }
  },
  {
   "cell_type": "code",
   "execution_count": 47,
   "outputs": [
    {
     "data": {
      "text/plain": "10135.211154709661"
     },
     "execution_count": 47,
     "metadata": {},
     "output_type": "execute_result"
    }
   ],
   "source": [
    "pipe = Pipeline([(\"Regressor\", Lasso(alpha=2.7))])\n",
    "test_regressor(pipe)"
   ],
   "metadata": {
    "collapsed": false,
    "ExecuteTime": {
     "end_time": "2023-12-03T14:15:57.660944Z",
     "start_time": "2023-12-03T14:15:57.053032Z"
    }
   }
  },
  {
   "cell_type": "code",
   "execution_count": 1,
   "outputs": [
    {
     "ename": "NameError",
     "evalue": "name 'Pipeline' is not defined",
     "output_type": "error",
     "traceback": [
      "\u001B[0;31m---------------------------------------------------------------------------\u001B[0m",
      "\u001B[0;31mNameError\u001B[0m                                 Traceback (most recent call last)",
      "Cell \u001B[0;32mIn[1], line 1\u001B[0m\n\u001B[0;32m----> 1\u001B[0m pipe \u001B[38;5;241m=\u001B[39m \u001B[43mPipeline\u001B[49m([(\u001B[38;5;124m\"\u001B[39m\u001B[38;5;124mRegressor\u001B[39m\u001B[38;5;124m\"\u001B[39m, Lasso())])\n\u001B[1;32m      2\u001B[0m params \u001B[38;5;241m=\u001B[39m {\u001B[38;5;124m\"\u001B[39m\u001B[38;5;124mRegressor__alpha\u001B[39m\u001B[38;5;124m\"\u001B[39m: np\u001B[38;5;241m.\u001B[39marange(\u001B[38;5;241m2\u001B[39m,\u001B[38;5;241m20\u001B[39m, \u001B[38;5;241m1\u001B[39m)}\n\u001B[1;32m      3\u001B[0m reg \u001B[38;5;241m=\u001B[39m GridSearchCV(pipe, params, cv\u001B[38;5;241m=\u001B[39mtscv, verbose\u001B[38;5;241m=\u001B[39m\u001B[38;5;241m3\u001B[39m, scoring\u001B[38;5;241m=\u001B[39m\u001B[38;5;124m\"\u001B[39m\u001B[38;5;124mneg_mean_squared_error\u001B[39m\u001B[38;5;124m\"\u001B[39m, n_jobs\u001B[38;5;241m=\u001B[39m\u001B[38;5;241m-\u001B[39m\u001B[38;5;241m1\u001B[39m)\n",
      "\u001B[0;31mNameError\u001B[0m: name 'Pipeline' is not defined"
     ]
    }
   ],
   "source": [
    "pipe = Pipeline([(\"Regressor\", Lasso())])\n",
    "params = {\"Regressor__alpha\": np.arange(2,20, 1)}\n",
    "reg = GridSearchCV(pipe, params, cv=tscv, verbose=3, scoring=\"neg_mean_squared_error\", n_jobs=-1)\n",
    "reg.fit(X_train, y_train)\n",
    "reg.best_params_"
   ],
   "metadata": {
    "collapsed": false,
    "ExecuteTime": {
     "end_time": "2023-12-05T14:03:06.010053Z",
     "start_time": "2023-12-05T14:03:05.851721Z"
    }
   }
  },
  {
   "cell_type": "code",
   "execution_count": null,
   "outputs": [],
   "source": [
    "pipe = Pipeline([(\"Regressor\", Ridge(alpha=10))])\n",
    "test_regressor(pipe)"
   ],
   "metadata": {
    "collapsed": false,
    "ExecuteTime": {
     "end_time": "2023-12-05T14:03:06.011150Z",
     "start_time": "2023-12-05T14:03:06.010398Z"
    }
   }
  },
  {
   "cell_type": "code",
   "execution_count": null,
   "outputs": [],
   "source": [],
   "metadata": {
    "collapsed": false
   }
  }
 ],
 "metadata": {
  "kernelspec": {
   "display_name": "Python 3",
   "language": "python",
   "name": "python3"
  },
  "language_info": {
   "codemirror_mode": {
    "name": "ipython",
    "version": 2
   },
   "file_extension": ".py",
   "mimetype": "text/x-python",
   "name": "python",
   "nbconvert_exporter": "python",
   "pygments_lexer": "ipython2",
   "version": "2.7.6"
  }
 },
 "nbformat": 4,
 "nbformat_minor": 0
}
