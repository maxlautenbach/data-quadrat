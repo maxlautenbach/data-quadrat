{
 "cells": [
  {
   "cell_type": "code",
   "execution_count": 13,
   "metadata": {},
   "outputs": [],
   "source": [
    "from sklearn.metrics import mean_squared_error\n",
    "import data_preprocessing\n",
    "from sklearn.tree import DecisionTreeRegressor\n",
    "from hyperopt import hp, space_eval, tpe, fmin, Trials\n",
    "from math import sqrt\n",
    "from sklearn.model_selection import cross_val_score, TimeSeriesSplit\n",
    "import numpy as np"
   ]
  },
  {
   "cell_type": "code",
   "execution_count": 7,
   "metadata": {},
   "outputs": [],
   "source": [
    "# import preprocessed data\n",
    "train, test = data_preprocessing.preprocess_data(\"Energy Consumption Dataset.csv\")"
   ]
  },
  {
   "cell_type": "code",
   "execution_count": 8,
   "metadata": {},
   "outputs": [],
   "source": [
    "# separate features from target variable\n",
    "def split_x_y(df):\n",
    "    y = df[\"Energy Consumption\"]\n",
    "    X = df.drop(\"Energy Consumption\", axis=1)\n",
    "    return X, y\n",
    "\n",
    "X_train, y_train = split_x_y(train)\n",
    "X_test, y_test = split_x_y(test)"
   ]
  },
  {
   "cell_type": "code",
   "execution_count": 59,
   "metadata": {},
   "outputs": [],
   "source": [
    "def decision_tree_regressor_kfold(args):\n",
    "    min_samples_leaf, min_samples_split, max_depth, max_features, ccp_alpha, max_leaf_nodes, min_impurity_decrease, min_weight_fraction_leaf = args\n",
    "\n",
    "    reg = DecisionTreeRegressor(random_state=42,\n",
    "\n",
    "                                min_samples_leaf=float(min_samples_leaf),\n",
    "                                min_samples_split=float(min_samples_split),\n",
    "                                ccp_alpha=ccp_alpha,\n",
    "                                min_impurity_decrease=min_impurity_decrease,\n",
    "                                min_weight_fraction_leaf=min_weight_fraction_leaf,\n",
    "\n",
    "                                max_depth=int(max_depth),\n",
    "                                max_features=int(max_features),\n",
    "                                max_leaf_nodes=int(max_leaf_nodes),\n",
    "                               )\n",
    "\n",
    "    return sqrt(-cross_val_score(reg, X_train, y_train, cv=5, scoring=\"neg_mean_squared_error\", n_jobs=-1).mean())"
   ]
  },
  {
   "cell_type": "code",
   "execution_count": 60,
   "metadata": {},
   "outputs": [],
   "source": [
    "def decision_tree_regressor_tscv(args):\n",
    "    min_samples_leaf, min_samples_split, max_depth, max_features, ccp_alpha, max_leaf_nodes, min_impurity_decrease, min_weight_fraction_leaf = args\n",
    "\n",
    "    tscv = TimeSeriesSplit(n_splits=5)\n",
    "\n",
    "    reg = DecisionTreeRegressor(random_state=42,\n",
    "\n",
    "                                min_samples_leaf=float(min_samples_leaf),\n",
    "                                min_samples_split=float(min_samples_split),\n",
    "                                ccp_alpha=ccp_alpha,\n",
    "                                min_impurity_decrease=min_impurity_decrease,\n",
    "                                min_weight_fraction_leaf=min_weight_fraction_leaf,\n",
    "\n",
    "                                max_depth=int(max_depth),\n",
    "                                max_features=int(max_features),\n",
    "                                max_leaf_nodes=int(max_leaf_nodes),\n",
    "                               )\n",
    "\n",
    "    return sqrt(-cross_val_score(reg, X_train, y_train, cv=tscv, scoring=\"neg_mean_squared_error\", n_jobs=-1).mean())"
   ]
  },
  {
   "cell_type": "code",
   "execution_count": 9,
   "metadata": {},
   "outputs": [],
   "source": [
    "# define the search space\n",
    "space = [\n",
    "    hp.uniform('min_samples_leaf', 0.01, 1.0),\n",
    "    hp.uniform('min_samples_split', 0.01, 1.0),\n",
    "    hp.quniform('max_depth', 2, 18, 1),\n",
    "    hp.quniform('max_features', 1, 18, 2),\n",
    "    hp.quniform('ccp_alpha', 0.01, 1.0, 0.05),\n",
    "    hp.quniform('max_leaf_nodes', 10, 100, 5),\n",
    "    hp.quniform('min_impurity_decrease', 0.01, 1.0, 0.05),\n",
    "    hp.quniform('min_weight_fraction_leaf', 0.01, 0.5, 0.05)\n",
    "]"
   ]
  },
  {
   "cell_type": "markdown",
   "metadata": {},
   "source": [
    "### Using regular kfold cv"
   ]
  },
  {
   "cell_type": "code",
   "execution_count": 62,
   "metadata": {},
   "outputs": [
    {
     "name": "stdout",
     "output_type": "stream",
     "text": [
      "100%|██████████| 1000/1000 [04:42<00:00,  3.54trial/s, best loss: 10551.677248021653]\n",
      "RMSE:  10551.677248021653\n",
      "NRMSE:  0.1557995045923523\n"
     ]
    }
   ],
   "source": [
    "trials = Trials()\n",
    "\n",
    "best = fmin(fn=decision_tree_regressor_kfold, space=space, algo=tpe.suggest, verbose=True, max_evals=1000, trials=trials)\n",
    "RMSE = trials.best_trial['result']['loss']\n",
    "print(\"RMSE: \", RMSE)\n",
    "print(\"NRMSE: \", RMSE / (y_test.max() - y_test.min()))"
   ]
  },
  {
   "cell_type": "code",
   "execution_count": 63,
   "metadata": {},
   "outputs": [
    {
     "data": {
      "text/plain": [
       "{'ccp_alpha': 0.5,\n",
       " 'max_depth': 8.0,\n",
       " 'max_features': 10.0,\n",
       " 'max_leaf_nodes': 85.0,\n",
       " 'min_impurity_decrease': 0.0,\n",
       " 'min_samples_leaf': 0.010234684635058989,\n",
       " 'min_samples_split': 0.010337604867686253,\n",
       " 'min_weight_fraction_leaf': 0.0}"
      ]
     },
     "execution_count": 63,
     "metadata": {},
     "output_type": "execute_result"
    }
   ],
   "source": [
    "best"
   ]
  },
  {
   "cell_type": "code",
   "execution_count": 64,
   "metadata": {},
   "outputs": [
    {
     "name": "stdout",
     "output_type": "stream",
     "text": [
      "RMSE:  10551.677248021653\n",
      "NRMSE:  0.1557995045923523\n"
     ]
    }
   ],
   "source": [
    "ccp_alpha, max_depth, max_features, max_leaf_nodes, min_impurity_decrease, min_samples_leaf, min_samples_split, min_weight_fraction_leaf = best.values()\n",
    "reg = DecisionTreeRegressor(random_state=42,\n",
    "\n",
    "                            min_samples_leaf=float(min_samples_leaf),\n",
    "                            min_samples_split=float(min_samples_split),\n",
    "                            ccp_alpha=ccp_alpha,\n",
    "                            min_impurity_decrease=min_impurity_decrease,\n",
    "                            min_weight_fraction_leaf=min_weight_fraction_leaf,\n",
    "\n",
    "                            max_depth=int(max_depth),\n",
    "                            max_features=int(max_features),\n",
    "                            max_leaf_nodes=int(max_leaf_nodes))\n",
    "reg.fit(X_train, y_train)\n",
    "y_pred = reg.predict(X_test)\n",
    "score = mean_squared_error(y_test, y_pred)\n",
    "print(\"RMSE: \", RMSE)\n",
    "print(\"NRMSE: \", RMSE / (y_test.max() - y_test.min()))"
   ]
  },
  {
   "cell_type": "markdown",
   "metadata": {},
   "source": [
    "### using time series split"
   ]
  },
  {
   "cell_type": "code",
   "execution_count": 65,
   "metadata": {},
   "outputs": [
    {
     "name": "stdout",
     "output_type": "stream",
     "text": [
      "100%|██████████| 1000/1000 [04:29<00:00,  3.72trial/s, best loss: 10618.986342855369]\n",
      "RMSE:  10618.986342855369\n",
      "NRMSE:  0.15679334882992305\n"
     ]
    }
   ],
   "source": [
    "trials = Trials()\n",
    "\n",
    "best = fmin(fn=decision_tree_regressor_tscv, space=space, algo=tpe.suggest, verbose=True, max_evals=1000, trials=trials)\n",
    "RMSE = trials.best_trial['result']['loss']\n",
    "print(\"RMSE: \", RMSE)\n",
    "print(\"NRMSE: \", RMSE / (y_test.max() - y_test.min()))"
   ]
  },
  {
   "cell_type": "code",
   "execution_count": 66,
   "metadata": {},
   "outputs": [
    {
     "name": "stdout",
     "output_type": "stream",
     "text": [
      "RMSE:  10618.986342855369\n",
      "NRMSE:  0.15679334882992305\n"
     ]
    }
   ],
   "source": [
    "ccp_alpha, max_depth, max_features, max_leaf_nodes, min_impurity_decrease, min_samples_leaf, min_samples_split, min_weight_fraction_leaf = best.values()\n",
    "reg = DecisionTreeRegressor(random_state=42,\n",
    "\n",
    "                            min_samples_leaf=float(min_samples_leaf),\n",
    "                            min_samples_split=float(min_samples_split),\n",
    "                            ccp_alpha=ccp_alpha,\n",
    "                            min_impurity_decrease=min_impurity_decrease,\n",
    "                            min_weight_fraction_leaf=min_weight_fraction_leaf,\n",
    "\n",
    "                            max_depth=int(max_depth),\n",
    "                            max_features=int(max_features),\n",
    "                            max_leaf_nodes=int(max_leaf_nodes))\n",
    "reg.fit(X_train, y_train)\n",
    "y_pred = reg.predict(X_test)\n",
    "score = mean_squared_error(y_test, y_pred)\n",
    "print(\"RMSE: \", RMSE)\n",
    "print(\"NRMSE: \", RMSE / (y_test.max() - y_test.min()))"
   ]
  },
  {
   "cell_type": "markdown",
   "metadata": {},
   "source": [
    "### using BlockingTimeSeries Split"
   ]
  },
  {
   "cell_type": "code",
   "execution_count": 18,
   "metadata": {},
   "outputs": [],
   "source": [
    "class BlockingTimeSeriesSplit():\n",
    "    def __init__(self, n_splits):\n",
    "        self.n_splits = n_splits\n",
    "    \n",
    "    def get_n_splits(self, X, y, groups):\n",
    "        return self.n_splits\n",
    "    \n",
    "    def split(self, X, y=None, groups=None):\n",
    "        n_samples = len(X)\n",
    "        k_fold_size = n_samples // self.n_splits\n",
    "        indices = np.arange(n_samples)\n",
    "\n",
    "        margin = 0\n",
    "        for i in range(self.n_splits):\n",
    "            start = i * k_fold_size\n",
    "            stop = start + k_fold_size\n",
    "            mid = int(0.5 * (stop - start)) + start\n",
    "            yield indices[start: mid], indices[mid + margin: stop]\n"
   ]
  },
  {
   "cell_type": "code",
   "execution_count": 11,
   "metadata": {},
   "outputs": [],
   "source": [
    "def decision_tree_regressor_btscv(args):\n",
    "    min_samples_leaf, min_samples_split, max_depth, max_features, ccp_alpha, max_leaf_nodes, min_impurity_decrease, min_weight_fraction_leaf = args\n",
    "\n",
    "    btscv = BlockingTimeSeriesSplit(n_splits=5)\n",
    "\n",
    "    reg = DecisionTreeRegressor(random_state=42,\n",
    "\n",
    "                                min_samples_leaf=float(min_samples_leaf),\n",
    "                                min_samples_split=float(min_samples_split),\n",
    "                                ccp_alpha=ccp_alpha,\n",
    "                                min_impurity_decrease=min_impurity_decrease,\n",
    "                                min_weight_fraction_leaf=min_weight_fraction_leaf,\n",
    "\n",
    "                                max_depth=int(max_depth),\n",
    "                                max_features=int(max_features),\n",
    "                                max_leaf_nodes=int(max_leaf_nodes),\n",
    "                               )\n",
    "\n",
    "    return sqrt(-cross_val_score(reg, X_train, y_train, cv=btscv, scoring=\"neg_mean_squared_error\", n_jobs=-1).mean())"
   ]
  },
  {
   "cell_type": "code",
   "execution_count": 17,
   "metadata": {},
   "outputs": [
    {
     "name": "stdout",
     "output_type": "stream",
     "text": [
      "100%|██████████| 1000/1000 [04:06<00:00,  4.06trial/s, best loss: 10848.987774545836]\n",
      "RMSE:  10848.987774545836\n",
      "NRMSE:  0.16018940694188105\n"
     ]
    }
   ],
   "source": [
    "trials = Trials()\n",
    "\n",
    "best = fmin(fn=decision_tree_regressor_btscv, space=space, algo=tpe.suggest, verbose=True, max_evals=1000, trials=trials)\n",
    "RMSE = trials.best_trial['result']['loss']\n",
    "print(\"RMSE: \", RMSE)\n",
    "print(\"NRMSE: \", RMSE / (y_test.max() - y_test.min()))"
   ]
  },
  {
   "cell_type": "code",
   "execution_count": 19,
   "metadata": {},
   "outputs": [
    {
     "name": "stdout",
     "output_type": "stream",
     "text": [
      "RMSE:  10848.987774545836\n",
      "NRMSE:  0.16018940694188105\n"
     ]
    }
   ],
   "source": [
    "ccp_alpha, max_depth, max_features, max_leaf_nodes, min_impurity_decrease, min_samples_leaf, min_samples_split, min_weight_fraction_leaf = best.values()\n",
    "reg = DecisionTreeRegressor(random_state=42,\n",
    "\n",
    "                            min_samples_leaf=float(min_samples_leaf),\n",
    "                            min_samples_split=float(min_samples_split),\n",
    "                            ccp_alpha=ccp_alpha,\n",
    "                            min_impurity_decrease=min_impurity_decrease,\n",
    "                            min_weight_fraction_leaf=min_weight_fraction_leaf,\n",
    "\n",
    "                            max_depth=int(max_depth),\n",
    "                            max_features=int(max_features),\n",
    "                            max_leaf_nodes=int(max_leaf_nodes))\n",
    "reg.fit(X_train, y_train)\n",
    "y_pred = reg.predict(X_test)\n",
    "score = mean_squared_error(y_test, y_pred)\n",
    "print(\"RMSE: \", RMSE)\n",
    "print(\"NRMSE: \", RMSE / (y_test.max() - y_test.min()))"
   ]
  },
  {
   "cell_type": "code",
   "execution_count": null,
   "metadata": {},
   "outputs": [],
   "source": []
  }
 ],
 "metadata": {
  "kernelspec": {
   "display_name": "Python 3",
   "language": "python",
   "name": "python3"
  },
  "language_info": {
   "codemirror_mode": {
    "name": "ipython",
    "version": 3
   },
   "file_extension": ".py",
   "mimetype": "text/x-python",
   "name": "python",
   "nbconvert_exporter": "python",
   "pygments_lexer": "ipython3",
   "version": "3.11.6"
  }
 },
 "nbformat": 4,
 "nbformat_minor": 2
}
