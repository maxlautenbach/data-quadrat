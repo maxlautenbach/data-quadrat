{
 "cells": [
  {
   "cell_type": "code",
   "execution_count": null,
   "metadata": {
    "ExecuteTime": {
     "start_time": "2023-11-08T09:27:42.106151Z"
    }
   },
   "outputs": [],
   "source": [
    "import pandas as pd\n",
    "from sklearn.model_selection import train_test_split\n",
    "import itertools\n",
    "import matplotlib.pyplot as plt\n",
    "from sklearn.preprocessing import *\n",
    "from sklearn.linear_model import LinearRegression\n",
    "from sklearn.metrics import mean_squared_error, r2_score\n",
    "from math import sqrt"
   ]
  },
  {
   "cell_type": "code",
   "execution_count": null,
   "metadata": {
    "ExecuteTime": {
     "start_time": "2023-11-08T09:27:42.107856Z"
    }
   },
   "outputs": [],
   "source": [
    "import data_preprocessing\n",
    "\n",
    "energy_consumption_data_train, energy_consumption_data_test = data_preprocessing.preprocess_data(\"Energy Consumption Dataset.csv\")\n",
    "\n",
    "energy_consumption_data_train.head()"
   ]
  },
  {
   "cell_type": "code",
   "execution_count": null,
   "metadata": {
    "ExecuteTime": {
     "start_time": "2023-11-08T09:27:42.109298Z"
    }
   },
   "outputs": [],
   "source": [
    "# target for train and test\n",
    "target_train = energy_consumption_data_train[\"Energy Consumption\"]\n",
    "target_test = energy_consumption_data_test[\"Energy Consumption\"]\n",
    "\n",
    "# dropped target\n",
    "energy_consumption_data_train = energy_consumption_data_train.drop(columns=\"Energy Consumption\")\n",
    "energy_consumption_data_test = energy_consumption_data_test.drop(columns=\"Energy Consumption\")\n",
    "\n",
    "display(energy_consumption_data_train.head())\n",
    "display(energy_consumption_data_test.head())"
   ]
  },
  {
   "cell_type": "markdown",
   "metadata": {},
   "source": [
    "## Fitting the Model onto the Training Data ##"
   ]
  },
  {
   "cell_type": "code",
   "execution_count": null,
   "metadata": {
    "ExecuteTime": {
     "start_time": "2023-11-08T09:27:42.110482Z"
    }
   },
   "outputs": [],
   "source": [
    "linReg = LinearRegression()\n",
    "\n",
    "linReg.fit(energy_consumption_data_train, target_train)"
   ]
  },
  {
   "cell_type": "code",
   "execution_count": null,
   "metadata": {
    "ExecuteTime": {
     "end_time": "2023-11-08T09:27:42.117972Z",
     "start_time": "2023-11-08T09:27:42.111506Z"
    }
   },
   "outputs": [],
   "source": [
    "m = linReg.coef_\n",
    "m"
   ]
  },
  {
   "cell_type": "code",
   "execution_count": null,
   "metadata": {
    "ExecuteTime": {
     "start_time": "2023-11-08T09:27:42.112589Z"
    }
   },
   "outputs": [],
   "source": [
    "predict_train = linReg.predict(energy_consumption_data_train)\n",
    "predict_train"
   ]
  },
  {
   "cell_type": "code",
   "execution_count": null,
   "metadata": {
    "ExecuteTime": {
     "start_time": "2023-11-08T09:27:42.113356Z"
    }
   },
   "outputs": [],
   "source": [
    "plt.scatter(target_train, predict_train)\n",
    "plt.xlabel(\"Actual Energy Consumption\")\n",
    "plt.ylabel(\"Predicted Energy Consumption\")\n",
    "plt.show()"
   ]
  },
  {
   "cell_type": "markdown",
   "metadata": {},
   "source": [
    "## Evaluation with R2 and RMSE of Training ##"
   ]
  },
  {
   "cell_type": "code",
   "execution_count": null,
   "metadata": {
    "ExecuteTime": {
     "start_time": "2023-11-08T09:27:42.114013Z"
    }
   },
   "outputs": [],
   "source": [
    "r2_score(target_train, predict_train)"
   ]
  },
  {
   "cell_type": "code",
   "execution_count": null,
   "metadata": {
    "ExecuteTime": {
     "start_time": "2023-11-08T09:27:42.114652Z"
    }
   },
   "outputs": [],
   "source": [
    "rmse = mean_squared_error(target_train, predict_train, squared=False)\n",
    "rmse"
   ]
  },
  {
   "cell_type": "markdown",
   "metadata": {},
   "source": [
    "## Testing the Trained Model with Testing Data ##"
   ]
  },
  {
   "cell_type": "code",
   "execution_count": null,
   "metadata": {
    "ExecuteTime": {
     "start_time": "2023-11-08T09:27:42.115306Z"
    }
   },
   "outputs": [],
   "source": [
    "target = target_test.values.reshape(-1, 1)\n",
    "\n",
    "predict_test = linReg.predict(energy_consumption_data_test)"
   ]
  },
  {
   "cell_type": "code",
   "execution_count": null,
   "metadata": {
    "ExecuteTime": {
     "start_time": "2023-11-08T09:27:42.116171Z"
    }
   },
   "outputs": [],
   "source": [
    "# plot the original values\n",
    "plt.scatter(target_train, energy_consumption_data_train, c='green', label='train')\n",
    "plt.scatter(target_test, energy_consumption_data_test, c='blue', label='test')\n",
    "\n",
    "# plot the predicted values\n",
    "plt.plot(target_train, linReg.predict(target_test), c=\"red\", label=\"prediction\")"
   ]
  },
  {
   "cell_type": "markdown",
   "metadata": {},
   "source": [
    "## Evaluation with R2 and RMSE of Test ##"
   ]
  },
  {
   "cell_type": "code",
   "execution_count": null,
   "metadata": {
    "ExecuteTime": {
     "start_time": "2023-11-08T09:27:42.117050Z"
    }
   },
   "outputs": [],
   "source": []
  },
  {
   "cell_type": "markdown",
   "metadata": {},
   "source": [
    "## Exploring the Data for Station 02014 ##"
   ]
  },
  {
   "cell_type": "code",
   "execution_count": null,
   "outputs": [],
   "source": [],
   "metadata": {
    "collapsed": false
   }
  }
 ],
 "metadata": {
  "kernelspec": {
   "display_name": "Python 3",
   "language": "python",
   "name": "python3"
  },
  "language_info": {
   "codemirror_mode": {
    "name": "ipython",
    "version": 3
   },
   "file_extension": ".py",
   "mimetype": "text/x-python",
   "name": "python",
   "nbconvert_exporter": "python",
   "pygments_lexer": "ipython3",
   "version": "3.9.13"
  }
 },
 "nbformat": 4,
 "nbformat_minor": 2
}
