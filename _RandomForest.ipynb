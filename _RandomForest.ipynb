{
 "cells": [
  {
   "cell_type": "markdown",
   "metadata": {},
   "source": [
    "# Model: Random Forest Regressor\n",
    "This notebook documents our process of approaching the given regression task using a RandomForestRegressor. The following approaches are documented:\n",
    "* paramter optimization using RandomizedSearchCV\n",
    "* paramter optimization using Hyperopt\n",
    "* each of the mentioned approaches is tried with K-Fold CrossValidation and TimeSeriesSplit CrossValidation"
   ]
  },
  {
   "cell_type": "code",
   "execution_count": 2,
   "metadata": {},
   "outputs": [],
   "source": [
    "from sklearn.metrics import mean_squared_error\n",
    "import data_preprocessing\n",
    "from sklearn.ensemble import RandomForestRegressor\n",
    "from hyperopt import hp, space_eval, tpe, fmin, Trials\n",
    "from math import sqrt\n",
    "from sklearn.model_selection import RandomizedSearchCV, TimeSeriesSplit\n",
    "from scipy.stats import uniform, randint"
   ]
  },
  {
   "cell_type": "code",
   "execution_count": 3,
   "metadata": {},
   "outputs": [],
   "source": [
    "# import preprocessed data\n",
    "train, test = data_preprocessing.preprocess_data(\"Energy Consumption Dataset.csv\")"
   ]
  },
  {
   "cell_type": "code",
   "execution_count": 4,
   "metadata": {},
   "outputs": [],
   "source": [
    "# separate features from target variable\n",
    "def split_x_y(df):\n",
    "    y = df[\"Energy Consumption\"]\n",
    "    X = df.drop(\"Energy Consumption\", axis=1)\n",
    "    return X, y\n",
    "\n",
    "X_train, y_train = split_x_y(train)\n",
    "X_test, y_test = split_x_y(test)"
   ]
  },
  {
   "cell_type": "markdown",
   "metadata": {},
   "source": [
    "## Using RandomizedSearchCV\n",
    "First, we need to create a search grid / parameter distribution for RandomizedSearchCV to select from"
   ]
  },
  {
   "cell_type": "code",
   "execution_count": 5,
   "metadata": {},
   "outputs": [],
   "source": [
    "param_dist = {\n",
    "    'min_samples_leaf': uniform(),\n",
    "    'min_samples_split': uniform(),\n",
    "    'max_depth': randint(2, 18),\n",
    "    'max_features': randint(1, 18),\n",
    "    'ccp_alpha': uniform(),\n",
    "    'max_leaf_nodes': randint(10, 100),\n",
    "    'min_impurity_decrease': uniform(),\n",
    "    'min_weight_fraction_leaf': uniform(0.01, 0.5),\n",
    "\n",
    "    'n_estimators': randint(100, 500),\n",
    "    'bootstrap': [True, False],\n",
    "    'oob_score': [True, False], \n",
    "    'max_samples': uniform()\n",
    "}"
   ]
  },
  {
   "cell_type": "markdown",
   "metadata": {},
   "source": [
    "### Using K-Fold CrossVal"
   ]
  },
  {
   "cell_type": "code",
   "execution_count": 6,
   "metadata": {},
   "outputs": [
    {
     "name": "stderr",
     "output_type": "stream",
     "text": [
      "/Users/I539028/.pyenv/versions/3.11.6/lib/python3.11/site-packages/sklearn/model_selection/_validation.py:425: FitFailedWarning: \n",
      "230 fits failed out of a total of 500.\n",
      "The score on these train-test partitions for these parameters will be set to nan.\n",
      "If these failures are not expected, you can try to debug them by setting error_score='raise'.\n",
      "\n",
      "Below are more details about the failures:\n",
      "--------------------------------------------------------------------------------\n",
      "225 fits failed with the following error:\n",
      "Traceback (most recent call last):\n",
      "  File \"/Users/I539028/.pyenv/versions/3.11.6/lib/python3.11/site-packages/sklearn/model_selection/_validation.py\", line 729, in _fit_and_score\n",
      "    estimator.fit(X_train, y_train, **fit_params)\n",
      "  File \"/Users/I539028/.pyenv/versions/3.11.6/lib/python3.11/site-packages/sklearn/base.py\", line 1152, in wrapper\n",
      "    return fit_method(estimator, *args, **kwargs)\n",
      "           ^^^^^^^^^^^^^^^^^^^^^^^^^^^^^^^^^^^^^^\n",
      "  File \"/Users/I539028/.pyenv/versions/3.11.6/lib/python3.11/site-packages/sklearn/ensemble/_forest.py\", line 402, in fit\n",
      "    raise ValueError(\n",
      "ValueError: `max_sample` cannot be set if `bootstrap=False`. Either switch to `bootstrap=True` or set `max_sample=None`.\n",
      "\n",
      "--------------------------------------------------------------------------------\n",
      "5 fits failed with the following error:\n",
      "Traceback (most recent call last):\n",
      "  File \"/Users/I539028/.pyenv/versions/3.11.6/lib/python3.11/site-packages/sklearn/model_selection/_validation.py\", line 729, in _fit_and_score\n",
      "    estimator.fit(X_train, y_train, **fit_params)\n",
      "  File \"/Users/I539028/.pyenv/versions/3.11.6/lib/python3.11/site-packages/sklearn/base.py\", line 1145, in wrapper\n",
      "    estimator._validate_params()\n",
      "  File \"/Users/I539028/.pyenv/versions/3.11.6/lib/python3.11/site-packages/sklearn/base.py\", line 638, in _validate_params\n",
      "    validate_parameter_constraints(\n",
      "  File \"/Users/I539028/.pyenv/versions/3.11.6/lib/python3.11/site-packages/sklearn/utils/_param_validation.py\", line 95, in validate_parameter_constraints\n",
      "    raise InvalidParameterError(\n",
      "sklearn.utils._param_validation.InvalidParameterError: The 'min_weight_fraction_leaf' parameter of RandomForestRegressor must be a float in the range [0.0, 0.5]. Got 0.5000162876427385 instead.\n",
      "\n",
      "  warnings.warn(some_fits_failed_message, FitFailedWarning)\n",
      "/Users/I539028/.pyenv/versions/3.11.6/lib/python3.11/site-packages/sklearn/model_selection/_search.py:979: UserWarning: One or more of the test scores are non-finite: [-1.37108419e+08             nan             nan -1.63636449e+08\n",
      "             nan             nan             nan -1.35912706e+08\n",
      " -1.63448482e+08 -1.63447208e+08 -1.63489257e+08 -1.63450539e+08\n",
      "             nan -1.63472358e+08 -1.63453621e+08 -1.63473922e+08\n",
      " -1.63466689e+08 -1.63451228e+08 -1.63443058e+08 -1.63474627e+08\n",
      " -1.63458504e+08             nan -1.63444714e+08 -1.63439998e+08\n",
      " -1.63454909e+08 -1.63446297e+08 -1.63428760e+08 -1.63463385e+08\n",
      " -1.63455350e+08 -1.63548653e+08             nan             nan\n",
      "             nan -1.28471920e+08             nan             nan\n",
      "             nan             nan             nan             nan\n",
      "             nan             nan -1.40285175e+08 -1.63559115e+08\n",
      " -1.63452012e+08 -1.63466385e+08             nan             nan\n",
      " -1.63477775e+08             nan             nan             nan\n",
      " -1.63469144e+08 -1.63465001e+08             nan             nan\n",
      " -1.63449342e+08             nan             nan -1.63478242e+08\n",
      "             nan -1.63490009e+08 -1.37217559e+08 -1.63436824e+08\n",
      " -1.63470407e+08 -1.63456325e+08 -1.63467887e+08             nan\n",
      " -1.63493005e+08             nan             nan             nan\n",
      " -1.63456661e+08             nan -1.63508194e+08             nan\n",
      " -1.63478024e+08 -1.63443848e+08             nan -1.63532337e+08\n",
      "             nan -1.63552898e+08             nan -1.63461001e+08\n",
      "             nan             nan -1.63449805e+08             nan\n",
      "             nan -1.63526015e+08 -1.63473020e+08 -1.63605475e+08\n",
      "             nan             nan             nan             nan\n",
      " -1.63549848e+08 -1.63440462e+08 -1.63498035e+08             nan]\n",
      "  warnings.warn(\n"
     ]
    },
    {
     "data": {
      "text/html": [
       "<style>#sk-container-id-1 {color: black;}#sk-container-id-1 pre{padding: 0;}#sk-container-id-1 div.sk-toggleable {background-color: white;}#sk-container-id-1 label.sk-toggleable__label {cursor: pointer;display: block;width: 100%;margin-bottom: 0;padding: 0.3em;box-sizing: border-box;text-align: center;}#sk-container-id-1 label.sk-toggleable__label-arrow:before {content: \"▸\";float: left;margin-right: 0.25em;color: #696969;}#sk-container-id-1 label.sk-toggleable__label-arrow:hover:before {color: black;}#sk-container-id-1 div.sk-estimator:hover label.sk-toggleable__label-arrow:before {color: black;}#sk-container-id-1 div.sk-toggleable__content {max-height: 0;max-width: 0;overflow: hidden;text-align: left;background-color: #f0f8ff;}#sk-container-id-1 div.sk-toggleable__content pre {margin: 0.2em;color: black;border-radius: 0.25em;background-color: #f0f8ff;}#sk-container-id-1 input.sk-toggleable__control:checked~div.sk-toggleable__content {max-height: 200px;max-width: 100%;overflow: auto;}#sk-container-id-1 input.sk-toggleable__control:checked~label.sk-toggleable__label-arrow:before {content: \"▾\";}#sk-container-id-1 div.sk-estimator input.sk-toggleable__control:checked~label.sk-toggleable__label {background-color: #d4ebff;}#sk-container-id-1 div.sk-label input.sk-toggleable__control:checked~label.sk-toggleable__label {background-color: #d4ebff;}#sk-container-id-1 input.sk-hidden--visually {border: 0;clip: rect(1px 1px 1px 1px);clip: rect(1px, 1px, 1px, 1px);height: 1px;margin: -1px;overflow: hidden;padding: 0;position: absolute;width: 1px;}#sk-container-id-1 div.sk-estimator {font-family: monospace;background-color: #f0f8ff;border: 1px dotted black;border-radius: 0.25em;box-sizing: border-box;margin-bottom: 0.5em;}#sk-container-id-1 div.sk-estimator:hover {background-color: #d4ebff;}#sk-container-id-1 div.sk-parallel-item::after {content: \"\";width: 100%;border-bottom: 1px solid gray;flex-grow: 1;}#sk-container-id-1 div.sk-label:hover label.sk-toggleable__label {background-color: #d4ebff;}#sk-container-id-1 div.sk-serial::before {content: \"\";position: absolute;border-left: 1px solid gray;box-sizing: border-box;top: 0;bottom: 0;left: 50%;z-index: 0;}#sk-container-id-1 div.sk-serial {display: flex;flex-direction: column;align-items: center;background-color: white;padding-right: 0.2em;padding-left: 0.2em;position: relative;}#sk-container-id-1 div.sk-item {position: relative;z-index: 1;}#sk-container-id-1 div.sk-parallel {display: flex;align-items: stretch;justify-content: center;background-color: white;position: relative;}#sk-container-id-1 div.sk-item::before, #sk-container-id-1 div.sk-parallel-item::before {content: \"\";position: absolute;border-left: 1px solid gray;box-sizing: border-box;top: 0;bottom: 0;left: 50%;z-index: -1;}#sk-container-id-1 div.sk-parallel-item {display: flex;flex-direction: column;z-index: 1;position: relative;background-color: white;}#sk-container-id-1 div.sk-parallel-item:first-child::after {align-self: flex-end;width: 50%;}#sk-container-id-1 div.sk-parallel-item:last-child::after {align-self: flex-start;width: 50%;}#sk-container-id-1 div.sk-parallel-item:only-child::after {width: 0;}#sk-container-id-1 div.sk-dashed-wrapped {border: 1px dashed gray;margin: 0 0.4em 0.5em 0.4em;box-sizing: border-box;padding-bottom: 0.4em;background-color: white;}#sk-container-id-1 div.sk-label label {font-family: monospace;font-weight: bold;display: inline-block;line-height: 1.2em;}#sk-container-id-1 div.sk-label-container {text-align: center;}#sk-container-id-1 div.sk-container {/* jupyter's `normalize.less` sets `[hidden] { display: none; }` but bootstrap.min.css set `[hidden] { display: none !important; }` so we also need the `!important` here to be able to override the default hidden behavior on the sphinx rendered scikit-learn.org. See: https://github.com/scikit-learn/scikit-learn/issues/21755 */display: inline-block !important;position: relative;}#sk-container-id-1 div.sk-text-repr-fallback {display: none;}</style><div id=\"sk-container-id-1\" class=\"sk-top-container\"><div class=\"sk-text-repr-fallback\"><pre>RandomizedSearchCV(cv=5, estimator=RandomForestRegressor(random_state=42),\n",
       "                   n_iter=100,\n",
       "                   param_distributions={&#x27;bootstrap&#x27;: [True, False],\n",
       "                                        &#x27;ccp_alpha&#x27;: &lt;scipy.stats._distn_infrastructure.rv_continuous_frozen object at 0x282c33110&gt;,\n",
       "                                        &#x27;max_depth&#x27;: &lt;scipy.stats._distn_infrastructure.rv_discrete_frozen object at 0x282c325d0&gt;,\n",
       "                                        &#x27;max_features&#x27;: &lt;scipy.stats._distn_infrastruct...\n",
       "                                        &#x27;min_samples_split&#x27;: &lt;scipy.stats._distn_infrastructure.rv_continuous_frozen object at 0x282a7c3d0&gt;,\n",
       "                                        &#x27;min_weight_fraction_leaf&#x27;: &lt;scipy.stats._distn_infrastructure.rv_continuous_frozen object at 0x28582c110&gt;,\n",
       "                                        &#x27;n_estimators&#x27;: &lt;scipy.stats._distn_infrastructure.rv_discrete_frozen object at 0x28582c650&gt;,\n",
       "                                        &#x27;oob_score&#x27;: [True, False]},\n",
       "                   random_state=42, scoring=&#x27;neg_mean_squared_error&#x27;)</pre><b>In a Jupyter environment, please rerun this cell to show the HTML representation or trust the notebook. <br />On GitHub, the HTML representation is unable to render, please try loading this page with nbviewer.org.</b></div><div class=\"sk-container\" hidden><div class=\"sk-item sk-dashed-wrapped\"><div class=\"sk-label-container\"><div class=\"sk-label sk-toggleable\"><input class=\"sk-toggleable__control sk-hidden--visually\" id=\"sk-estimator-id-1\" type=\"checkbox\" ><label for=\"sk-estimator-id-1\" class=\"sk-toggleable__label sk-toggleable__label-arrow\">RandomizedSearchCV</label><div class=\"sk-toggleable__content\"><pre>RandomizedSearchCV(cv=5, estimator=RandomForestRegressor(random_state=42),\n",
       "                   n_iter=100,\n",
       "                   param_distributions={&#x27;bootstrap&#x27;: [True, False],\n",
       "                                        &#x27;ccp_alpha&#x27;: &lt;scipy.stats._distn_infrastructure.rv_continuous_frozen object at 0x282c33110&gt;,\n",
       "                                        &#x27;max_depth&#x27;: &lt;scipy.stats._distn_infrastructure.rv_discrete_frozen object at 0x282c325d0&gt;,\n",
       "                                        &#x27;max_features&#x27;: &lt;scipy.stats._distn_infrastruct...\n",
       "                                        &#x27;min_samples_split&#x27;: &lt;scipy.stats._distn_infrastructure.rv_continuous_frozen object at 0x282a7c3d0&gt;,\n",
       "                                        &#x27;min_weight_fraction_leaf&#x27;: &lt;scipy.stats._distn_infrastructure.rv_continuous_frozen object at 0x28582c110&gt;,\n",
       "                                        &#x27;n_estimators&#x27;: &lt;scipy.stats._distn_infrastructure.rv_discrete_frozen object at 0x28582c650&gt;,\n",
       "                                        &#x27;oob_score&#x27;: [True, False]},\n",
       "                   random_state=42, scoring=&#x27;neg_mean_squared_error&#x27;)</pre></div></div></div><div class=\"sk-parallel\"><div class=\"sk-parallel-item\"><div class=\"sk-item\"><div class=\"sk-label-container\"><div class=\"sk-label sk-toggleable\"><input class=\"sk-toggleable__control sk-hidden--visually\" id=\"sk-estimator-id-2\" type=\"checkbox\" ><label for=\"sk-estimator-id-2\" class=\"sk-toggleable__label sk-toggleable__label-arrow\">estimator: RandomForestRegressor</label><div class=\"sk-toggleable__content\"><pre>RandomForestRegressor(random_state=42)</pre></div></div></div><div class=\"sk-serial\"><div class=\"sk-item\"><div class=\"sk-estimator sk-toggleable\"><input class=\"sk-toggleable__control sk-hidden--visually\" id=\"sk-estimator-id-3\" type=\"checkbox\" ><label for=\"sk-estimator-id-3\" class=\"sk-toggleable__label sk-toggleable__label-arrow\">RandomForestRegressor</label><div class=\"sk-toggleable__content\"><pre>RandomForestRegressor(random_state=42)</pre></div></div></div></div></div></div></div></div></div></div>"
      ],
      "text/plain": [
       "RandomizedSearchCV(cv=5, estimator=RandomForestRegressor(random_state=42),\n",
       "                   n_iter=100,\n",
       "                   param_distributions={'bootstrap': [True, False],\n",
       "                                        'ccp_alpha': <scipy.stats._distn_infrastructure.rv_continuous_frozen object at 0x282c33110>,\n",
       "                                        'max_depth': <scipy.stats._distn_infrastructure.rv_discrete_frozen object at 0x282c325d0>,\n",
       "                                        'max_features': <scipy.stats._distn_infrastruct...\n",
       "                                        'min_samples_split': <scipy.stats._distn_infrastructure.rv_continuous_frozen object at 0x282a7c3d0>,\n",
       "                                        'min_weight_fraction_leaf': <scipy.stats._distn_infrastructure.rv_continuous_frozen object at 0x28582c110>,\n",
       "                                        'n_estimators': <scipy.stats._distn_infrastructure.rv_discrete_frozen object at 0x28582c650>,\n",
       "                                        'oob_score': [True, False]},\n",
       "                   random_state=42, scoring='neg_mean_squared_error')"
      ]
     },
     "execution_count": 6,
     "metadata": {},
     "output_type": "execute_result"
    }
   ],
   "source": [
    "# Create the RF Regressor\n",
    "reg = RandomForestRegressor(random_state=42)\n",
    "# Create the RandomizedSearchCV instance\n",
    "random_search = RandomizedSearchCV(reg,\n",
    "                                   param_distributions=param_dist,\n",
    "                                   n_iter=100,\n",
    "                                   cv=5,\n",
    "                                   random_state=42,\n",
    "                                   scoring=\"neg_mean_squared_error\")\n",
    "\n",
    "# perform the hyperparameter optimization\n",
    "random_search.fit(X_train, y_train)"
   ]
  },
  {
   "cell_type": "code",
   "execution_count": 7,
   "metadata": {},
   "outputs": [
    {
     "name": "stdout",
     "output_type": "stream",
     "text": [
      "RMSE:  11334.54540420434\n",
      "NRMSE:  0.16735884895319877\n"
     ]
    }
   ],
   "source": [
    "# inspect the model's performance\n",
    "best_score = random_search.best_score_\n",
    "rmse = sqrt(-best_score)\n",
    "print(\"RMSE: \", rmse)\n",
    "print(\"NRMSE: \", rmse / (y_test.max() - y_test.min()))"
   ]
  },
  {
   "cell_type": "code",
   "execution_count": 38,
   "metadata": {},
   "outputs": [
    {
     "data": {
      "text/plain": [
       "{'bootstrap': True,\n",
       " 'ccp_alpha': 0.04771612769164879,\n",
       " 'max_depth': 11,\n",
       " 'max_features': 16,\n",
       " 'max_leaf_nodes': 60,\n",
       " 'max_samples': 0.7578461104643691,\n",
       " 'min_impurity_decrease': 0.014393488629755868,\n",
       " 'min_samples_leaf': 0.11607264050691624,\n",
       " 'min_samples_split': 0.04600264202175275,\n",
       " 'min_weight_fraction_leaf': 0.03036440115948507,\n",
       " 'n_estimators': 337,\n",
       " 'oob_score': False}"
      ]
     },
     "execution_count": 38,
     "metadata": {},
     "output_type": "execute_result"
    }
   ],
   "source": [
    "# inspect the tuned hyperparameters\n",
    "best_params = random_search.best_params_\n",
    "best_params"
   ]
  },
  {
   "cell_type": "code",
   "execution_count": 39,
   "metadata": {},
   "outputs": [
    {
     "name": "stdout",
     "output_type": "stream",
     "text": [
      "RMSE:  12126.06815997252\n",
      "NRMSE:  0.17904598174958686\n"
     ]
    }
   ],
   "source": [
    "# Train the model on the whole dataset and predict unseen data to assess it's real performance\n",
    "rf = RandomForestRegressor(**best_params, random_state=42)\n",
    "rf.fit(X_train, y_train)\n",
    "y_pred = rf.predict(X_test)\n",
    "rmse = sqrt(mean_squared_error(y_test, y_pred))\n",
    "print(\"RMSE: \", rmse)\n",
    "print(\"NRMSE: \", rmse / (y_test.max() - y_test.min()))"
   ]
  },
  {
   "cell_type": "markdown",
   "metadata": {},
   "source": [
    "### Using TimeSeriesSplit"
   ]
  },
  {
   "cell_type": "code",
   "execution_count": 10,
   "metadata": {},
   "outputs": [],
   "source": [
    "# Create TimeSeriesSplit instance\n",
    "tscv = TimeSeriesSplit(n_splits=5)"
   ]
  },
  {
   "cell_type": "code",
   "execution_count": 11,
   "metadata": {},
   "outputs": [
    {
     "name": "stderr",
     "output_type": "stream",
     "text": [
      "/Users/I539028/.pyenv/versions/3.11.6/lib/python3.11/site-packages/sklearn/model_selection/_validation.py:425: FitFailedWarning: \n",
      "230 fits failed out of a total of 500.\n",
      "The score on these train-test partitions for these parameters will be set to nan.\n",
      "If these failures are not expected, you can try to debug them by setting error_score='raise'.\n",
      "\n",
      "Below are more details about the failures:\n",
      "--------------------------------------------------------------------------------\n",
      "225 fits failed with the following error:\n",
      "Traceback (most recent call last):\n",
      "  File \"/Users/I539028/.pyenv/versions/3.11.6/lib/python3.11/site-packages/sklearn/model_selection/_validation.py\", line 729, in _fit_and_score\n",
      "    estimator.fit(X_train, y_train, **fit_params)\n",
      "  File \"/Users/I539028/.pyenv/versions/3.11.6/lib/python3.11/site-packages/sklearn/base.py\", line 1152, in wrapper\n",
      "    return fit_method(estimator, *args, **kwargs)\n",
      "           ^^^^^^^^^^^^^^^^^^^^^^^^^^^^^^^^^^^^^^\n",
      "  File \"/Users/I539028/.pyenv/versions/3.11.6/lib/python3.11/site-packages/sklearn/ensemble/_forest.py\", line 402, in fit\n",
      "    raise ValueError(\n",
      "ValueError: `max_sample` cannot be set if `bootstrap=False`. Either switch to `bootstrap=True` or set `max_sample=None`.\n",
      "\n",
      "--------------------------------------------------------------------------------\n",
      "5 fits failed with the following error:\n",
      "Traceback (most recent call last):\n",
      "  File \"/Users/I539028/.pyenv/versions/3.11.6/lib/python3.11/site-packages/sklearn/model_selection/_validation.py\", line 729, in _fit_and_score\n",
      "    estimator.fit(X_train, y_train, **fit_params)\n",
      "  File \"/Users/I539028/.pyenv/versions/3.11.6/lib/python3.11/site-packages/sklearn/base.py\", line 1145, in wrapper\n",
      "    estimator._validate_params()\n",
      "  File \"/Users/I539028/.pyenv/versions/3.11.6/lib/python3.11/site-packages/sklearn/base.py\", line 638, in _validate_params\n",
      "    validate_parameter_constraints(\n",
      "  File \"/Users/I539028/.pyenv/versions/3.11.6/lib/python3.11/site-packages/sklearn/utils/_param_validation.py\", line 95, in validate_parameter_constraints\n",
      "    raise InvalidParameterError(\n",
      "sklearn.utils._param_validation.InvalidParameterError: The 'min_weight_fraction_leaf' parameter of RandomForestRegressor must be a float in the range [0.0, 0.5]. Got 0.5000162876427385 instead.\n",
      "\n",
      "  warnings.warn(some_fits_failed_message, FitFailedWarning)\n",
      "/Users/I539028/.pyenv/versions/3.11.6/lib/python3.11/site-packages/sklearn/model_selection/_search.py:979: UserWarning: One or more of the test scores are non-finite: [-1.41369355e+08             nan             nan -1.68709976e+08\n",
      "             nan             nan             nan -1.40575402e+08\n",
      " -1.68557474e+08 -1.68522910e+08 -1.68557831e+08 -1.68522531e+08\n",
      "             nan -1.68527597e+08 -1.68548133e+08 -1.68543864e+08\n",
      " -1.68543341e+08 -1.68531957e+08 -1.68555513e+08 -1.68558073e+08\n",
      " -1.68574438e+08             nan -1.68526687e+08 -1.68558646e+08\n",
      " -1.68558796e+08 -1.68553861e+08 -1.68502425e+08 -1.68562834e+08\n",
      " -1.68555862e+08 -1.68350151e+08             nan             nan\n",
      "             nan -1.30644010e+08             nan             nan\n",
      "             nan             nan             nan             nan\n",
      "             nan             nan -1.45462045e+08 -1.68613584e+08\n",
      " -1.68522374e+08 -1.68535062e+08             nan             nan\n",
      " -1.68541781e+08             nan             nan             nan\n",
      " -1.68543134e+08 -1.68553297e+08             nan             nan\n",
      " -1.68550929e+08             nan             nan -1.68550551e+08\n",
      "             nan -1.68531753e+08 -1.40990198e+08 -1.68548389e+08\n",
      " -1.68541695e+08 -1.68576137e+08 -1.68551364e+08             nan\n",
      " -1.68599268e+08             nan             nan             nan\n",
      " -1.68552489e+08             nan -1.68520550e+08             nan\n",
      " -1.68524202e+08 -1.68553427e+08             nan -1.68534061e+08\n",
      "             nan -1.68586707e+08             nan -1.68542211e+08\n",
      "             nan             nan -1.68535378e+08             nan\n",
      "             nan -1.68331543e+08 -1.68531319e+08 -1.68385543e+08\n",
      "             nan             nan             nan             nan\n",
      " -1.68580352e+08 -1.68556097e+08 -1.68538251e+08             nan]\n",
      "  warnings.warn(\n"
     ]
    },
    {
     "data": {
      "text/html": [
       "<style>#sk-container-id-2 {color: black;}#sk-container-id-2 pre{padding: 0;}#sk-container-id-2 div.sk-toggleable {background-color: white;}#sk-container-id-2 label.sk-toggleable__label {cursor: pointer;display: block;width: 100%;margin-bottom: 0;padding: 0.3em;box-sizing: border-box;text-align: center;}#sk-container-id-2 label.sk-toggleable__label-arrow:before {content: \"▸\";float: left;margin-right: 0.25em;color: #696969;}#sk-container-id-2 label.sk-toggleable__label-arrow:hover:before {color: black;}#sk-container-id-2 div.sk-estimator:hover label.sk-toggleable__label-arrow:before {color: black;}#sk-container-id-2 div.sk-toggleable__content {max-height: 0;max-width: 0;overflow: hidden;text-align: left;background-color: #f0f8ff;}#sk-container-id-2 div.sk-toggleable__content pre {margin: 0.2em;color: black;border-radius: 0.25em;background-color: #f0f8ff;}#sk-container-id-2 input.sk-toggleable__control:checked~div.sk-toggleable__content {max-height: 200px;max-width: 100%;overflow: auto;}#sk-container-id-2 input.sk-toggleable__control:checked~label.sk-toggleable__label-arrow:before {content: \"▾\";}#sk-container-id-2 div.sk-estimator input.sk-toggleable__control:checked~label.sk-toggleable__label {background-color: #d4ebff;}#sk-container-id-2 div.sk-label input.sk-toggleable__control:checked~label.sk-toggleable__label {background-color: #d4ebff;}#sk-container-id-2 input.sk-hidden--visually {border: 0;clip: rect(1px 1px 1px 1px);clip: rect(1px, 1px, 1px, 1px);height: 1px;margin: -1px;overflow: hidden;padding: 0;position: absolute;width: 1px;}#sk-container-id-2 div.sk-estimator {font-family: monospace;background-color: #f0f8ff;border: 1px dotted black;border-radius: 0.25em;box-sizing: border-box;margin-bottom: 0.5em;}#sk-container-id-2 div.sk-estimator:hover {background-color: #d4ebff;}#sk-container-id-2 div.sk-parallel-item::after {content: \"\";width: 100%;border-bottom: 1px solid gray;flex-grow: 1;}#sk-container-id-2 div.sk-label:hover label.sk-toggleable__label {background-color: #d4ebff;}#sk-container-id-2 div.sk-serial::before {content: \"\";position: absolute;border-left: 1px solid gray;box-sizing: border-box;top: 0;bottom: 0;left: 50%;z-index: 0;}#sk-container-id-2 div.sk-serial {display: flex;flex-direction: column;align-items: center;background-color: white;padding-right: 0.2em;padding-left: 0.2em;position: relative;}#sk-container-id-2 div.sk-item {position: relative;z-index: 1;}#sk-container-id-2 div.sk-parallel {display: flex;align-items: stretch;justify-content: center;background-color: white;position: relative;}#sk-container-id-2 div.sk-item::before, #sk-container-id-2 div.sk-parallel-item::before {content: \"\";position: absolute;border-left: 1px solid gray;box-sizing: border-box;top: 0;bottom: 0;left: 50%;z-index: -1;}#sk-container-id-2 div.sk-parallel-item {display: flex;flex-direction: column;z-index: 1;position: relative;background-color: white;}#sk-container-id-2 div.sk-parallel-item:first-child::after {align-self: flex-end;width: 50%;}#sk-container-id-2 div.sk-parallel-item:last-child::after {align-self: flex-start;width: 50%;}#sk-container-id-2 div.sk-parallel-item:only-child::after {width: 0;}#sk-container-id-2 div.sk-dashed-wrapped {border: 1px dashed gray;margin: 0 0.4em 0.5em 0.4em;box-sizing: border-box;padding-bottom: 0.4em;background-color: white;}#sk-container-id-2 div.sk-label label {font-family: monospace;font-weight: bold;display: inline-block;line-height: 1.2em;}#sk-container-id-2 div.sk-label-container {text-align: center;}#sk-container-id-2 div.sk-container {/* jupyter's `normalize.less` sets `[hidden] { display: none; }` but bootstrap.min.css set `[hidden] { display: none !important; }` so we also need the `!important` here to be able to override the default hidden behavior on the sphinx rendered scikit-learn.org. See: https://github.com/scikit-learn/scikit-learn/issues/21755 */display: inline-block !important;position: relative;}#sk-container-id-2 div.sk-text-repr-fallback {display: none;}</style><div id=\"sk-container-id-2\" class=\"sk-top-container\"><div class=\"sk-text-repr-fallback\"><pre>RandomizedSearchCV(cv=TimeSeriesSplit(gap=0, max_train_size=None, n_splits=5, test_size=None),\n",
       "                   estimator=RandomForestRegressor(random_state=42), n_iter=100,\n",
       "                   param_distributions={&#x27;bootstrap&#x27;: [True, False],\n",
       "                                        &#x27;ccp_alpha&#x27;: &lt;scipy.stats._distn_infrastructure.rv_continuous_frozen object at 0x282c33110&gt;,\n",
       "                                        &#x27;max_depth&#x27;: &lt;scipy.stats._distn_infrastructure.rv_discrete_frozen...\n",
       "                                        &#x27;min_samples_split&#x27;: &lt;scipy.stats._distn_infrastructure.rv_continuous_frozen object at 0x282a7c3d0&gt;,\n",
       "                                        &#x27;min_weight_fraction_leaf&#x27;: &lt;scipy.stats._distn_infrastructure.rv_continuous_frozen object at 0x28582c110&gt;,\n",
       "                                        &#x27;n_estimators&#x27;: &lt;scipy.stats._distn_infrastructure.rv_discrete_frozen object at 0x28582c650&gt;,\n",
       "                                        &#x27;oob_score&#x27;: [True, False]},\n",
       "                   random_state=42, scoring=&#x27;neg_mean_squared_error&#x27;)</pre><b>In a Jupyter environment, please rerun this cell to show the HTML representation or trust the notebook. <br />On GitHub, the HTML representation is unable to render, please try loading this page with nbviewer.org.</b></div><div class=\"sk-container\" hidden><div class=\"sk-item sk-dashed-wrapped\"><div class=\"sk-label-container\"><div class=\"sk-label sk-toggleable\"><input class=\"sk-toggleable__control sk-hidden--visually\" id=\"sk-estimator-id-4\" type=\"checkbox\" ><label for=\"sk-estimator-id-4\" class=\"sk-toggleable__label sk-toggleable__label-arrow\">RandomizedSearchCV</label><div class=\"sk-toggleable__content\"><pre>RandomizedSearchCV(cv=TimeSeriesSplit(gap=0, max_train_size=None, n_splits=5, test_size=None),\n",
       "                   estimator=RandomForestRegressor(random_state=42), n_iter=100,\n",
       "                   param_distributions={&#x27;bootstrap&#x27;: [True, False],\n",
       "                                        &#x27;ccp_alpha&#x27;: &lt;scipy.stats._distn_infrastructure.rv_continuous_frozen object at 0x282c33110&gt;,\n",
       "                                        &#x27;max_depth&#x27;: &lt;scipy.stats._distn_infrastructure.rv_discrete_frozen...\n",
       "                                        &#x27;min_samples_split&#x27;: &lt;scipy.stats._distn_infrastructure.rv_continuous_frozen object at 0x282a7c3d0&gt;,\n",
       "                                        &#x27;min_weight_fraction_leaf&#x27;: &lt;scipy.stats._distn_infrastructure.rv_continuous_frozen object at 0x28582c110&gt;,\n",
       "                                        &#x27;n_estimators&#x27;: &lt;scipy.stats._distn_infrastructure.rv_discrete_frozen object at 0x28582c650&gt;,\n",
       "                                        &#x27;oob_score&#x27;: [True, False]},\n",
       "                   random_state=42, scoring=&#x27;neg_mean_squared_error&#x27;)</pre></div></div></div><div class=\"sk-parallel\"><div class=\"sk-parallel-item\"><div class=\"sk-item\"><div class=\"sk-label-container\"><div class=\"sk-label sk-toggleable\"><input class=\"sk-toggleable__control sk-hidden--visually\" id=\"sk-estimator-id-5\" type=\"checkbox\" ><label for=\"sk-estimator-id-5\" class=\"sk-toggleable__label sk-toggleable__label-arrow\">estimator: RandomForestRegressor</label><div class=\"sk-toggleable__content\"><pre>RandomForestRegressor(random_state=42)</pre></div></div></div><div class=\"sk-serial\"><div class=\"sk-item\"><div class=\"sk-estimator sk-toggleable\"><input class=\"sk-toggleable__control sk-hidden--visually\" id=\"sk-estimator-id-6\" type=\"checkbox\" ><label for=\"sk-estimator-id-6\" class=\"sk-toggleable__label sk-toggleable__label-arrow\">RandomForestRegressor</label><div class=\"sk-toggleable__content\"><pre>RandomForestRegressor(random_state=42)</pre></div></div></div></div></div></div></div></div></div></div>"
      ],
      "text/plain": [
       "RandomizedSearchCV(cv=TimeSeriesSplit(gap=0, max_train_size=None, n_splits=5, test_size=None),\n",
       "                   estimator=RandomForestRegressor(random_state=42), n_iter=100,\n",
       "                   param_distributions={'bootstrap': [True, False],\n",
       "                                        'ccp_alpha': <scipy.stats._distn_infrastructure.rv_continuous_frozen object at 0x282c33110>,\n",
       "                                        'max_depth': <scipy.stats._distn_infrastructure.rv_discrete_frozen...\n",
       "                                        'min_samples_split': <scipy.stats._distn_infrastructure.rv_continuous_frozen object at 0x282a7c3d0>,\n",
       "                                        'min_weight_fraction_leaf': <scipy.stats._distn_infrastructure.rv_continuous_frozen object at 0x28582c110>,\n",
       "                                        'n_estimators': <scipy.stats._distn_infrastructure.rv_discrete_frozen object at 0x28582c650>,\n",
       "                                        'oob_score': [True, False]},\n",
       "                   random_state=42, scoring='neg_mean_squared_error')"
      ]
     },
     "execution_count": 11,
     "metadata": {},
     "output_type": "execute_result"
    }
   ],
   "source": [
    "# Create the RF Regressor\n",
    "reg = RandomForestRegressor(random_state=42)\n",
    "# Create the RandomizedSearchCV instance\n",
    "random_search = RandomizedSearchCV(reg,\n",
    "                                   param_distributions=param_dist,\n",
    "                                   n_iter=100,\n",
    "                                   cv=tscv, # here, we pass TSCV instead of regular CV\n",
    "                                   random_state=42,\n",
    "                                   scoring=\"neg_mean_squared_error\")\n",
    "\n",
    "# perform the hyperparameter optimization\n",
    "random_search.fit(X_train, y_train)"
   ]
  },
  {
   "cell_type": "code",
   "execution_count": 12,
   "metadata": {},
   "outputs": [
    {
     "name": "stdout",
     "output_type": "stream",
     "text": [
      "RMSE:  11429.96106248341\n",
      "NRMSE:  0.16876769722829355\n"
     ]
    }
   ],
   "source": [
    "# inspect the model's performance\n",
    "best_score = random_search.best_score_\n",
    "rmse = sqrt(-best_score)\n",
    "print(\"RMSE: \", rmse)\n",
    "print(\"NRMSE: \", rmse / (y_test.max() - y_test.min()))"
   ]
  },
  {
   "cell_type": "code",
   "execution_count": 13,
   "metadata": {},
   "outputs": [
    {
     "data": {
      "text/plain": [
       "{'bootstrap': True,\n",
       " 'ccp_alpha': 0.04771612769164879,\n",
       " 'max_depth': 11,\n",
       " 'max_features': 16,\n",
       " 'max_leaf_nodes': 60,\n",
       " 'max_samples': 0.7578461104643691,\n",
       " 'min_impurity_decrease': 0.014393488629755868,\n",
       " 'min_samples_leaf': 0.11607264050691624,\n",
       " 'min_samples_split': 0.04600264202175275,\n",
       " 'min_weight_fraction_leaf': 0.03036440115948507,\n",
       " 'n_estimators': 337,\n",
       " 'oob_score': False}"
      ]
     },
     "execution_count": 13,
     "metadata": {},
     "output_type": "execute_result"
    }
   ],
   "source": [
    "# inspect the tuned hyperparameters\n",
    "best_params = random_search.best_params_\n",
    "best_params"
   ]
  },
  {
   "cell_type": "code",
   "execution_count": 14,
   "metadata": {},
   "outputs": [
    {
     "name": "stdout",
     "output_type": "stream",
     "text": [
      "RMSE:  12126.06815997252\n",
      "NRMSE:  0.17904598174958686\n"
     ]
    }
   ],
   "source": [
    "# Train the model on the whole dataset and predict unseen data to assess it's real performance\n",
    "rf = RandomForestRegressor(**best_params, random_state=42)\n",
    "rf.fit(X_train, y_train)\n",
    "y_pred = rf.predict(X_test)\n",
    "rmse = sqrt(mean_squared_error(y_test, y_pred))\n",
    "print(\"RMSE: \", rmse)\n",
    "print(\"NRMSE: \", rmse / (y_test.max() - y_test.min()))"
   ]
  },
  {
   "cell_type": "markdown",
   "metadata": {},
   "source": [
    "## Using Hyperopt"
   ]
  },
  {
   "cell_type": "code",
   "execution_count": 15,
   "metadata": {},
   "outputs": [],
   "source": [
    "from hyperopt import hp, space_eval, tpe, fmin, Trials\n",
    "from sklearn.model_selection import cross_val_score"
   ]
  },
  {
   "cell_type": "markdown",
   "metadata": {},
   "source": [
    "The following functions are passed to Hyperopt's `fmin` func - one using K-Fold CV and one using TimeSeriesSplit"
   ]
  },
  {
   "cell_type": "code",
   "execution_count": 16,
   "metadata": {},
   "outputs": [],
   "source": [
    "# optimization function for K-Fold Cross Validation\n",
    "def random_forest_regressor_kfold(args):\n",
    "    min_samples_leaf, min_samples_split, max_depth, max_features, ccp_alpha, max_leaf_nodes, min_impurity_decrease, min_weight_fraction_leaf, n_estimators, bootstrap, oob_score, max_samples = args\n",
    "\n",
    "    reg = RandomForestRegressor(random_state=42,\n",
    "\n",
    "                                min_samples_leaf=float(min_samples_leaf),\n",
    "                                min_samples_split=float(min_samples_split),\n",
    "                                ccp_alpha=ccp_alpha,\n",
    "                                min_impurity_decrease=min_impurity_decrease,\n",
    "                                min_weight_fraction_leaf=min_weight_fraction_leaf,\n",
    "\n",
    "                                max_depth=int(max_depth),\n",
    "                                max_features=int(max_features),\n",
    "                                max_leaf_nodes=int(max_leaf_nodes),\n",
    "\n",
    "                                n_estimators=int(n_estimators),\n",
    "                                bootstrap=bootstrap,\n",
    "                                oob_score=oob_score if bootstrap else False,\n",
    "                                max_samples=max_samples if bootstrap else None\n",
    "                               )\n",
    "\n",
    "    # we return the best score resulting from cross validation - KF-fold here\n",
    "    return sqrt(-cross_val_score(reg, X_train, y_train, cv=5, scoring=\"neg_mean_squared_error\", n_jobs=-1).mean())"
   ]
  },
  {
   "cell_type": "code",
   "execution_count": 17,
   "metadata": {},
   "outputs": [],
   "source": [
    "# optimization function for TimeSeriesSplit Cross Validation\n",
    "def random_forest_regressor_tscv(args):\n",
    "    min_samples_leaf, min_samples_split, max_depth, max_features, ccp_alpha, max_leaf_nodes, min_impurity_decrease, min_weight_fraction_leaf, n_estimators, bootstrap, oob_score, max_samples = args\n",
    "\n",
    "    tscv = TimeSeriesSplit(n_splits=5)\n",
    "\n",
    "    reg = RandomForestRegressor(random_state=42,\n",
    "\n",
    "                                min_samples_leaf=float(min_samples_leaf),\n",
    "                                min_samples_split=float(min_samples_split),\n",
    "                                ccp_alpha=ccp_alpha,\n",
    "                                min_impurity_decrease=min_impurity_decrease,\n",
    "                                min_weight_fraction_leaf=min_weight_fraction_leaf,\n",
    "\n",
    "                                max_depth=int(max_depth),\n",
    "                                max_features=int(max_features),\n",
    "                                max_leaf_nodes=int(max_leaf_nodes),\n",
    "\n",
    "                                n_estimators=int(n_estimators),\n",
    "                                bootstrap=bootstrap,\n",
    "                                oob_score=oob_score if bootstrap else False,\n",
    "                                max_samples=max_samples if bootstrap else None\n",
    "                               )\n",
    "\n",
    "    # we return the best score resulting from cross validation - TimeSeriesSplit here\n",
    "    return sqrt(-cross_val_score(reg, X_train, y_train, cv=tscv, scoring=\"neg_mean_squared_error\", n_jobs=-1).mean())"
   ]
  },
  {
   "cell_type": "code",
   "execution_count": 18,
   "metadata": {},
   "outputs": [],
   "source": [
    "# define the search space\n",
    "space = [\n",
    "    hp.uniform('min_samples_leaf', 0.01, 1.0),\n",
    "    hp.uniform('min_samples_split', 0.01, 1.0),\n",
    "    hp.quniform('max_depth', 2, 18, 1),\n",
    "    hp.quniform('max_features', 1, 18, 2),\n",
    "    hp.quniform('ccp_alpha', 0.01, 1.0, 0.05),\n",
    "    hp.quniform('max_leaf_nodes', 10, 100, 5),\n",
    "    hp.quniform('min_impurity_decrease', 0.01, 1.0, 0.05),\n",
    "    hp.quniform('min_weight_fraction_leaf', 0.01, 0.5, 0.05),\n",
    "\n",
    "\n",
    "    hp.quniform(\"n_estimators\", 100, 500, 10),\n",
    "    hp.choice(\"bootstrap\", [True, False]),\n",
    "    hp.choice(\"oob_score\", [True, False]), \n",
    "    hp.quniform(\"max_samples\", 0.01, 1.0, 0.05)\n",
    "]"
   ]
  },
  {
   "cell_type": "markdown",
   "metadata": {},
   "source": [
    "### Using regular K-Fold CV"
   ]
  },
  {
   "cell_type": "code",
   "execution_count": 20,
   "metadata": {},
   "outputs": [
    {
     "name": "stdout",
     "output_type": "stream",
     "text": [
      "100%|██████████| 100/100 [02:41<00:00,  1.62s/trial, best loss: 10792.451800430958]\n"
     ]
    }
   ],
   "source": [
    "trials = Trials()\n",
    "\n",
    "# to perform a hyperparameter optimization, we pass the optimization function to Hyperopt\n",
    "# Here, we're using K-Fold CV\n",
    "best = fmin(fn=random_forest_regressor_kfold, space=space, algo=tpe.suggest, verbose=True, max_evals=100, trials=trials)"
   ]
  },
  {
   "cell_type": "code",
   "execution_count": 21,
   "metadata": {},
   "outputs": [
    {
     "name": "stdout",
     "output_type": "stream",
     "text": [
      "RMSE:  10792.451800430958\n",
      "NRMSE:  0.15935463190548618\n"
     ]
    }
   ],
   "source": [
    "# inspect the model's performance\n",
    "rmse = trials.best_trial['result']['loss']\n",
    "print(\"RMSE: \", rmse)\n",
    "print(\"NRMSE: \", rmse / (y_test.max() - y_test.min()))"
   ]
  },
  {
   "cell_type": "code",
   "execution_count": 23,
   "metadata": {},
   "outputs": [
    {
     "data": {
      "text/plain": [
       "{'bootstrap': 0,\n",
       " 'ccp_alpha': 0.45,\n",
       " 'max_depth': 4.0,\n",
       " 'max_features': 6.0,\n",
       " 'max_leaf_nodes': 20.0,\n",
       " 'max_samples': 0.8,\n",
       " 'min_impurity_decrease': 0.25,\n",
       " 'min_samples_leaf': 0.04672972635371414,\n",
       " 'min_samples_split': 0.026563574755124053,\n",
       " 'min_weight_fraction_leaf': 0.1,\n",
       " 'n_estimators': 100.0,\n",
       " 'oob_score': 1}"
      ]
     },
     "execution_count": 23,
     "metadata": {},
     "output_type": "execute_result"
    }
   ],
   "source": [
    "# inspect the tuned hyperparameters\n",
    "best"
   ]
  },
  {
   "cell_type": "code",
   "execution_count": 24,
   "metadata": {},
   "outputs": [
    {
     "name": "stdout",
     "output_type": "stream",
     "text": [
      "RMSE:  12126.06815997252\n",
      "NRMSE:  0.17904598174958686\n"
     ]
    }
   ],
   "source": [
    "# Train the model on the whole dataset and predict unseen data to assess it's real performance\n",
    "\n",
    "# get optimized hyperparameters from result\n",
    "bootstrap, ccp_alpha, max_depth, max_features, max_leaf_nodes, max_samples, min_impurity_decrease, min_samples_leaf, min_samples_split, min_weight_fraction_leaf, n_estimators, oob_score = best.values()\n",
    "\n",
    "# train the Random Forest\n",
    "reg = RandomForestRegressor(random_state=42,\n",
    "\n",
    "                            min_samples_leaf=float(min_samples_leaf),\n",
    "                            min_samples_split=float(min_samples_split),\n",
    "                            ccp_alpha=ccp_alpha,\n",
    "                            min_impurity_decrease=min_impurity_decrease,\n",
    "                            min_weight_fraction_leaf=min_weight_fraction_leaf,\n",
    "\n",
    "                            max_depth=int(max_depth),\n",
    "                            max_features=int(max_features),\n",
    "                            max_leaf_nodes=int(max_leaf_nodes),\n",
    "\n",
    "                            n_estimators=int(n_estimators),\n",
    "                            bootstrap=bootstrap,\n",
    "                            oob_score=oob_score if bootstrap else False,\n",
    "                            max_samples=max_samples if bootstrap else None\n",
    "                        )\n",
    "\n",
    "# predict on whole dataset\n",
    "rf.fit(X_train, y_train)\n",
    "y_pred = rf.predict(X_test)\n",
    "rmse = sqrt(mean_squared_error(y_test, y_pred))\n",
    "print(\"RMSE: \", rmse)\n",
    "print(\"NRMSE: \", rmse / (y_test.max() - y_test.min()))"
   ]
  },
  {
   "cell_type": "markdown",
   "metadata": {},
   "source": [
    "### using TimeSeriesSplit"
   ]
  },
  {
   "cell_type": "code",
   "execution_count": 26,
   "metadata": {},
   "outputs": [
    {
     "name": "stdout",
     "output_type": "stream",
     "text": [
      "100%|██████████| 100/100 [03:59<00:00,  2.39s/trial, best loss: 10689.787200612356]\n"
     ]
    }
   ],
   "source": [
    "trials = Trials()\n",
    "\n",
    "# to perform a hyperparameter optimization, we pass the optimization function to Hyperopt\n",
    "# Here, we're using K-Fold CV\n",
    "best = fmin(fn=random_forest_regressor_tscv, space=space, algo=tpe.suggest, verbose=True, max_evals=100, trials=trials)"
   ]
  },
  {
   "cell_type": "code",
   "execution_count": 27,
   "metadata": {},
   "outputs": [
    {
     "name": "stdout",
     "output_type": "stream",
     "text": [
      "RMSE:  10689.787200612356\n",
      "NRMSE:  0.1578387502674358\n"
     ]
    }
   ],
   "source": [
    "# inspect the model's performance\n",
    "rmse = trials.best_trial['result']['loss']\n",
    "print(\"RMSE: \", rmse)\n",
    "print(\"NRMSE: \", rmse / (y_test.max() - y_test.min()))"
   ]
  },
  {
   "cell_type": "code",
   "execution_count": 28,
   "metadata": {},
   "outputs": [
    {
     "data": {
      "text/plain": [
       "{'bootstrap': 1,\n",
       " 'ccp_alpha': 0.30000000000000004,\n",
       " 'max_depth': 13.0,\n",
       " 'max_features': 4.0,\n",
       " 'max_leaf_nodes': 95.0,\n",
       " 'max_samples': 0.9500000000000001,\n",
       " 'min_impurity_decrease': 0.25,\n",
       " 'min_samples_leaf': 0.027646921143988423,\n",
       " 'min_samples_split': 0.06002148092561177,\n",
       " 'min_weight_fraction_leaf': 0.0,\n",
       " 'n_estimators': 250.0,\n",
       " 'oob_score': 1}"
      ]
     },
     "execution_count": 28,
     "metadata": {},
     "output_type": "execute_result"
    }
   ],
   "source": [
    "# inspect the tuned hyperparameters\n",
    "best"
   ]
  },
  {
   "cell_type": "code",
   "execution_count": 33,
   "metadata": {},
   "outputs": [
    {
     "name": "stdout",
     "output_type": "stream",
     "text": [
      "RMSE:  12126.06815997252\n",
      "NRMSE:  0.17904598174958686\n"
     ]
    }
   ],
   "source": [
    "# Train the model on the whole dataset and predict unseen data to assess it's real performance\n",
    "\n",
    "# get optimized hyperparameters from result\n",
    "bootstrap, ccp_alpha, max_depth, max_features, max_leaf_nodes, max_samples, min_impurity_decrease, min_samples_leaf, min_samples_split, min_weight_fraction_leaf, n_estimators, oob_score = best.values()\n",
    "\n",
    "# train the Random Forest\n",
    "reg = RandomForestRegressor(random_state=42,\n",
    "\n",
    "                            min_samples_leaf=float(min_samples_leaf),\n",
    "                            min_samples_split=float(min_samples_split),\n",
    "                            ccp_alpha=ccp_alpha,\n",
    "                            min_impurity_decrease=min_impurity_decrease,\n",
    "                            min_weight_fraction_leaf=min_weight_fraction_leaf,\n",
    "\n",
    "                            max_depth=int(max_depth),\n",
    "                            max_features=int(max_features),\n",
    "                            max_leaf_nodes=int(max_leaf_nodes),\n",
    "\n",
    "                            n_estimators=int(n_estimators),\n",
    "                            bootstrap=bootstrap,\n",
    "                            oob_score=oob_score if bootstrap else False,\n",
    "                            max_samples=max_samples if bootstrap else None\n",
    "                        )\n",
    "\n",
    "# predict on whole dataset\n",
    "rf.fit(X_train, y_train)\n",
    "y_pred = rf.predict(X_test)\n",
    "rmse = sqrt(mean_squared_error(y_test, y_pred))\n",
    "print(\"RMSE: \", rmse)\n",
    "print(\"NRMSE: \", rmse / (y_test.max() - y_test.min()))"
   ]
  },
  {
   "cell_type": "code",
   "execution_count": null,
   "metadata": {},
   "outputs": [],
   "source": []
  }
 ],
 "metadata": {
  "kernelspec": {
   "display_name": "Python 3",
   "language": "python",
   "name": "python3"
  },
  "language_info": {
   "codemirror_mode": {
    "name": "ipython",
    "version": 3
   },
   "file_extension": ".py",
   "mimetype": "text/x-python",
   "name": "python",
   "nbconvert_exporter": "python",
   "pygments_lexer": "ipython3",
   "version": "3.11.6"
  }
 },
 "nbformat": 4,
 "nbformat_minor": 2
}
