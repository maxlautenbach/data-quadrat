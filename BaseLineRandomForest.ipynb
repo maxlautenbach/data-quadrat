{
 "cells": [
  {
   "cell_type": "code",
   "execution_count": null,
   "metadata": {},
   "outputs": [],
   "source": [
    "import pandas as pd\n",
    "from sklearn.model_selection import train_test_split\n",
    "import itertools\n",
    "import matplotlib.pyplot as plt\n",
    "from sklearn.preprocessing import *\n",
    "from sklearn.linear_model import LinearRegression\n",
    "from sklearn.metrics import mean_squared_error, r2_score\n",
    "from math import sqrt\n",
    "from sklearn.tree import RandomForestRegressor\n",
    "import numpy as np\n",
    "from sklearn.model_selection import GridSearchCV\n",
    "from sklearn.pipeline import Pipeline\n",
    "import matplotlib.pyplot as plt\n",
    "from sklearn import tree\n",
    "from sklearn import preprocessing\n",
    "import matplotlib.pyplot as plt\n",
    "from sklearn.tree import plot_tree"
   ]
  },
  {
   "cell_type": "code",
   "execution_count": null,
   "metadata": {},
   "outputs": [],
   "source": [
    "import data_preprocessing\n",
    "\n",
    "energy_consumption_data_train, energy_consumption_data_test = data_preprocessing.preprocess_data(\"Energy Consumption Dataset.csv\")\n",
    "\n",
    "energy_consumption_data_train.head()"
   ]
  },
  {
   "cell_type": "code",
   "execution_count": null,
   "metadata": {},
   "outputs": [],
   "source": [
    "gridParams = {\n",
    "    'n_estimators': [10, 50, 100, 200, 500],\n",
    "    'max_depth': [None, 10, 50, 100],\n",
    "    'min_samples_split': [2, 5, 10],\n",
    "    'min_samples_leaf': [1, 2, 4],\n",
    "    'max_features': ['auto', 'sqrt', 'log2', None],\n",
    "    'bootstrap': [True, False],\n",
    "    'oob_score': [True, False],\n",
    "    'max_samples': [None, 0.5, 0.8],\n",
    "    'ccp_alpha': [0.0, 0.1, 0.5],\n",
    "    'max_leaf_nodes': [None, 10, 50, 100],\n",
    "    'min_impurity_decrease': [0.0, 0.1, 0.5],\n",
    "    'min_weight_fraction_leaf': [0.0, 0.1, 0.5],\n",
    "}\n",
    "\n",
    "regressor = RandomForestRegressor(random_state=42, n_jobs=-1)\n",
    "\n",
    "X_TRAIN = energy_consumption_data_train[energy_consumption_data_train.columns[:-1]]\n",
    "Y_TRAIN = energy_consumption_data_train['Energy Consumption']\n",
    "\n",
    "gridSearch = GridSearchCV(regressor, gridParams, cv=10, n_jobs=-1, scoring='neg_mean_squared_error')\n",
    "gridSearch.fit(X_TRAIN, Y_TRAIN)\n",
    "\n",
    "X_TEST = energy_consumption_data_test[energy_consumption_data_test.columns[:-1]]\n",
    "Y_TEST = energy_consumption_data_test['Energy Consumption']\n",
    "\n",
    "bestRegressor = gridSearch.best_estimator_\n",
    "bestRegressor.fit(X_TRAIN, Y_TRAIN)\n",
    "Y_PRED = bestRegressor.predict(X_TEST)\n",
    "\n",
    "print(\"Best Parameters: \", gridSearch.best_params_)\n",
    "print(\"Best Estimator: \", gridSearch.best_estimator_)\n",
    "print(\"Best Score (MSE): \", gridSearch.best_score_)\n",
    "print(\"RMSE: \", sqrt(mean_squared_error(Y_TEST, Y_PRED)))\n",
    "print(\"NRMSE: \", sqrt(mean_squared_error(Y_TEST, Y_PRED)) / (Y_TEST.max() - Y_TEST.min()))\n",
    "print(\"R2 Score: \", r2_score(Y_TEST, Y_PRED))"
   ]
  }
 ],
 "metadata": {
  "language_info": {
   "name": "python"
  }
 },
 "nbformat": 4,
 "nbformat_minor": 2
}
