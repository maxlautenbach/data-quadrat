{
 "cells": [
  {
   "cell_type": "code",
   "execution_count": 10,
   "metadata": {
    "collapsed": true,
    "ExecuteTime": {
     "end_time": "2023-10-11T16:31:17.193387Z",
     "start_time": "2023-10-11T16:31:17.148956Z"
    }
   },
   "outputs": [],
   "source": [
    "from tqdm import tqdm\n",
    "from requests import request\n",
    "import pandas as pd"
   ]
  },
  {
   "cell_type": "code",
   "execution_count": 11,
   "outputs": [],
   "source": [
    "energy_consumption_dataset = pd.DataFrame()"
   ],
   "metadata": {
    "collapsed": false,
    "ExecuteTime": {
     "end_time": "2023-10-11T16:31:17.196531Z",
     "start_time": "2023-10-11T16:31:17.194889Z"
    }
   }
  },
  {
   "cell_type": "code",
   "execution_count": 12,
   "outputs": [],
   "source": [
    "res = request(\"GET\", 'https://www.smard.de/app/chart_data/410/DE/index_hour.json')\n",
    "timestamps = res.json()[\"timestamps\"]"
   ],
   "metadata": {
    "collapsed": false,
    "ExecuteTime": {
     "end_time": "2023-10-11T16:31:17.314499Z",
     "start_time": "2023-10-11T16:31:17.197793Z"
    }
   }
  },
  {
   "cell_type": "code",
   "execution_count": 13,
   "outputs": [
    {
     "name": "stderr",
     "output_type": "stream",
     "text": [
      "100%|██████████| 20/20 [00:02<00:00,  8.68it/s]\n"
     ]
    }
   ],
   "source": [
    "time_series = []\n",
    "for timestamp in tqdm(timestamps[:20]):\n",
    "    res = request(\"GET\", \"https://www.smard.de/app/chart_data/410/DE/410_DE_hour_\" +str(timestamp)+\".json\")\n",
    "    body = res.json()[\"series\"]\n",
    "    time_series += body"
   ],
   "metadata": {
    "collapsed": false,
    "ExecuteTime": {
     "end_time": "2023-10-11T16:31:19.641684Z",
     "start_time": "2023-10-11T16:31:17.315578Z"
    }
   }
  },
  {
   "cell_type": "code",
   "execution_count": 32,
   "outputs": [
    {
     "data": {
      "text/plain": "                     Energy Consumption\n2014-12-31 23:00:00            44600.25\n2015-01-01 00:00:00            43454.75\n2015-01-01 01:00:00            41963.25\n2015-01-01 02:00:00            40617.75\n2015-01-01 03:00:00            39936.75",
      "text/html": "<div>\n<style scoped>\n    .dataframe tbody tr th:only-of-type {\n        vertical-align: middle;\n    }\n\n    .dataframe tbody tr th {\n        vertical-align: top;\n    }\n\n    .dataframe thead th {\n        text-align: right;\n    }\n</style>\n<table border=\"1\" class=\"dataframe\">\n  <thead>\n    <tr style=\"text-align: right;\">\n      <th></th>\n      <th>Energy Consumption</th>\n    </tr>\n  </thead>\n  <tbody>\n    <tr>\n      <th>2014-12-31 23:00:00</th>\n      <td>44600.25</td>\n    </tr>\n    <tr>\n      <th>2015-01-01 00:00:00</th>\n      <td>43454.75</td>\n    </tr>\n    <tr>\n      <th>2015-01-01 01:00:00</th>\n      <td>41963.25</td>\n    </tr>\n    <tr>\n      <th>2015-01-01 02:00:00</th>\n      <td>40617.75</td>\n    </tr>\n    <tr>\n      <th>2015-01-01 03:00:00</th>\n      <td>39936.75</td>\n    </tr>\n  </tbody>\n</table>\n</div>"
     },
     "execution_count": 32,
     "metadata": {},
     "output_type": "execute_result"
    }
   ],
   "source": [
    "energy_consumption = pd.DataFrame(time_series)\n",
    "energy_consumption.index = [pd.Timestamp(x, unit='ms') for x in energy_consumption.iloc[:, 0]]\n",
    "energy_consumption = energy_consumption.drop(columns=0)\n",
    "energy_consumption = energy_consumption.dropna()\n",
    "energy_consumption.columns = [\"Energy Consumption\"]\n",
    "energy_consumption.head()"
   ],
   "metadata": {
    "collapsed": false,
    "ExecuteTime": {
     "end_time": "2023-10-11T16:38:26.882231Z",
     "start_time": "2023-10-11T16:38:26.873689Z"
    }
   }
  },
  {
   "cell_type": "code",
   "execution_count": 14,
   "outputs": [],
   "source": [
    "wind_data = pd.read_csv(\"produkt_f_stunde_19750701_20221231_03987.txt\", sep=\";\")\n",
    "solar_data = pd.read_csv(\"produkt_st_stunde_19451231_20230930_03987.txt\", sep=\";\")\n",
    "temperature_data = pd.read_csv(\"produkt_tu_stunde_18930101_20221231_03987.txt\", sep=\";\")\n",
    "precipitation_data = pd.read_csv(\"produkt_rr_stunde_19950901_20221231_03987.txt\", sep=\";\")"
   ],
   "metadata": {
    "collapsed": false,
    "ExecuteTime": {
     "end_time": "2023-10-11T16:31:20.773743Z",
     "start_time": "2023-10-11T16:31:19.647542Z"
    }
   }
  },
  {
   "cell_type": "code",
   "execution_count": 15,
   "outputs": [
    {
     "data": {
      "text/plain": "   STATIONS_ID  MESS_DATUM  QN_8    FF    DD  eor\n0         3987  1975070100     1   5.0   330  eor\n1         3987  1975070106     1   3.0   340  eor\n2         3987  1975070112     1   6.0   330  eor\n3         3987  1975070118     1   7.0   360  eor\n4         3987  1975070200     1   4.0   340  eor",
      "text/html": "<div>\n<style scoped>\n    .dataframe tbody tr th:only-of-type {\n        vertical-align: middle;\n    }\n\n    .dataframe tbody tr th {\n        vertical-align: top;\n    }\n\n    .dataframe thead th {\n        text-align: right;\n    }\n</style>\n<table border=\"1\" class=\"dataframe\">\n  <thead>\n    <tr style=\"text-align: right;\">\n      <th></th>\n      <th>STATIONS_ID</th>\n      <th>MESS_DATUM</th>\n      <th>QN_8</th>\n      <th>FF</th>\n      <th>DD</th>\n      <th>eor</th>\n    </tr>\n  </thead>\n  <tbody>\n    <tr>\n      <th>0</th>\n      <td>3987</td>\n      <td>1975070100</td>\n      <td>1</td>\n      <td>5.0</td>\n      <td>330</td>\n      <td>eor</td>\n    </tr>\n    <tr>\n      <th>1</th>\n      <td>3987</td>\n      <td>1975070106</td>\n      <td>1</td>\n      <td>3.0</td>\n      <td>340</td>\n      <td>eor</td>\n    </tr>\n    <tr>\n      <th>2</th>\n      <td>3987</td>\n      <td>1975070112</td>\n      <td>1</td>\n      <td>6.0</td>\n      <td>330</td>\n      <td>eor</td>\n    </tr>\n    <tr>\n      <th>3</th>\n      <td>3987</td>\n      <td>1975070118</td>\n      <td>1</td>\n      <td>7.0</td>\n      <td>360</td>\n      <td>eor</td>\n    </tr>\n    <tr>\n      <th>4</th>\n      <td>3987</td>\n      <td>1975070200</td>\n      <td>1</td>\n      <td>4.0</td>\n      <td>340</td>\n      <td>eor</td>\n    </tr>\n  </tbody>\n</table>\n</div>"
     },
     "execution_count": 15,
     "metadata": {},
     "output_type": "execute_result"
    }
   ],
   "source": [
    "wind_data =\n",
    "wind_data.head()"
   ],
   "metadata": {
    "collapsed": false,
    "ExecuteTime": {
     "end_time": "2023-10-11T16:31:20.780292Z",
     "start_time": "2023-10-11T16:31:20.777456Z"
    }
   }
  },
  {
   "cell_type": "code",
   "execution_count": 16,
   "outputs": [
    {
     "data": {
      "text/plain": "   STATIONS_ID     MESS_DATUM  QN_592  ATMO_LBERG  FD_LBERG  FG_LBERG  \\\n0         3987  1945123101:10       1      -999.0       0.0       0.0   \n1         3987  1945123102:10       1      -999.0       0.0       0.0   \n2         3987  1945123103:10       1      -999.0       0.0       0.0   \n3         3987  1945123104:10       1      -999.0       0.0       0.0   \n4         3987  1945123105:10       1      -999.0       0.0       0.0   \n\n   SD_LBERG   ZENIT MESS_DATUM_WOZ  eor  \n0         0  146.08  1945123102:00  eor  \n1         0  139.16  1945123103:00  eor  \n2         0  130.76  1945123104:00  eor  \n3         0  121.73  1945123105:00  eor  \n4         0  112.61  1945123106:00  eor  ",
      "text/html": "<div>\n<style scoped>\n    .dataframe tbody tr th:only-of-type {\n        vertical-align: middle;\n    }\n\n    .dataframe tbody tr th {\n        vertical-align: top;\n    }\n\n    .dataframe thead th {\n        text-align: right;\n    }\n</style>\n<table border=\"1\" class=\"dataframe\">\n  <thead>\n    <tr style=\"text-align: right;\">\n      <th></th>\n      <th>STATIONS_ID</th>\n      <th>MESS_DATUM</th>\n      <th>QN_592</th>\n      <th>ATMO_LBERG</th>\n      <th>FD_LBERG</th>\n      <th>FG_LBERG</th>\n      <th>SD_LBERG</th>\n      <th>ZENIT</th>\n      <th>MESS_DATUM_WOZ</th>\n      <th>eor</th>\n    </tr>\n  </thead>\n  <tbody>\n    <tr>\n      <th>0</th>\n      <td>3987</td>\n      <td>1945123101:10</td>\n      <td>1</td>\n      <td>-999.0</td>\n      <td>0.0</td>\n      <td>0.0</td>\n      <td>0</td>\n      <td>146.08</td>\n      <td>1945123102:00</td>\n      <td>eor</td>\n    </tr>\n    <tr>\n      <th>1</th>\n      <td>3987</td>\n      <td>1945123102:10</td>\n      <td>1</td>\n      <td>-999.0</td>\n      <td>0.0</td>\n      <td>0.0</td>\n      <td>0</td>\n      <td>139.16</td>\n      <td>1945123103:00</td>\n      <td>eor</td>\n    </tr>\n    <tr>\n      <th>2</th>\n      <td>3987</td>\n      <td>1945123103:10</td>\n      <td>1</td>\n      <td>-999.0</td>\n      <td>0.0</td>\n      <td>0.0</td>\n      <td>0</td>\n      <td>130.76</td>\n      <td>1945123104:00</td>\n      <td>eor</td>\n    </tr>\n    <tr>\n      <th>3</th>\n      <td>3987</td>\n      <td>1945123104:10</td>\n      <td>1</td>\n      <td>-999.0</td>\n      <td>0.0</td>\n      <td>0.0</td>\n      <td>0</td>\n      <td>121.73</td>\n      <td>1945123105:00</td>\n      <td>eor</td>\n    </tr>\n    <tr>\n      <th>4</th>\n      <td>3987</td>\n      <td>1945123105:10</td>\n      <td>1</td>\n      <td>-999.0</td>\n      <td>0.0</td>\n      <td>0.0</td>\n      <td>0</td>\n      <td>112.61</td>\n      <td>1945123106:00</td>\n      <td>eor</td>\n    </tr>\n  </tbody>\n</table>\n</div>"
     },
     "execution_count": 16,
     "metadata": {},
     "output_type": "execute_result"
    }
   ],
   "source": [
    "solar_data.head()"
   ],
   "metadata": {
    "collapsed": false,
    "ExecuteTime": {
     "end_time": "2023-10-11T16:31:20.788439Z",
     "start_time": "2023-10-11T16:31:20.785714Z"
    }
   }
  },
  {
   "cell_type": "code",
   "execution_count": 17,
   "outputs": [
    {
     "data": {
      "text/plain": "   STATIONS_ID  MESS_DATUM  QN_9  TT_TU  RF_TU  eor\n0         3987  1893010101     5  -12.3   84.0  eor\n1         3987  1893010102     5  -10.9   84.0  eor\n2         3987  1893010103     5   -9.9   84.0  eor\n3         3987  1893010104     5   -9.4   84.0  eor\n4         3987  1893010105     5   -8.9   84.0  eor",
      "text/html": "<div>\n<style scoped>\n    .dataframe tbody tr th:only-of-type {\n        vertical-align: middle;\n    }\n\n    .dataframe tbody tr th {\n        vertical-align: top;\n    }\n\n    .dataframe thead th {\n        text-align: right;\n    }\n</style>\n<table border=\"1\" class=\"dataframe\">\n  <thead>\n    <tr style=\"text-align: right;\">\n      <th></th>\n      <th>STATIONS_ID</th>\n      <th>MESS_DATUM</th>\n      <th>QN_9</th>\n      <th>TT_TU</th>\n      <th>RF_TU</th>\n      <th>eor</th>\n    </tr>\n  </thead>\n  <tbody>\n    <tr>\n      <th>0</th>\n      <td>3987</td>\n      <td>1893010101</td>\n      <td>5</td>\n      <td>-12.3</td>\n      <td>84.0</td>\n      <td>eor</td>\n    </tr>\n    <tr>\n      <th>1</th>\n      <td>3987</td>\n      <td>1893010102</td>\n      <td>5</td>\n      <td>-10.9</td>\n      <td>84.0</td>\n      <td>eor</td>\n    </tr>\n    <tr>\n      <th>2</th>\n      <td>3987</td>\n      <td>1893010103</td>\n      <td>5</td>\n      <td>-9.9</td>\n      <td>84.0</td>\n      <td>eor</td>\n    </tr>\n    <tr>\n      <th>3</th>\n      <td>3987</td>\n      <td>1893010104</td>\n      <td>5</td>\n      <td>-9.4</td>\n      <td>84.0</td>\n      <td>eor</td>\n    </tr>\n    <tr>\n      <th>4</th>\n      <td>3987</td>\n      <td>1893010105</td>\n      <td>5</td>\n      <td>-8.9</td>\n      <td>84.0</td>\n      <td>eor</td>\n    </tr>\n  </tbody>\n</table>\n</div>"
     },
     "execution_count": 17,
     "metadata": {},
     "output_type": "execute_result"
    }
   ],
   "source": [
    "temperature_data.head()"
   ],
   "metadata": {
    "collapsed": false,
    "ExecuteTime": {
     "end_time": "2023-10-11T16:31:20.793938Z",
     "start_time": "2023-10-11T16:31:20.791667Z"
    }
   }
  },
  {
   "cell_type": "code",
   "execution_count": 18,
   "outputs": [
    {
     "data": {
      "text/plain": "   STATIONS_ID  MESS_DATUM  QN_8    R1  RS_IND  WRTR  eor\n0         3987  1995090100     1   1.3       1  -999  eor\n1         3987  1995090101     1   1.7       1  -999  eor\n2         3987  1995090102     1   0.5       1  -999  eor\n3         3987  1995090103     1   0.5       1  -999  eor\n4         3987  1995090104     1   0.9       1  -999  eor",
      "text/html": "<div>\n<style scoped>\n    .dataframe tbody tr th:only-of-type {\n        vertical-align: middle;\n    }\n\n    .dataframe tbody tr th {\n        vertical-align: top;\n    }\n\n    .dataframe thead th {\n        text-align: right;\n    }\n</style>\n<table border=\"1\" class=\"dataframe\">\n  <thead>\n    <tr style=\"text-align: right;\">\n      <th></th>\n      <th>STATIONS_ID</th>\n      <th>MESS_DATUM</th>\n      <th>QN_8</th>\n      <th>R1</th>\n      <th>RS_IND</th>\n      <th>WRTR</th>\n      <th>eor</th>\n    </tr>\n  </thead>\n  <tbody>\n    <tr>\n      <th>0</th>\n      <td>3987</td>\n      <td>1995090100</td>\n      <td>1</td>\n      <td>1.3</td>\n      <td>1</td>\n      <td>-999</td>\n      <td>eor</td>\n    </tr>\n    <tr>\n      <th>1</th>\n      <td>3987</td>\n      <td>1995090101</td>\n      <td>1</td>\n      <td>1.7</td>\n      <td>1</td>\n      <td>-999</td>\n      <td>eor</td>\n    </tr>\n    <tr>\n      <th>2</th>\n      <td>3987</td>\n      <td>1995090102</td>\n      <td>1</td>\n      <td>0.5</td>\n      <td>1</td>\n      <td>-999</td>\n      <td>eor</td>\n    </tr>\n    <tr>\n      <th>3</th>\n      <td>3987</td>\n      <td>1995090103</td>\n      <td>1</td>\n      <td>0.5</td>\n      <td>1</td>\n      <td>-999</td>\n      <td>eor</td>\n    </tr>\n    <tr>\n      <th>4</th>\n      <td>3987</td>\n      <td>1995090104</td>\n      <td>1</td>\n      <td>0.9</td>\n      <td>1</td>\n      <td>-999</td>\n      <td>eor</td>\n    </tr>\n  </tbody>\n</table>\n</div>"
     },
     "execution_count": 18,
     "metadata": {},
     "output_type": "execute_result"
    }
   ],
   "source": [
    "precipitation_data.head()"
   ],
   "metadata": {
    "collapsed": false,
    "ExecuteTime": {
     "end_time": "2023-10-11T16:31:20.808098Z",
     "start_time": "2023-10-11T16:31:20.796999Z"
    }
   }
  },
  {
   "cell_type": "code",
   "execution_count": 18,
   "outputs": [],
   "source": [],
   "metadata": {
    "collapsed": false,
    "ExecuteTime": {
     "end_time": "2023-10-11T16:31:20.849926Z",
     "start_time": "2023-10-11T16:31:20.800942Z"
    }
   }
  }
 ],
 "metadata": {
  "kernelspec": {
   "display_name": "Python 3",
   "language": "python",
   "name": "python3"
  },
  "language_info": {
   "codemirror_mode": {
    "name": "ipython",
    "version": 2
   },
   "file_extension": ".py",
   "mimetype": "text/x-python",
   "name": "python",
   "nbconvert_exporter": "python",
   "pygments_lexer": "ipython2",
   "version": "2.7.6"
  }
 },
 "nbformat": 4,
 "nbformat_minor": 0
}
