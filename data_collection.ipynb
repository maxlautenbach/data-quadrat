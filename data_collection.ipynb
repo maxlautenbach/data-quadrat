{
 "cells": [
  {
   "cell_type": "code",
   "execution_count": 2,
   "metadata": {
    "collapsed": true,
    "ExecuteTime": {
     "end_time": "2023-10-19T15:25:32.609877Z",
     "start_time": "2023-10-19T15:25:27.652422Z"
    }
   },
   "outputs": [],
   "source": [
    "from tqdm import tqdm\n",
    "from requests import request\n",
    "import pandas as pd\n",
    "from os import listdir\n",
    "from os.path import isfile, join"
   ]
  },
  {
   "cell_type": "code",
   "execution_count": 3,
   "metadata": {
    "collapsed": false,
    "ExecuteTime": {
     "end_time": "2023-10-19T15:25:32.716861Z",
     "start_time": "2023-10-19T15:25:32.612154Z"
    }
   },
   "outputs": [],
   "source": [
    "res = request(\"GET\", 'https://www.smard.de/app/chart_data/4359/DE/index_hour.json')\n",
    "timestamps = res.json()[\"timestamps\"]"
   ]
  },
  {
   "cell_type": "code",
   "execution_count": 4,
   "metadata": {
    "collapsed": false,
    "ExecuteTime": {
     "end_time": "2023-10-19T15:26:04.842103Z",
     "start_time": "2023-10-19T15:25:32.717940Z"
    }
   },
   "outputs": [
    {
     "name": "stderr",
     "output_type": "stream",
     "text": [
      "100%|██████████| 460/460 [00:32<00:00, 14.35it/s]\n"
     ]
    }
   ],
   "source": [
    "time_series = []\n",
    "for timestamp in tqdm(timestamps):\n",
    "    res = request(\"GET\", \"https://www.smard.de/app/chart_data/4359/DE/4359_DE_hour_\" +str(timestamp)+\".json\")\n",
    "    body = res.json()[\"series\"]\n",
    "    time_series += body"
   ]
  },
  {
   "cell_type": "code",
   "execution_count": 5,
   "metadata": {
    "collapsed": false,
    "ExecuteTime": {
     "end_time": "2023-10-19T15:26:05.442128Z",
     "start_time": "2023-10-19T15:26:04.826863Z"
    }
   },
   "outputs": [
    {
     "data": {
      "text/plain": "                     Energy Consumption\n2014-12-31 23:00:00            35955.75\n2015-01-01 00:00:00            34641.00\n2015-01-01 01:00:00            32909.25\n2015-01-01 02:00:00            31548.00\n2015-01-01 03:00:00            30773.50\n...                                 ...\n2023-10-19 09:00:00            40156.75\n2023-10-19 10:00:00            39254.50\n2023-10-19 11:00:00            38372.75\n2023-10-19 12:00:00            37876.75\n2023-10-19 13:00:00            39151.00\n\n[77127 rows x 1 columns]",
      "text/html": "<div>\n<style scoped>\n    .dataframe tbody tr th:only-of-type {\n        vertical-align: middle;\n    }\n\n    .dataframe tbody tr th {\n        vertical-align: top;\n    }\n\n    .dataframe thead th {\n        text-align: right;\n    }\n</style>\n<table border=\"1\" class=\"dataframe\">\n  <thead>\n    <tr style=\"text-align: right;\">\n      <th></th>\n      <th>Energy Consumption</th>\n    </tr>\n  </thead>\n  <tbody>\n    <tr>\n      <th>2014-12-31 23:00:00</th>\n      <td>35955.75</td>\n    </tr>\n    <tr>\n      <th>2015-01-01 00:00:00</th>\n      <td>34641.00</td>\n    </tr>\n    <tr>\n      <th>2015-01-01 01:00:00</th>\n      <td>32909.25</td>\n    </tr>\n    <tr>\n      <th>2015-01-01 02:00:00</th>\n      <td>31548.00</td>\n    </tr>\n    <tr>\n      <th>2015-01-01 03:00:00</th>\n      <td>30773.50</td>\n    </tr>\n    <tr>\n      <th>...</th>\n      <td>...</td>\n    </tr>\n    <tr>\n      <th>2023-10-19 09:00:00</th>\n      <td>40156.75</td>\n    </tr>\n    <tr>\n      <th>2023-10-19 10:00:00</th>\n      <td>39254.50</td>\n    </tr>\n    <tr>\n      <th>2023-10-19 11:00:00</th>\n      <td>38372.75</td>\n    </tr>\n    <tr>\n      <th>2023-10-19 12:00:00</th>\n      <td>37876.75</td>\n    </tr>\n    <tr>\n      <th>2023-10-19 13:00:00</th>\n      <td>39151.00</td>\n    </tr>\n  </tbody>\n</table>\n<p>77127 rows × 1 columns</p>\n</div>"
     },
     "execution_count": 5,
     "metadata": {},
     "output_type": "execute_result"
    }
   ],
   "source": [
    "residual_load_dataset = pd.DataFrame(time_series)\n",
    "residual_load_dataset.index = [pd.Timestamp(x, unit='ms') for x in residual_load_dataset.iloc[:, 0]]\n",
    "residual_load_dataset = residual_load_dataset.drop(columns=0)\n",
    "residual_load_dataset = residual_load_dataset.dropna()\n",
    "residual_load_dataset.columns = [\"Energy Consumption\"]\n",
    "residual_load_dataset"
   ]
  },
  {
   "cell_type": "code",
   "execution_count": 6,
   "metadata": {
    "collapsed": false,
    "ExecuteTime": {
     "end_time": "2023-10-19T15:26:05.451542Z",
     "start_time": "2023-10-19T15:26:05.442447Z"
    }
   },
   "outputs": [],
   "source": [
    "def extract_dwd_data(residual_load_dataset, station_id):\n",
    "    \n",
    "    station_data = [x for x in listdir() if station_id in x]\n",
    "    \n",
    "    wind_data = pd.read_csv([x for x in station_data if \"produkt_f\" in x][0], sep=\";\").iloc[-80000:]\n",
    "    solar_data = pd.read_csv([x for x in station_data if \"produkt_sd\" in x][0], sep=\";\").iloc[-80000:]\n",
    "    temperature_data = pd.read_csv([x for x in station_data if \"produkt_tu\" in x][0], sep=\";\").iloc[-80000:]\n",
    "    precipitation_data = pd.read_csv([x for x in station_data if \"produkt_rr\" in x][0], sep=\";\").iloc[-80000:]\n",
    "    \n",
    "    wind_data.index = [pd.to_datetime(x, format=\"%Y%m%d%H\") for x in wind_data[\"MESS_DATUM\"]]\n",
    "    wind_data = wind_data.drop(columns=\"MESS_DATUM\")\n",
    "    wind_data = wind_data.rename(columns={\"  FF\": \"Wind Velocity for Station \" + station_id})\n",
    "    solar_data.index = [pd.to_datetime(x, format=\"%Y%m%d%H\") for x in solar_data[\"MESS_DATUM\"]]\n",
    "    solar_data = solar_data.drop(columns=\"MESS_DATUM\")\n",
    "    solar_data = solar_data.rename(columns={\"SD_SO\": \"Sun Duration for Station \" + station_id})\n",
    "    temperature_data.index = [pd.to_datetime(x, format=\"%Y%m%d%H\") for x in temperature_data[\"MESS_DATUM\"]]\n",
    "    temperature_data = temperature_data.drop(columns=\"MESS_DATUM\")\n",
    "    temperature_data = temperature_data.rename(columns={\"TT_TU\": \"Air Temperature for Station \" + station_id})\n",
    "    precipitation_data.index = [pd.to_datetime(x, format=\"%Y%m%d%H\") for x in precipitation_data[\"MESS_DATUM\"]]\n",
    "    precipitation_data = precipitation_data.drop(columns=\"MESS_DATUM\")\n",
    "    precipitation_data = precipitation_data.rename(columns={\"  R1\": \"Precipitation Amount for Station \" + station_id})\n",
    "\n",
    "    residual_load_dataset = pd.concat([residual_load_dataset, wind_data[\"Wind Velocity for Station \" + station_id], solar_data[\"Sun Duration for Station \" + station_id], temperature_data[\"Air Temperature for Station \" + station_id], precipitation_data[\"Precipitation Amount for Station \" + station_id]], axis=1)\n",
    "    \n",
    "    return residual_load_dataset"
   ]
  },
  {
   "cell_type": "code",
   "execution_count": 7,
   "metadata": {
    "collapsed": false,
    "ExecuteTime": {
     "end_time": "2023-10-19T15:26:36.521015Z",
     "start_time": "2023-10-19T15:26:05.444990Z"
    }
   },
   "outputs": [],
   "source": [
    "for i in [\"02014\", \"03987\", \"03379\", \"04928\"]:\n",
    "    residual_load_dataset = extract_dwd_data(residual_load_dataset, i)"
   ]
  },
  {
   "cell_type": "code",
   "execution_count": 8,
   "metadata": {
    "collapsed": false,
    "ExecuteTime": {
     "end_time": "2023-10-19T15:26:36.547283Z",
     "start_time": "2023-10-19T15:26:36.522503Z"
    }
   },
   "outputs": [],
   "source": [
    "residual_load_dataset = residual_load_dataset.dropna()"
   ]
  },
  {
   "cell_type": "code",
   "execution_count": 16,
   "metadata": {
    "collapsed": false,
    "ExecuteTime": {
     "end_time": "2023-10-19T15:28:42.407572Z",
     "start_time": "2023-10-19T15:28:42.394176Z"
    }
   },
   "outputs": [],
   "source": [
    "residual_load_dataset[\"Quarter\"] = residual_load_dataset.index\n",
    "residual_load_dataset[\"Quarter\"] = residual_load_dataset[\"Quarter\"].dt.quarter"
   ]
  },
  {
   "cell_type": "code",
   "execution_count": 18,
   "outputs": [],
   "source": [
    "residual_load_dataset[\"Month\"] = [x.month for x in list(residual_load_dataset.index)]"
   ],
   "metadata": {
    "collapsed": false,
    "ExecuteTime": {
     "end_time": "2023-10-19T15:29:32.633345Z",
     "start_time": "2023-10-19T15:29:32.607182Z"
    }
   }
  },
  {
   "cell_type": "code",
   "execution_count": 24,
   "outputs": [
    {
     "data": {
      "text/plain": "                     Wind Velocity for Station 02014  \\\n2015-01-01 03:00:00                              3.7   \n2015-01-01 04:00:00                              4.2   \n2015-01-01 05:00:00                              3.0   \n2015-01-01 06:00:00                              3.8   \n2015-01-01 07:00:00                              3.1   \n...                                              ...   \n2022-12-31 16:00:00                              8.6   \n2022-12-31 17:00:00                              7.1   \n2022-12-31 18:00:00                              7.4   \n2022-12-31 19:00:00                              6.7   \n2022-12-31 20:00:00                              7.1   \n\n                     Sun Duration for Station 02014  \\\n2015-01-01 03:00:00                             0.0   \n2015-01-01 04:00:00                             0.0   \n2015-01-01 05:00:00                             0.0   \n2015-01-01 06:00:00                             0.0   \n2015-01-01 07:00:00                             0.0   \n...                                             ...   \n2022-12-31 16:00:00                             0.0   \n2022-12-31 17:00:00                             0.0   \n2022-12-31 18:00:00                             0.0   \n2022-12-31 19:00:00                             0.0   \n2022-12-31 20:00:00                             0.0   \n\n                     Air Temperature for Station 02014  \\\n2015-01-01 03:00:00                                2.8   \n2015-01-01 04:00:00                                2.5   \n2015-01-01 05:00:00                                2.0   \n2015-01-01 06:00:00                                1.9   \n2015-01-01 07:00:00                                1.4   \n...                                                ...   \n2022-12-31 16:00:00                               16.3   \n2022-12-31 17:00:00                               15.9   \n2022-12-31 18:00:00                               15.7   \n2022-12-31 19:00:00                               16.3   \n2022-12-31 20:00:00                               16.5   \n\n                     Precipitation Amount for Station 02014  \\\n2015-01-01 03:00:00                                     0.0   \n2015-01-01 04:00:00                                     0.0   \n2015-01-01 05:00:00                                     0.0   \n2015-01-01 06:00:00                                     0.0   \n2015-01-01 07:00:00                                     0.0   \n...                                                     ...   \n2022-12-31 16:00:00                                     0.0   \n2022-12-31 17:00:00                                     0.0   \n2022-12-31 18:00:00                                     0.0   \n2022-12-31 19:00:00                                     0.0   \n2022-12-31 20:00:00                                     0.0   \n\n                     Wind Velocity for Station 03987  \\\n2015-01-01 03:00:00                              6.0   \n2015-01-01 04:00:00                              6.7   \n2015-01-01 05:00:00                              5.6   \n2015-01-01 06:00:00                              5.7   \n2015-01-01 07:00:00                              5.5   \n...                                              ...   \n2022-12-31 16:00:00                              6.1   \n2022-12-31 17:00:00                              7.7   \n2022-12-31 18:00:00                              8.6   \n2022-12-31 19:00:00                              6.9   \n2022-12-31 20:00:00                              7.4   \n\n                     Sun Duration for Station 03987  \\\n2015-01-01 03:00:00                             0.0   \n2015-01-01 04:00:00                             0.0   \n2015-01-01 05:00:00                             0.0   \n2015-01-01 06:00:00                             0.0   \n2015-01-01 07:00:00                             0.0   \n...                                             ...   \n2022-12-31 16:00:00                             0.0   \n2022-12-31 17:00:00                             0.0   \n2022-12-31 18:00:00                             0.0   \n2022-12-31 19:00:00                             0.0   \n2022-12-31 20:00:00                             0.0   \n\n                     Air Temperature for Station 03987  \\\n2015-01-01 03:00:00                                3.5   \n2015-01-01 04:00:00                                2.6   \n2015-01-01 05:00:00                                2.2   \n2015-01-01 06:00:00                                2.1   \n2015-01-01 07:00:00                                2.7   \n...                                                ...   \n2022-12-31 16:00:00                               16.3   \n2022-12-31 17:00:00                               16.6   \n2022-12-31 18:00:00                               16.4   \n2022-12-31 19:00:00                               15.8   \n2022-12-31 20:00:00                               15.3   \n\n                     Precipitation Amount for Station 03987  \\\n2015-01-01 03:00:00                                     0.0   \n2015-01-01 04:00:00                                     0.0   \n2015-01-01 05:00:00                                     0.0   \n2015-01-01 06:00:00                                     0.0   \n2015-01-01 07:00:00                                     0.0   \n...                                                     ...   \n2022-12-31 16:00:00                                     0.0   \n2022-12-31 17:00:00                                     0.0   \n2022-12-31 18:00:00                                     0.0   \n2022-12-31 19:00:00                                     0.0   \n2022-12-31 20:00:00                                     0.0   \n\n                     Wind Velocity for Station 03379  \\\n2015-01-01 03:00:00                           -999.0   \n2015-01-01 04:00:00                           -999.0   \n2015-01-01 05:00:00                           -999.0   \n2015-01-01 06:00:00                           -999.0   \n2015-01-01 07:00:00                           -999.0   \n...                                              ...   \n2022-12-31 16:00:00                              1.4   \n2022-12-31 17:00:00                              1.8   \n2022-12-31 18:00:00                              2.5   \n2022-12-31 19:00:00                              2.2   \n2022-12-31 20:00:00                              2.2   \n\n                     Sun Duration for Station 03379  \\\n2015-01-01 03:00:00                             0.0   \n2015-01-01 04:00:00                             0.0   \n2015-01-01 05:00:00                             0.0   \n2015-01-01 06:00:00                             0.0   \n2015-01-01 07:00:00                             0.0   \n...                                             ...   \n2022-12-31 16:00:00                             0.0   \n2022-12-31 17:00:00                             0.0   \n2022-12-31 18:00:00                             0.0   \n2022-12-31 19:00:00                             0.0   \n2022-12-31 20:00:00                             0.0   \n\n                     Air Temperature for Station 03379  \\\n2015-01-01 03:00:00                               -3.2   \n2015-01-01 04:00:00                               -3.3   \n2015-01-01 05:00:00                               -4.3   \n2015-01-01 06:00:00                               -4.5   \n2015-01-01 07:00:00                               -3.9   \n...                                                ...   \n2022-12-31 16:00:00                               12.8   \n2022-12-31 17:00:00                               11.4   \n2022-12-31 18:00:00                               11.9   \n2022-12-31 19:00:00                               11.9   \n2022-12-31 20:00:00                               12.1   \n\n                     Precipitation Amount for Station 03379  \\\n2015-01-01 03:00:00                                     0.0   \n2015-01-01 04:00:00                                     0.0   \n2015-01-01 05:00:00                                     0.0   \n2015-01-01 06:00:00                                     0.0   \n2015-01-01 07:00:00                                     0.0   \n...                                                     ...   \n2022-12-31 16:00:00                                     0.0   \n2022-12-31 17:00:00                                     0.0   \n2022-12-31 18:00:00                                     0.0   \n2022-12-31 19:00:00                                     0.0   \n2022-12-31 20:00:00                                     0.0   \n\n                     Wind Velocity for Station 04928  \\\n2015-01-01 03:00:00                              1.0   \n2015-01-01 04:00:00                              1.8   \n2015-01-01 05:00:00                              3.2   \n2015-01-01 06:00:00                              2.1   \n2015-01-01 07:00:00                              0.2   \n...                                              ...   \n2022-12-31 16:00:00                              3.8   \n2022-12-31 17:00:00                              3.9   \n2022-12-31 18:00:00                              3.5   \n2022-12-31 19:00:00                              5.1   \n2022-12-31 20:00:00                              4.3   \n\n                     Sun Duration for Station 04928  \\\n2015-01-01 03:00:00                             0.0   \n2015-01-01 04:00:00                             0.0   \n2015-01-01 05:00:00                             0.0   \n2015-01-01 06:00:00                             0.0   \n2015-01-01 07:00:00                             0.0   \n...                                             ...   \n2022-12-31 16:00:00                             0.0   \n2022-12-31 17:00:00                             0.0   \n2022-12-31 18:00:00                             0.0   \n2022-12-31 19:00:00                             0.0   \n2022-12-31 20:00:00                             0.0   \n\n                     Air Temperature for Station 04928  \\\n2015-01-01 03:00:00                                0.5   \n2015-01-01 04:00:00                                0.4   \n2015-01-01 05:00:00                                0.5   \n2015-01-01 06:00:00                                0.6   \n2015-01-01 07:00:00                                0.6   \n...                                                ...   \n2022-12-31 16:00:00                               17.3   \n2022-12-31 17:00:00                               17.2   \n2022-12-31 18:00:00                               16.6   \n2022-12-31 19:00:00                               15.8   \n2022-12-31 20:00:00                               15.7   \n\n                     Precipitation Amount for Station 04928  Quarter  Month  \\\n2015-01-01 03:00:00                                     0.0        1      1   \n2015-01-01 04:00:00                                     0.0        1      1   \n2015-01-01 05:00:00                                     0.0        1      1   \n2015-01-01 06:00:00                                     0.0        1      1   \n2015-01-01 07:00:00                                     0.0        1      1   \n...                                                     ...      ...    ...   \n2022-12-31 16:00:00                                     0.0        4     12   \n2022-12-31 17:00:00                                     0.0        4     12   \n2022-12-31 18:00:00                                     0.0        4     12   \n2022-12-31 19:00:00                                     0.0        4     12   \n2022-12-31 20:00:00                                     0.0        4     12   \n\n                     Energy Consumption  \n2015-01-01 03:00:00            30773.50  \n2015-01-01 04:00:00            30040.75  \n2015-01-01 05:00:00            28161.50  \n2015-01-01 06:00:00            27767.25  \n2015-01-01 07:00:00            28531.25  \n...                                 ...  \n2022-12-31 16:00:00            15915.75  \n2022-12-31 17:00:00            16438.75  \n2022-12-31 18:00:00            15153.50  \n2022-12-31 19:00:00            11943.75  \n2022-12-31 20:00:00             9651.00  \n\n[51823 rows x 19 columns]",
      "text/html": "<div>\n<style scoped>\n    .dataframe tbody tr th:only-of-type {\n        vertical-align: middle;\n    }\n\n    .dataframe tbody tr th {\n        vertical-align: top;\n    }\n\n    .dataframe thead th {\n        text-align: right;\n    }\n</style>\n<table border=\"1\" class=\"dataframe\">\n  <thead>\n    <tr style=\"text-align: right;\">\n      <th></th>\n      <th>Wind Velocity for Station 02014</th>\n      <th>Sun Duration for Station 02014</th>\n      <th>Air Temperature for Station 02014</th>\n      <th>Precipitation Amount for Station 02014</th>\n      <th>Wind Velocity for Station 03987</th>\n      <th>Sun Duration for Station 03987</th>\n      <th>Air Temperature for Station 03987</th>\n      <th>Precipitation Amount for Station 03987</th>\n      <th>Wind Velocity for Station 03379</th>\n      <th>Sun Duration for Station 03379</th>\n      <th>Air Temperature for Station 03379</th>\n      <th>Precipitation Amount for Station 03379</th>\n      <th>Wind Velocity for Station 04928</th>\n      <th>Sun Duration for Station 04928</th>\n      <th>Air Temperature for Station 04928</th>\n      <th>Precipitation Amount for Station 04928</th>\n      <th>Quarter</th>\n      <th>Month</th>\n      <th>Energy Consumption</th>\n    </tr>\n  </thead>\n  <tbody>\n    <tr>\n      <th>2015-01-01 03:00:00</th>\n      <td>3.7</td>\n      <td>0.0</td>\n      <td>2.8</td>\n      <td>0.0</td>\n      <td>6.0</td>\n      <td>0.0</td>\n      <td>3.5</td>\n      <td>0.0</td>\n      <td>-999.0</td>\n      <td>0.0</td>\n      <td>-3.2</td>\n      <td>0.0</td>\n      <td>1.0</td>\n      <td>0.0</td>\n      <td>0.5</td>\n      <td>0.0</td>\n      <td>1</td>\n      <td>1</td>\n      <td>30773.50</td>\n    </tr>\n    <tr>\n      <th>2015-01-01 04:00:00</th>\n      <td>4.2</td>\n      <td>0.0</td>\n      <td>2.5</td>\n      <td>0.0</td>\n      <td>6.7</td>\n      <td>0.0</td>\n      <td>2.6</td>\n      <td>0.0</td>\n      <td>-999.0</td>\n      <td>0.0</td>\n      <td>-3.3</td>\n      <td>0.0</td>\n      <td>1.8</td>\n      <td>0.0</td>\n      <td>0.4</td>\n      <td>0.0</td>\n      <td>1</td>\n      <td>1</td>\n      <td>30040.75</td>\n    </tr>\n    <tr>\n      <th>2015-01-01 05:00:00</th>\n      <td>3.0</td>\n      <td>0.0</td>\n      <td>2.0</td>\n      <td>0.0</td>\n      <td>5.6</td>\n      <td>0.0</td>\n      <td>2.2</td>\n      <td>0.0</td>\n      <td>-999.0</td>\n      <td>0.0</td>\n      <td>-4.3</td>\n      <td>0.0</td>\n      <td>3.2</td>\n      <td>0.0</td>\n      <td>0.5</td>\n      <td>0.0</td>\n      <td>1</td>\n      <td>1</td>\n      <td>28161.50</td>\n    </tr>\n    <tr>\n      <th>2015-01-01 06:00:00</th>\n      <td>3.8</td>\n      <td>0.0</td>\n      <td>1.9</td>\n      <td>0.0</td>\n      <td>5.7</td>\n      <td>0.0</td>\n      <td>2.1</td>\n      <td>0.0</td>\n      <td>-999.0</td>\n      <td>0.0</td>\n      <td>-4.5</td>\n      <td>0.0</td>\n      <td>2.1</td>\n      <td>0.0</td>\n      <td>0.6</td>\n      <td>0.0</td>\n      <td>1</td>\n      <td>1</td>\n      <td>27767.25</td>\n    </tr>\n    <tr>\n      <th>2015-01-01 07:00:00</th>\n      <td>3.1</td>\n      <td>0.0</td>\n      <td>1.4</td>\n      <td>0.0</td>\n      <td>5.5</td>\n      <td>0.0</td>\n      <td>2.7</td>\n      <td>0.0</td>\n      <td>-999.0</td>\n      <td>0.0</td>\n      <td>-3.9</td>\n      <td>0.0</td>\n      <td>0.2</td>\n      <td>0.0</td>\n      <td>0.6</td>\n      <td>0.0</td>\n      <td>1</td>\n      <td>1</td>\n      <td>28531.25</td>\n    </tr>\n    <tr>\n      <th>...</th>\n      <td>...</td>\n      <td>...</td>\n      <td>...</td>\n      <td>...</td>\n      <td>...</td>\n      <td>...</td>\n      <td>...</td>\n      <td>...</td>\n      <td>...</td>\n      <td>...</td>\n      <td>...</td>\n      <td>...</td>\n      <td>...</td>\n      <td>...</td>\n      <td>...</td>\n      <td>...</td>\n      <td>...</td>\n      <td>...</td>\n      <td>...</td>\n    </tr>\n    <tr>\n      <th>2022-12-31 16:00:00</th>\n      <td>8.6</td>\n      <td>0.0</td>\n      <td>16.3</td>\n      <td>0.0</td>\n      <td>6.1</td>\n      <td>0.0</td>\n      <td>16.3</td>\n      <td>0.0</td>\n      <td>1.4</td>\n      <td>0.0</td>\n      <td>12.8</td>\n      <td>0.0</td>\n      <td>3.8</td>\n      <td>0.0</td>\n      <td>17.3</td>\n      <td>0.0</td>\n      <td>4</td>\n      <td>12</td>\n      <td>15915.75</td>\n    </tr>\n    <tr>\n      <th>2022-12-31 17:00:00</th>\n      <td>7.1</td>\n      <td>0.0</td>\n      <td>15.9</td>\n      <td>0.0</td>\n      <td>7.7</td>\n      <td>0.0</td>\n      <td>16.6</td>\n      <td>0.0</td>\n      <td>1.8</td>\n      <td>0.0</td>\n      <td>11.4</td>\n      <td>0.0</td>\n      <td>3.9</td>\n      <td>0.0</td>\n      <td>17.2</td>\n      <td>0.0</td>\n      <td>4</td>\n      <td>12</td>\n      <td>16438.75</td>\n    </tr>\n    <tr>\n      <th>2022-12-31 18:00:00</th>\n      <td>7.4</td>\n      <td>0.0</td>\n      <td>15.7</td>\n      <td>0.0</td>\n      <td>8.6</td>\n      <td>0.0</td>\n      <td>16.4</td>\n      <td>0.0</td>\n      <td>2.5</td>\n      <td>0.0</td>\n      <td>11.9</td>\n      <td>0.0</td>\n      <td>3.5</td>\n      <td>0.0</td>\n      <td>16.6</td>\n      <td>0.0</td>\n      <td>4</td>\n      <td>12</td>\n      <td>15153.50</td>\n    </tr>\n    <tr>\n      <th>2022-12-31 19:00:00</th>\n      <td>6.7</td>\n      <td>0.0</td>\n      <td>16.3</td>\n      <td>0.0</td>\n      <td>6.9</td>\n      <td>0.0</td>\n      <td>15.8</td>\n      <td>0.0</td>\n      <td>2.2</td>\n      <td>0.0</td>\n      <td>11.9</td>\n      <td>0.0</td>\n      <td>5.1</td>\n      <td>0.0</td>\n      <td>15.8</td>\n      <td>0.0</td>\n      <td>4</td>\n      <td>12</td>\n      <td>11943.75</td>\n    </tr>\n    <tr>\n      <th>2022-12-31 20:00:00</th>\n      <td>7.1</td>\n      <td>0.0</td>\n      <td>16.5</td>\n      <td>0.0</td>\n      <td>7.4</td>\n      <td>0.0</td>\n      <td>15.3</td>\n      <td>0.0</td>\n      <td>2.2</td>\n      <td>0.0</td>\n      <td>12.1</td>\n      <td>0.0</td>\n      <td>4.3</td>\n      <td>0.0</td>\n      <td>15.7</td>\n      <td>0.0</td>\n      <td>4</td>\n      <td>12</td>\n      <td>9651.00</td>\n    </tr>\n  </tbody>\n</table>\n<p>51823 rows × 19 columns</p>\n</div>"
     },
     "execution_count": 24,
     "metadata": {},
     "output_type": "execute_result"
    }
   ],
   "source": [
    "cols = residual_load_dataset.columns.tolist()\n",
    "cols = cols[1:] + [cols[0]]\n",
    "residual_load_dataset = residual_load_dataset[cols]\n",
    "residual_load_dataset "
   ],
   "metadata": {
    "collapsed": false,
    "ExecuteTime": {
     "end_time": "2023-10-19T15:31:48.428730Z",
     "start_time": "2023-10-19T15:31:48.421131Z"
    }
   }
  },
  {
   "cell_type": "code",
   "execution_count": 25,
   "metadata": {
    "collapsed": false,
    "ExecuteTime": {
     "end_time": "2023-10-19T15:32:05.870853Z",
     "start_time": "2023-10-19T15:32:00.407255Z"
    }
   },
   "outputs": [],
   "source": [
    "from sklearn.model_selection import train_test_split\n",
    "\n",
    "X_test, X_train, y_test, y_train = train_test_split(residual_load_dataset.drop(columns=\"Energy Consumption\"), residual_load_dataset[\"Energy Consumption\"])"
   ]
  },
  {
   "cell_type": "code",
   "execution_count": 26,
   "metadata": {
    "collapsed": false,
    "ExecuteTime": {
     "end_time": "2023-10-19T15:32:06.444697Z",
     "start_time": "2023-10-19T15:32:05.873931Z"
    }
   },
   "outputs": [],
   "source": [
    "from sklearn.ensemble import *\n",
    "from sklearn.linear_model import *\n",
    "\n",
    "clf = LinearRegression()\n",
    "clf.fit(X_train, y_train)\n",
    "y_pred = clf.predict(X_test)"
   ]
  },
  {
   "cell_type": "code",
   "execution_count": 27,
   "metadata": {
    "collapsed": false,
    "ExecuteTime": {
     "end_time": "2023-10-19T15:32:06.445325Z",
     "start_time": "2023-10-19T15:32:06.433478Z"
    }
   },
   "outputs": [
    {
     "data": {
      "text/plain": "10522.513135778485"
     },
     "execution_count": 27,
     "metadata": {},
     "output_type": "execute_result"
    }
   ],
   "source": [
    "import math\n",
    "from sklearn.metrics import *\n",
    "\n",
    "math.pow(mean_squared_error(y_test, y_pred), 1/2)"
   ]
  },
  {
   "cell_type": "code",
   "execution_count": 28,
   "metadata": {
    "collapsed": false,
    "ExecuteTime": {
     "end_time": "2023-10-19T15:32:06.641694Z",
     "start_time": "2023-10-19T15:32:06.439499Z"
    }
   },
   "outputs": [
    {
     "data": {
      "text/plain": "             Y TRUE        Y PRED    Difference\ncount  38867.000000  38867.000000  38867.000000\nmean   41620.090726  41459.073054   8631.216598\nstd    12887.386606   7494.980548   6018.830019\nmin     2550.000000  -6554.911737      0.348647\n25%    33151.625000  36689.370768   3734.521179\n50%    42503.000000  42001.883522   7648.243238\n75%    50748.375000  46685.807507  12546.588252\nmax    76049.000000  68916.669866  40392.411737",
      "text/html": "<div>\n<style scoped>\n    .dataframe tbody tr th:only-of-type {\n        vertical-align: middle;\n    }\n\n    .dataframe tbody tr th {\n        vertical-align: top;\n    }\n\n    .dataframe thead th {\n        text-align: right;\n    }\n</style>\n<table border=\"1\" class=\"dataframe\">\n  <thead>\n    <tr style=\"text-align: right;\">\n      <th></th>\n      <th>Y TRUE</th>\n      <th>Y PRED</th>\n      <th>Difference</th>\n    </tr>\n  </thead>\n  <tbody>\n    <tr>\n      <th>count</th>\n      <td>38867.000000</td>\n      <td>38867.000000</td>\n      <td>38867.000000</td>\n    </tr>\n    <tr>\n      <th>mean</th>\n      <td>41620.090726</td>\n      <td>41459.073054</td>\n      <td>8631.216598</td>\n    </tr>\n    <tr>\n      <th>std</th>\n      <td>12887.386606</td>\n      <td>7494.980548</td>\n      <td>6018.830019</td>\n    </tr>\n    <tr>\n      <th>min</th>\n      <td>2550.000000</td>\n      <td>-6554.911737</td>\n      <td>0.348647</td>\n    </tr>\n    <tr>\n      <th>25%</th>\n      <td>33151.625000</td>\n      <td>36689.370768</td>\n      <td>3734.521179</td>\n    </tr>\n    <tr>\n      <th>50%</th>\n      <td>42503.000000</td>\n      <td>42001.883522</td>\n      <td>7648.243238</td>\n    </tr>\n    <tr>\n      <th>75%</th>\n      <td>50748.375000</td>\n      <td>46685.807507</td>\n      <td>12546.588252</td>\n    </tr>\n    <tr>\n      <th>max</th>\n      <td>76049.000000</td>\n      <td>68916.669866</td>\n      <td>40392.411737</td>\n    </tr>\n  </tbody>\n</table>\n</div>"
     },
     "execution_count": 28,
     "metadata": {},
     "output_type": "execute_result"
    }
   ],
   "source": [
    "test = pd.DataFrame()\n",
    "test[\"Y TRUE\"] = y_test\n",
    "test[\"Y PRED\"] = y_pred\n",
    "test[\"Difference\"] = abs(y_test - y_pred)\n",
    "test.describe()"
   ]
  },
  {
   "cell_type": "code",
   "execution_count": 29,
   "metadata": {
    "collapsed": false,
    "ExecuteTime": {
     "end_time": "2023-10-19T15:32:06.928746Z",
     "start_time": "2023-10-19T15:32:06.633840Z"
    }
   },
   "outputs": [],
   "source": [
    "residual_load_dataset.to_csv(\"Energy Consumption Dataset.csv\")"
   ]
  },
  {
   "cell_type": "code",
   "execution_count": 36,
   "metadata": {
    "collapsed": false,
    "ExecuteTime": {
     "end_time": "2023-10-19T15:36:03.370229Z",
     "start_time": "2023-10-19T15:36:03.367768Z"
    }
   },
   "outputs": [],
   "source": [
    "import numpy as np\n",
    "\n",
    "y_mean = y_test.mean()\n",
    "y_pred = np.empty(y_test.size)\n",
    "y_pred.fill(y_mean)"
   ]
  },
  {
   "cell_type": "code",
   "execution_count": 37,
   "outputs": [
    {
     "data": {
      "text/plain": "12887.220816495656"
     },
     "execution_count": 37,
     "metadata": {},
     "output_type": "execute_result"
    }
   ],
   "source": [
    "import math\n",
    "from sklearn.metrics import *\n",
    "\n",
    "math.pow(mean_squared_error(y_test, y_pred), 1/2)"
   ],
   "metadata": {
    "collapsed": false,
    "ExecuteTime": {
     "end_time": "2023-10-19T15:36:04.340584Z",
     "start_time": "2023-10-19T15:36:04.322665Z"
    }
   }
  },
  {
   "cell_type": "code",
   "execution_count": null,
   "outputs": [],
   "source": [],
   "metadata": {
    "collapsed": false
   }
  }
 ],
 "metadata": {
  "kernelspec": {
   "display_name": "Python 3",
   "language": "python",
   "name": "python3"
  },
  "language_info": {
   "codemirror_mode": {
    "name": "ipython",
    "version": 3
   },
   "file_extension": ".py",
   "mimetype": "text/x-python",
   "name": "python",
   "nbconvert_exporter": "python",
   "pygments_lexer": "ipython3",
   "version": "3.11.4"
  }
 },
 "nbformat": 4,
 "nbformat_minor": 0
}
