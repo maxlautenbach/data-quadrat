{
 "cells": [
  {
   "cell_type": "code",
   "execution_count": 27,
   "metadata": {
    "ExecuteTime": {
     "end_time": "2023-10-11T17:29:41.684354Z",
     "start_time": "2023-10-11T17:29:41.678923Z"
    },
    "collapsed": true
   },
   "outputs": [],
   "source": [
    "from tqdm import tqdm\n",
    "from requests import request\n",
    "import pandas as pd\n",
    "from os import listdir\n",
    "from os.path import isfile, join"
   ]
  },
  {
   "cell_type": "code",
   "execution_count": 28,
   "metadata": {
    "ExecuteTime": {
     "end_time": "2023-10-11T17:29:41.923596Z",
     "start_time": "2023-10-11T17:29:41.683934Z"
    },
    "collapsed": false
   },
   "outputs": [],
   "source": [
    "res = request(\"GET\", 'https://www.smard.de/app/chart_data/4359/DE/index_hour.json')\n",
    "timestamps = res.json()[\"timestamps\"]"
   ]
  },
  {
   "cell_type": "code",
   "execution_count": 29,
   "metadata": {
    "ExecuteTime": {
     "end_time": "2023-10-11T17:30:44.170182Z",
     "start_time": "2023-10-11T17:29:41.929608Z"
    },
    "collapsed": false
   },
   "outputs": [
    {
     "name": "stderr",
     "output_type": "stream",
     "text": [
      "100%|██████████| 460/460 [00:59<00:00,  7.77it/s]\n"
     ]
    }
   ],
   "source": [
    "time_series = []\n",
    "for timestamp in tqdm(timestamps):\n",
    "    res = request(\"GET\", \"https://www.smard.de/app/chart_data/4359/DE/4359_DE_hour_\" +str(timestamp)+\".json\")\n",
    "    body = res.json()[\"series\"]\n",
    "    time_series += body"
   ]
  },
  {
   "cell_type": "code",
   "execution_count": 30,
   "metadata": {
    "ExecuteTime": {
     "end_time": "2023-10-11T17:30:44.423952Z",
     "start_time": "2023-10-11T17:30:44.189582Z"
    },
    "collapsed": false
   },
   "outputs": [
    {
     "data": {
      "text/html": [
       "<div>\n",
       "<style scoped>\n",
       "    .dataframe tbody tr th:only-of-type {\n",
       "        vertical-align: middle;\n",
       "    }\n",
       "\n",
       "    .dataframe tbody tr th {\n",
       "        vertical-align: top;\n",
       "    }\n",
       "\n",
       "    .dataframe thead th {\n",
       "        text-align: right;\n",
       "    }\n",
       "</style>\n",
       "<table border=\"1\" class=\"dataframe\">\n",
       "  <thead>\n",
       "    <tr style=\"text-align: right;\">\n",
       "      <th></th>\n",
       "      <th>Energy Consumption</th>\n",
       "    </tr>\n",
       "  </thead>\n",
       "  <tbody>\n",
       "    <tr>\n",
       "      <th>2014-12-31 23:00:00</th>\n",
       "      <td>35955.75</td>\n",
       "    </tr>\n",
       "    <tr>\n",
       "      <th>2015-01-01 00:00:00</th>\n",
       "      <td>34641.00</td>\n",
       "    </tr>\n",
       "    <tr>\n",
       "      <th>2015-01-01 01:00:00</th>\n",
       "      <td>32909.25</td>\n",
       "    </tr>\n",
       "    <tr>\n",
       "      <th>2015-01-01 02:00:00</th>\n",
       "      <td>31548.00</td>\n",
       "    </tr>\n",
       "    <tr>\n",
       "      <th>2015-01-01 03:00:00</th>\n",
       "      <td>30773.50</td>\n",
       "    </tr>\n",
       "    <tr>\n",
       "      <th>...</th>\n",
       "      <td>...</td>\n",
       "    </tr>\n",
       "    <tr>\n",
       "      <th>2023-10-19 09:00:00</th>\n",
       "      <td>40156.75</td>\n",
       "    </tr>\n",
       "    <tr>\n",
       "      <th>2023-10-19 10:00:00</th>\n",
       "      <td>39254.50</td>\n",
       "    </tr>\n",
       "    <tr>\n",
       "      <th>2023-10-19 11:00:00</th>\n",
       "      <td>38373.00</td>\n",
       "    </tr>\n",
       "    <tr>\n",
       "      <th>2023-10-19 12:00:00</th>\n",
       "      <td>37876.75</td>\n",
       "    </tr>\n",
       "    <tr>\n",
       "      <th>2023-10-19 13:00:00</th>\n",
       "      <td>39150.00</td>\n",
       "    </tr>\n",
       "  </tbody>\n",
       "</table>\n",
       "<p>77127 rows × 1 columns</p>\n",
       "</div>"
      ],
      "text/plain": [
       "                     Energy Consumption\n",
       "2014-12-31 23:00:00            35955.75\n",
       "2015-01-01 00:00:00            34641.00\n",
       "2015-01-01 01:00:00            32909.25\n",
       "2015-01-01 02:00:00            31548.00\n",
       "2015-01-01 03:00:00            30773.50\n",
       "...                                 ...\n",
       "2023-10-19 09:00:00            40156.75\n",
       "2023-10-19 10:00:00            39254.50\n",
       "2023-10-19 11:00:00            38373.00\n",
       "2023-10-19 12:00:00            37876.75\n",
       "2023-10-19 13:00:00            39150.00\n",
       "\n",
       "[77127 rows x 1 columns]"
      ]
     },
     "execution_count": 30,
     "metadata": {},
     "output_type": "execute_result"
    }
   ],
   "source": [
    "residual_load_dataset = pd.DataFrame(time_series)\n",
    "residual_load_dataset.index = [pd.Timestamp(x, unit='ms') for x in residual_load_dataset.iloc[:, 0]]\n",
    "residual_load_dataset = residual_load_dataset.drop(columns=0)\n",
    "residual_load_dataset = residual_load_dataset.dropna()\n",
    "residual_load_dataset.columns = [\"Energy Consumption\"]\n",
    "residual_load_dataset"
   ]
  },
  {
   "cell_type": "code",
   "execution_count": 41,
   "metadata": {
    "ExecuteTime": {
     "end_time": "2023-10-11T17:30:44.938229Z",
     "start_time": "2023-10-11T17:30:44.427Z"
    },
    "collapsed": false
   },
   "outputs": [],
   "source": [
    "def extract_dwd_data(residual_load_dataset, station_id):\n",
    "    \n",
    "    station_data = [x for x in listdir() if station_id in x]\n",
    "    \n",
    "    wind_data = pd.read_csv([x for x in station_data if \"produkt_f\" in x][0], sep=\";\").iloc[-80000:]\n",
    "    solar_data = pd.read_csv([x for x in station_data if \"produkt_sd\" in x][0], sep=\";\").iloc[-80000:]\n",
    "    temperature_data = pd.read_csv([x for x in station_data if \"produkt_tu\" in x][0], sep=\";\").iloc[-80000:]\n",
    "    precipitation_data = pd.read_csv([x for x in station_data if \"produkt_rr\" in x][0], sep=\";\").iloc[-80000:]\n",
    "    \n",
    "    wind_data.index = [pd.to_datetime(x, format=\"%Y%m%d%H\") for x in wind_data[\"MESS_DATUM\"]]\n",
    "    wind_data = wind_data.drop(columns=\"MESS_DATUM\")\n",
    "    wind_data = wind_data.rename(columns={\"  FF\": \"Wind Velocity for Station \" + station_id})\n",
    "    solar_data.index = [pd.to_datetime(x, format=\"%Y%m%d%H\") for x in solar_data[\"MESS_DATUM\"]]\n",
    "    solar_data = solar_data.drop(columns=\"MESS_DATUM\")\n",
    "    solar_data = solar_data.rename(columns={\"SD_SO\": \"Sun Duration for Station \" + station_id})\n",
    "    temperature_data.index = [pd.to_datetime(x, format=\"%Y%m%d%H\") for x in temperature_data[\"MESS_DATUM\"]]\n",
    "    temperature_data = temperature_data.drop(columns=\"MESS_DATUM\")\n",
    "    temperature_data = temperature_data.rename(columns={\"TT_TU\": \"Air Temperature for Station \" + station_id})\n",
    "    precipitation_data.index = [pd.to_datetime(x, format=\"%Y%m%d%H\") for x in precipitation_data[\"MESS_DATUM\"]]\n",
    "    precipitation_data = precipitation_data.drop(columns=\"MESS_DATUM\")\n",
    "    precipitation_data = precipitation_data.rename(columns={\"  R1\": \"Precipitation Amount for Station \" + station_id})\n",
    "\n",
    "    residual_load_dataset = pd.concat([residual_load_dataset, wind_data[\"Wind Velocity for Station \" + station_id], solar_data[\"Sun Duration for Station \" + station_id], temperature_data[\"Air Temperature for Station \" + station_id], precipitation_data[\"Precipitation Amount for Station \" + station_id]], axis=1)\n",
    "    \n",
    "    return residual_load_dataset"
   ]
  },
  {
   "cell_type": "code",
   "execution_count": 42,
   "metadata": {
    "ExecuteTime": {
     "end_time": "2023-10-11T17:30:56.061098Z",
     "start_time": "2023-10-11T17:30:56.039571Z"
    },
    "collapsed": false
   },
   "outputs": [],
   "source": [
    "for i in [\"02014\", \"03987\", \"03379\", \"04928\"]:\n",
    "    residual_load_dataset = extract_dwd_data(residual_load_dataset, i)"
   ]
  },
  {
   "cell_type": "code",
   "execution_count": 43,
   "metadata": {
    "ExecuteTime": {
     "end_time": "2023-10-11T17:30:56.066424Z",
     "start_time": "2023-10-11T17:30:56.060578Z"
    },
    "collapsed": false
   },
   "outputs": [],
   "source": [
    "residual_load_dataset = residual_load_dataset.dropna()"
   ]
  },
  {
   "cell_type": "code",
   "execution_count": 48,
   "metadata": {
    "ExecuteTime": {
     "end_time": "2023-10-11T17:30:56.079032Z",
     "start_time": "2023-10-11T17:30:56.067966Z"
    },
    "collapsed": false
   },
   "outputs": [
    {
     "ename": "SyntaxError",
     "evalue": "invalid syntax (4046505258.py, line 1)",
     "output_type": "error",
     "traceback": [
      "\u001b[0;36m  Cell \u001b[0;32mIn[48], line 1\u001b[0;36m\u001b[0m\n\u001b[0;31m    residual_load_dataset[\"Quarter\"] = residual_load_dataset.index[]\u001b[0m\n\u001b[0m                                                                   ^\u001b[0m\n\u001b[0;31mSyntaxError\u001b[0m\u001b[0;31m:\u001b[0m invalid syntax\n"
     ]
    }
   ],
   "source": [
    "residual_load_dataset[\"Quarter\"] = residual_load_dataset.index[]\n",
    "\n",
    "residual_load_dataset.describe()"
   ]
  },
  {
   "cell_type": "code",
   "execution_count": null,
   "metadata": {},
   "outputs": [],
   "source": []
  },
  {
   "cell_type": "code",
   "execution_count": null,
   "metadata": {
    "ExecuteTime": {
     "end_time": "2023-10-11T17:30:56.114386Z",
     "start_time": "2023-10-11T17:30:56.081424Z"
    },
    "collapsed": false
   },
   "outputs": [],
   "source": [
    "from sklearn.model_selection import train_test_split\n",
    "\n",
    "X_test, X_train, y_test, y_train = train_test_split(residual_load_dataset.drop(columns=\"Energy Consumption\"), residual_load_dataset[\"Energy Consumption\"])"
   ]
  },
  {
   "cell_type": "code",
   "execution_count": null,
   "metadata": {
    "ExecuteTime": {
     "end_time": "2023-10-11T17:30:56.158589Z",
     "start_time": "2023-10-11T17:30:56.087315Z"
    },
    "collapsed": false
   },
   "outputs": [],
   "source": [
    "from sklearn.ensemble import *\n",
    "from sklearn.linear_model import *\n",
    "\n",
    "clf = LinearRegression()\n",
    "clf.fit(X_train, y_train)\n",
    "y_pred = clf.predict(X_test)"
   ]
  },
  {
   "cell_type": "code",
   "execution_count": null,
   "metadata": {
    "ExecuteTime": {
     "end_time": "2023-10-11T17:30:56.175054Z",
     "start_time": "2023-10-11T17:30:56.115909Z"
    },
    "collapsed": false
   },
   "outputs": [
    {
     "data": {
      "text/plain": [
       "8930.913205184806"
      ]
     },
     "execution_count": 148,
     "metadata": {},
     "output_type": "execute_result"
    }
   ],
   "source": [
    "import math\n",
    "from sklearn.metrics import *\n",
    "\n",
    "math.pow(mean_squared_error(y_test, y_pred), 1/2)"
   ]
  },
  {
   "cell_type": "code",
   "execution_count": null,
   "metadata": {
    "ExecuteTime": {
     "end_time": "2023-10-11T17:30:56.175265Z",
     "start_time": "2023-10-11T17:30:56.121793Z"
    },
    "collapsed": false
   },
   "outputs": [
    {
     "data": {
      "text/html": [
       "<div>\n",
       "<style scoped>\n",
       "    .dataframe tbody tr th:only-of-type {\n",
       "        vertical-align: middle;\n",
       "    }\n",
       "\n",
       "    .dataframe tbody tr th {\n",
       "        vertical-align: top;\n",
       "    }\n",
       "\n",
       "    .dataframe thead th {\n",
       "        text-align: right;\n",
       "    }\n",
       "</style>\n",
       "<table border=\"1\" class=\"dataframe\">\n",
       "  <thead>\n",
       "    <tr style=\"text-align: right;\">\n",
       "      <th></th>\n",
       "      <th>Y TRUE</th>\n",
       "      <th>Y PRED</th>\n",
       "      <th>Difference</th>\n",
       "    </tr>\n",
       "  </thead>\n",
       "  <tbody>\n",
       "    <tr>\n",
       "      <th>count</th>\n",
       "      <td>25904.000000</td>\n",
       "      <td>25904.000000</td>\n",
       "      <td>25904.000000</td>\n",
       "    </tr>\n",
       "    <tr>\n",
       "      <th>mean</th>\n",
       "      <td>60633.219734</td>\n",
       "      <td>60821.332950</td>\n",
       "      <td>7644.995332</td>\n",
       "    </tr>\n",
       "    <tr>\n",
       "      <th>std</th>\n",
       "      <td>9126.332396</td>\n",
       "      <td>1689.424816</td>\n",
       "      <td>4616.934041</td>\n",
       "    </tr>\n",
       "    <tr>\n",
       "      <th>min</th>\n",
       "      <td>34807.500000</td>\n",
       "      <td>26760.576878</td>\n",
       "      <td>0.220322</td>\n",
       "    </tr>\n",
       "    <tr>\n",
       "      <th>25%</th>\n",
       "      <td>53298.312500</td>\n",
       "      <td>59618.656646</td>\n",
       "      <td>4106.951010</td>\n",
       "    </tr>\n",
       "    <tr>\n",
       "      <th>50%</th>\n",
       "      <td>62112.750000</td>\n",
       "      <td>60943.753843</td>\n",
       "      <td>7400.848834</td>\n",
       "    </tr>\n",
       "    <tr>\n",
       "      <th>75%</th>\n",
       "      <td>68036.187500</td>\n",
       "      <td>62049.285343</td>\n",
       "      <td>10446.512464</td>\n",
       "    </tr>\n",
       "    <tr>\n",
       "      <th>max</th>\n",
       "      <td>79938.500000</td>\n",
       "      <td>70225.501198</td>\n",
       "      <td>42436.673122</td>\n",
       "    </tr>\n",
       "  </tbody>\n",
       "</table>\n",
       "</div>"
      ],
      "text/plain": [
       "             Y TRUE        Y PRED    Difference\n",
       "count  25904.000000  25904.000000  25904.000000\n",
       "mean   60633.219734  60821.332950   7644.995332\n",
       "std     9126.332396   1689.424816   4616.934041\n",
       "min    34807.500000  26760.576878      0.220322\n",
       "25%    53298.312500  59618.656646   4106.951010\n",
       "50%    62112.750000  60943.753843   7400.848834\n",
       "75%    68036.187500  62049.285343  10446.512464\n",
       "max    79938.500000  70225.501198  42436.673122"
      ]
     },
     "execution_count": 149,
     "metadata": {},
     "output_type": "execute_result"
    }
   ],
   "source": [
    "test = pd.DataFrame()\n",
    "test[\"Y TRUE\"] = y_test\n",
    "test[\"Y PRED\"] = y_pred\n",
    "test[\"Difference\"] = abs(y_test - y_pred)\n",
    "test.describe()"
   ]
  },
  {
   "cell_type": "code",
   "execution_count": null,
   "metadata": {
    "ExecuteTime": {
     "end_time": "2023-10-11T17:30:56.281149Z",
     "start_time": "2023-10-11T17:30:56.139151Z"
    },
    "collapsed": false
   },
   "outputs": [],
   "source": [
    "residual_load_dataset.to_csv(\"Energy Consumption Dataset.csv\")"
   ]
  },
  {
   "cell_type": "code",
   "execution_count": null,
   "metadata": {
    "ExecuteTime": {
     "end_time": "2023-10-11T17:30:56.281438Z",
     "start_time": "2023-10-11T17:30:56.270219Z"
    },
    "collapsed": false
   },
   "outputs": [],
   "source": []
  }
 ],
 "metadata": {
  "kernelspec": {
   "display_name": "Python 3",
   "language": "python",
   "name": "python3"
  },
  "language_info": {
   "codemirror_mode": {
    "name": "ipython",
    "version": 3
   },
   "file_extension": ".py",
   "mimetype": "text/x-python",
   "name": "python",
   "nbconvert_exporter": "python",
   "pygments_lexer": "ipython3",
   "version": "3.11.4"
  }
 },
 "nbformat": 4,
 "nbformat_minor": 0
}
