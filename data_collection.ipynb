{
 "cells": [
  {
   "cell_type": "code",
   "execution_count": 137,
   "metadata": {
    "collapsed": true,
    "ExecuteTime": {
     "end_time": "2023-10-11T17:29:41.684354Z",
     "start_time": "2023-10-11T17:29:41.678923Z"
    }
   },
   "outputs": [],
   "source": [
    "from tqdm import tqdm\n",
    "from requests import request\n",
    "import pandas as pd"
   ]
  },
  {
   "cell_type": "code",
   "execution_count": 138,
   "outputs": [],
   "source": [
    "res = request(\"GET\", 'https://www.smard.de/app/chart_data/410/DE/index_hour.json')\n",
    "timestamps = res.json()[\"timestamps\"]"
   ],
   "metadata": {
    "collapsed": false,
    "ExecuteTime": {
     "end_time": "2023-10-11T17:29:41.923596Z",
     "start_time": "2023-10-11T17:29:41.683934Z"
    }
   }
  },
  {
   "cell_type": "code",
   "execution_count": 139,
   "outputs": [
    {
     "name": "stderr",
     "output_type": "stream",
     "text": [
      "100%|██████████| 459/459 [01:02<00:00,  7.38it/s]\n"
     ]
    }
   ],
   "source": [
    "time_series = []\n",
    "for timestamp in tqdm(timestamps):\n",
    "    res = request(\"GET\", \"https://www.smard.de/app/chart_data/410/DE/410_DE_hour_\" +str(timestamp)+\".json\")\n",
    "    body = res.json()[\"series\"]\n",
    "    time_series += body"
   ],
   "metadata": {
    "collapsed": false,
    "ExecuteTime": {
     "end_time": "2023-10-11T17:30:44.170182Z",
     "start_time": "2023-10-11T17:29:41.929608Z"
    }
   }
  },
  {
   "cell_type": "code",
   "execution_count": 140,
   "outputs": [
    {
     "data": {
      "text/plain": "                     Energy Consumption\n2014-12-31 23:00:00            44600.25\n2015-01-01 00:00:00            43454.75\n2015-01-01 01:00:00            41963.25\n2015-01-01 02:00:00            40617.75\n2015-01-01 03:00:00            39936.75\n...                                 ...\n2023-10-11 11:00:00            65267.25\n2023-10-11 12:00:00            64135.75\n2023-10-11 13:00:00            63724.50\n2023-10-11 14:00:00            62551.00\n2023-10-11 15:00:00            60658.50\n\n[76937 rows x 1 columns]",
      "text/html": "<div>\n<style scoped>\n    .dataframe tbody tr th:only-of-type {\n        vertical-align: middle;\n    }\n\n    .dataframe tbody tr th {\n        vertical-align: top;\n    }\n\n    .dataframe thead th {\n        text-align: right;\n    }\n</style>\n<table border=\"1\" class=\"dataframe\">\n  <thead>\n    <tr style=\"text-align: right;\">\n      <th></th>\n      <th>Energy Consumption</th>\n    </tr>\n  </thead>\n  <tbody>\n    <tr>\n      <th>2014-12-31 23:00:00</th>\n      <td>44600.25</td>\n    </tr>\n    <tr>\n      <th>2015-01-01 00:00:00</th>\n      <td>43454.75</td>\n    </tr>\n    <tr>\n      <th>2015-01-01 01:00:00</th>\n      <td>41963.25</td>\n    </tr>\n    <tr>\n      <th>2015-01-01 02:00:00</th>\n      <td>40617.75</td>\n    </tr>\n    <tr>\n      <th>2015-01-01 03:00:00</th>\n      <td>39936.75</td>\n    </tr>\n    <tr>\n      <th>...</th>\n      <td>...</td>\n    </tr>\n    <tr>\n      <th>2023-10-11 11:00:00</th>\n      <td>65267.25</td>\n    </tr>\n    <tr>\n      <th>2023-10-11 12:00:00</th>\n      <td>64135.75</td>\n    </tr>\n    <tr>\n      <th>2023-10-11 13:00:00</th>\n      <td>63724.50</td>\n    </tr>\n    <tr>\n      <th>2023-10-11 14:00:00</th>\n      <td>62551.00</td>\n    </tr>\n    <tr>\n      <th>2023-10-11 15:00:00</th>\n      <td>60658.50</td>\n    </tr>\n  </tbody>\n</table>\n<p>76937 rows × 1 columns</p>\n</div>"
     },
     "execution_count": 140,
     "metadata": {},
     "output_type": "execute_result"
    }
   ],
   "source": [
    "energy_consumption = pd.DataFrame(time_series)\n",
    "energy_consumption.index = [pd.Timestamp(x, unit='ms') for x in energy_consumption.iloc[:, 0]]\n",
    "energy_consumption = energy_consumption.drop(columns=0)\n",
    "energy_consumption = energy_consumption.dropna()\n",
    "energy_consumption.columns = [\"Energy Consumption\"]\n",
    "energy_consumption"
   ],
   "metadata": {
    "collapsed": false,
    "ExecuteTime": {
     "end_time": "2023-10-11T17:30:44.423952Z",
     "start_time": "2023-10-11T17:30:44.189582Z"
    }
   }
  },
  {
   "cell_type": "code",
   "execution_count": 141,
   "outputs": [],
   "source": [
    "wind_data = pd.read_csv(\"produkt_f_stunde_19750701_20221231_03987.txt\", sep=\";\").iloc[-80000:]\n",
    "solar_data = pd.read_csv(\"produkt_sd_stunde_20060818_20200416_03897.txt\", sep=\";\").iloc[-80000:]\n",
    "temperature_data = pd.read_csv(\"produkt_tu_stunde_18930101_20221231_03987.txt\", sep=\";\").iloc[-80000:]\n",
    "precipitation_data = pd.read_csv(\"produkt_rr_stunde_19950901_20221231_03987.txt\", sep=\";\").iloc[-80000:]"
   ],
   "metadata": {
    "collapsed": false,
    "ExecuteTime": {
     "end_time": "2023-10-11T17:30:44.938229Z",
     "start_time": "2023-10-11T17:30:44.427Z"
    }
   }
  },
  {
   "cell_type": "code",
   "execution_count": 142,
   "outputs": [],
   "source": [
    "wind_data.index = [pd.to_datetime(x, format=\"%Y%m%d%H\") for x in wind_data[\"MESS_DATUM\"]]\n",
    "wind_data = wind_data.drop(columns=\"MESS_DATUM\")\n",
    "wind_data = wind_data.rename(columns={\"  FF\": \"Wind Velocity\"})\n",
    "solar_data.index = [pd.to_datetime(x, format=\"%Y%m%d%H\") for x in solar_data[\"MESS_DATUM\"]]\n",
    "solar_data = solar_data.drop(columns=\"MESS_DATUM\")\n",
    "solar_data = solar_data.rename(columns={\"SD_SO\": \"Sun Duration\"})\n",
    "temperature_data.index = [pd.to_datetime(x, format=\"%Y%m%d%H\") for x in temperature_data[\"MESS_DATUM\"]]\n",
    "temperature_data = temperature_data.drop(columns=\"MESS_DATUM\")\n",
    "temperature_data = temperature_data.rename(columns={\"TT_TU\": \"Air Temperature\"})\n",
    "precipitation_data.index = [pd.to_datetime(x, format=\"%Y%m%d%H\") for x in precipitation_data[\"MESS_DATUM\"]]\n",
    "precipitation_data = precipitation_data.drop(columns=\"MESS_DATUM\")\n",
    "precipitation_data = precipitation_data.rename(columns={\"  R1\": \"Precipitation Amount\"})"
   ],
   "metadata": {
    "collapsed": false,
    "ExecuteTime": {
     "end_time": "2023-10-11T17:30:56.037375Z",
     "start_time": "2023-10-11T17:30:45.011083Z"
    }
   }
  },
  {
   "cell_type": "code",
   "execution_count": 143,
   "outputs": [],
   "source": [
    "energy_consumption_dataset = pd.concat([energy_consumption, wind_data[\"Wind Velocity\"], solar_data[\"Sun Duration\"], temperature_data[\"Air Temperature\"], precipitation_data[\"Precipitation Amount\"]], axis=1)"
   ],
   "metadata": {
    "collapsed": false,
    "ExecuteTime": {
     "end_time": "2023-10-11T17:30:56.061098Z",
     "start_time": "2023-10-11T17:30:56.039571Z"
    }
   }
  },
  {
   "cell_type": "code",
   "execution_count": 144,
   "outputs": [],
   "source": [
    "energy_consumption_dataset = energy_consumption_dataset.dropna()"
   ],
   "metadata": {
    "collapsed": false,
    "ExecuteTime": {
     "end_time": "2023-10-11T17:30:56.066424Z",
     "start_time": "2023-10-11T17:30:56.060578Z"
    }
   }
  },
  {
   "cell_type": "code",
   "execution_count": 145,
   "outputs": [
    {
     "data": {
      "text/plain": "       Energy Consumption  Wind Velocity  Sun Duration  Air Temperature  \\\ncount        34539.000000   34539.000000  34539.000000     34539.000000   \nmean         60676.725484       4.225418     16.148383        11.069104   \nstd           9109.729115       1.866284     25.374222         8.439315   \nmin          34807.500000       0.200000   -999.000000       -13.100000   \n25%          53434.875000       2.900000      0.000000         4.500000   \n50%          62185.000000       4.000000      0.000000        10.100000   \n75%          68012.000000       5.300000     34.000000        17.400000   \nmax          79938.500000      19.000000     60.000000        37.700000   \n\n       Precipitation Amount  \ncount          34539.000000  \nmean              -0.371974  \nstd               20.820656  \nmin             -999.000000  \n25%                0.000000  \n50%                0.000000  \n75%                0.000000  \nmax               25.300000  ",
      "text/html": "<div>\n<style scoped>\n    .dataframe tbody tr th:only-of-type {\n        vertical-align: middle;\n    }\n\n    .dataframe tbody tr th {\n        vertical-align: top;\n    }\n\n    .dataframe thead th {\n        text-align: right;\n    }\n</style>\n<table border=\"1\" class=\"dataframe\">\n  <thead>\n    <tr style=\"text-align: right;\">\n      <th></th>\n      <th>Energy Consumption</th>\n      <th>Wind Velocity</th>\n      <th>Sun Duration</th>\n      <th>Air Temperature</th>\n      <th>Precipitation Amount</th>\n    </tr>\n  </thead>\n  <tbody>\n    <tr>\n      <th>count</th>\n      <td>34539.000000</td>\n      <td>34539.000000</td>\n      <td>34539.000000</td>\n      <td>34539.000000</td>\n      <td>34539.000000</td>\n    </tr>\n    <tr>\n      <th>mean</th>\n      <td>60676.725484</td>\n      <td>4.225418</td>\n      <td>16.148383</td>\n      <td>11.069104</td>\n      <td>-0.371974</td>\n    </tr>\n    <tr>\n      <th>std</th>\n      <td>9109.729115</td>\n      <td>1.866284</td>\n      <td>25.374222</td>\n      <td>8.439315</td>\n      <td>20.820656</td>\n    </tr>\n    <tr>\n      <th>min</th>\n      <td>34807.500000</td>\n      <td>0.200000</td>\n      <td>-999.000000</td>\n      <td>-13.100000</td>\n      <td>-999.000000</td>\n    </tr>\n    <tr>\n      <th>25%</th>\n      <td>53434.875000</td>\n      <td>2.900000</td>\n      <td>0.000000</td>\n      <td>4.500000</td>\n      <td>0.000000</td>\n    </tr>\n    <tr>\n      <th>50%</th>\n      <td>62185.000000</td>\n      <td>4.000000</td>\n      <td>0.000000</td>\n      <td>10.100000</td>\n      <td>0.000000</td>\n    </tr>\n    <tr>\n      <th>75%</th>\n      <td>68012.000000</td>\n      <td>5.300000</td>\n      <td>34.000000</td>\n      <td>17.400000</td>\n      <td>0.000000</td>\n    </tr>\n    <tr>\n      <th>max</th>\n      <td>79938.500000</td>\n      <td>19.000000</td>\n      <td>60.000000</td>\n      <td>37.700000</td>\n      <td>25.300000</td>\n    </tr>\n  </tbody>\n</table>\n</div>"
     },
     "execution_count": 145,
     "metadata": {},
     "output_type": "execute_result"
    }
   ],
   "source": [
    "energy_consumption_dataset.describe()"
   ],
   "metadata": {
    "collapsed": false,
    "ExecuteTime": {
     "end_time": "2023-10-11T17:30:56.079032Z",
     "start_time": "2023-10-11T17:30:56.067966Z"
    }
   }
  },
  {
   "cell_type": "code",
   "execution_count": 146,
   "outputs": [],
   "source": [
    "from sklearn.model_selection import train_test_split\n",
    "\n",
    "X_test, X_train, y_test, y_train = train_test_split(energy_consumption_dataset.drop(columns=\"Energy Consumption\"), energy_consumption_dataset[\"Energy Consumption\"])"
   ],
   "metadata": {
    "collapsed": false,
    "ExecuteTime": {
     "end_time": "2023-10-11T17:30:56.114386Z",
     "start_time": "2023-10-11T17:30:56.081424Z"
    }
   }
  },
  {
   "cell_type": "code",
   "execution_count": 147,
   "outputs": [],
   "source": [
    "from sklearn.ensemble import *\n",
    "from sklearn.linear_model import *\n",
    "\n",
    "clf = LinearRegression()\n",
    "clf.fit(X_train, y_train)\n",
    "y_pred = clf.predict(X_test)"
   ],
   "metadata": {
    "collapsed": false,
    "ExecuteTime": {
     "end_time": "2023-10-11T17:30:56.158589Z",
     "start_time": "2023-10-11T17:30:56.087315Z"
    }
   }
  },
  {
   "cell_type": "code",
   "execution_count": 148,
   "outputs": [
    {
     "data": {
      "text/plain": "8930.913205184806"
     },
     "execution_count": 148,
     "metadata": {},
     "output_type": "execute_result"
    }
   ],
   "source": [
    "import math\n",
    "from sklearn.metrics import *\n",
    "\n",
    "math.pow(mean_squared_error(y_test, y_pred), 1/2)"
   ],
   "metadata": {
    "collapsed": false,
    "ExecuteTime": {
     "end_time": "2023-10-11T17:30:56.175054Z",
     "start_time": "2023-10-11T17:30:56.115909Z"
    }
   }
  },
  {
   "cell_type": "code",
   "execution_count": 149,
   "outputs": [
    {
     "data": {
      "text/plain": "             Y TRUE        Y PRED    Difference\ncount  25904.000000  25904.000000  25904.000000\nmean   60633.219734  60821.332950   7644.995332\nstd     9126.332396   1689.424816   4616.934041\nmin    34807.500000  26760.576878      0.220322\n25%    53298.312500  59618.656646   4106.951010\n50%    62112.750000  60943.753843   7400.848834\n75%    68036.187500  62049.285343  10446.512464\nmax    79938.500000  70225.501198  42436.673122",
      "text/html": "<div>\n<style scoped>\n    .dataframe tbody tr th:only-of-type {\n        vertical-align: middle;\n    }\n\n    .dataframe tbody tr th {\n        vertical-align: top;\n    }\n\n    .dataframe thead th {\n        text-align: right;\n    }\n</style>\n<table border=\"1\" class=\"dataframe\">\n  <thead>\n    <tr style=\"text-align: right;\">\n      <th></th>\n      <th>Y TRUE</th>\n      <th>Y PRED</th>\n      <th>Difference</th>\n    </tr>\n  </thead>\n  <tbody>\n    <tr>\n      <th>count</th>\n      <td>25904.000000</td>\n      <td>25904.000000</td>\n      <td>25904.000000</td>\n    </tr>\n    <tr>\n      <th>mean</th>\n      <td>60633.219734</td>\n      <td>60821.332950</td>\n      <td>7644.995332</td>\n    </tr>\n    <tr>\n      <th>std</th>\n      <td>9126.332396</td>\n      <td>1689.424816</td>\n      <td>4616.934041</td>\n    </tr>\n    <tr>\n      <th>min</th>\n      <td>34807.500000</td>\n      <td>26760.576878</td>\n      <td>0.220322</td>\n    </tr>\n    <tr>\n      <th>25%</th>\n      <td>53298.312500</td>\n      <td>59618.656646</td>\n      <td>4106.951010</td>\n    </tr>\n    <tr>\n      <th>50%</th>\n      <td>62112.750000</td>\n      <td>60943.753843</td>\n      <td>7400.848834</td>\n    </tr>\n    <tr>\n      <th>75%</th>\n      <td>68036.187500</td>\n      <td>62049.285343</td>\n      <td>10446.512464</td>\n    </tr>\n    <tr>\n      <th>max</th>\n      <td>79938.500000</td>\n      <td>70225.501198</td>\n      <td>42436.673122</td>\n    </tr>\n  </tbody>\n</table>\n</div>"
     },
     "execution_count": 149,
     "metadata": {},
     "output_type": "execute_result"
    }
   ],
   "source": [
    "test = pd.DataFrame()\n",
    "test[\"Y TRUE\"] = y_test\n",
    "test[\"Y PRED\"] = y_pred\n",
    "test[\"Difference\"] = abs(y_test - y_pred)\n",
    "test.describe()"
   ],
   "metadata": {
    "collapsed": false,
    "ExecuteTime": {
     "end_time": "2023-10-11T17:30:56.175265Z",
     "start_time": "2023-10-11T17:30:56.121793Z"
    }
   }
  },
  {
   "cell_type": "code",
   "execution_count": 150,
   "outputs": [],
   "source": [
    "energy_consumption_dataset.to_csv(\"Energy Consumption Dataset.csv\")"
   ],
   "metadata": {
    "collapsed": false,
    "ExecuteTime": {
     "end_time": "2023-10-11T17:30:56.281149Z",
     "start_time": "2023-10-11T17:30:56.139151Z"
    }
   }
  },
  {
   "cell_type": "code",
   "execution_count": 150,
   "outputs": [],
   "source": [],
   "metadata": {
    "collapsed": false,
    "ExecuteTime": {
     "end_time": "2023-10-11T17:30:56.281438Z",
     "start_time": "2023-10-11T17:30:56.270219Z"
    }
   }
  }
 ],
 "metadata": {
  "kernelspec": {
   "display_name": "Python 3",
   "language": "python",
   "name": "python3"
  },
  "language_info": {
   "codemirror_mode": {
    "name": "ipython",
    "version": 2
   },
   "file_extension": ".py",
   "mimetype": "text/x-python",
   "name": "python",
   "nbconvert_exporter": "python",
   "pygments_lexer": "ipython2",
   "version": "2.7.6"
  }
 },
 "nbformat": 4,
 "nbformat_minor": 0
}
