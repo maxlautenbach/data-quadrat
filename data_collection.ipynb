{
 "cells": [
  {
   "cell_type": "code",
   "execution_count": null,
   "metadata": {
    "ExecuteTime": {
     "end_time": "2023-10-19T15:25:32.609877Z",
     "start_time": "2023-10-19T15:25:27.652422Z"
    },
    "collapsed": true
   },
   "outputs": [],
   "source": [
    "from tqdm import tqdm\n",
    "from requests import request\n",
    "import pandas as pd\n",
    "from os import listdir\n",
    "from os.path import isfile, join"
   ]
  },
  {
   "cell_type": "code",
   "execution_count": null,
   "metadata": {
    "ExecuteTime": {
     "end_time": "2023-10-19T15:25:32.716861Z",
     "start_time": "2023-10-19T15:25:32.612154Z"
    },
    "collapsed": false
   },
   "outputs": [],
   "source": [
    "res = request(\"GET\", 'https://www.smard.de/app/chart_data/4359/DE/index_hour.json')\n",
    "timestamps = res.json()[\"timestamps\"]"
   ]
  },
  {
   "cell_type": "code",
   "execution_count": null,
   "metadata": {
    "ExecuteTime": {
     "end_time": "2023-10-19T15:26:04.842103Z",
     "start_time": "2023-10-19T15:25:32.717940Z"
    },
    "collapsed": false
   },
   "outputs": [],
   "source": [
    "time_series = []\n",
    "for timestamp in tqdm(timestamps):\n",
    "    res = request(\"GET\", \"https://www.smard.de/app/chart_data/4359/DE/4359_DE_hour_\" +str(timestamp)+\".json\")\n",
    "    body = res.json()[\"series\"]\n",
    "    time_series += body"
   ]
  },
  {
   "cell_type": "code",
   "execution_count": null,
   "metadata": {
    "ExecuteTime": {
     "end_time": "2023-10-19T15:26:05.442128Z",
     "start_time": "2023-10-19T15:26:04.826863Z"
    },
    "collapsed": false
   },
   "outputs": [],
   "source": [
    "residual_load_dataset = pd.DataFrame(time_series)\n",
    "residual_load_dataset.index = [pd.Timestamp(x, unit='ms') for x in residual_load_dataset.iloc[:, 0]]\n",
    "residual_load_dataset = residual_load_dataset.drop(columns=0)\n",
    "residual_load_dataset = residual_load_dataset.dropna()\n",
    "residual_load_dataset.columns = [\"Energy Consumption\"]\n",
    "residual_load_dataset"
   ]
  },
  {
   "cell_type": "code",
   "execution_count": null,
   "metadata": {
    "ExecuteTime": {
     "end_time": "2023-10-19T15:26:05.451542Z",
     "start_time": "2023-10-19T15:26:05.442447Z"
    },
    "collapsed": false
   },
   "outputs": [],
   "source": [
    "def extract_dwd_data(residual_load_dataset, station_id):\n",
    "    \n",
    "    station_data = [x for x in listdir() if station_id in x]\n",
    "    \n",
    "    wind_data = pd.read_csv([x for x in station_data if \"produkt_f\" in x][0], sep=\";\").iloc[-80000:]\n",
    "    solar_data = pd.read_csv([x for x in station_data if \"produkt_sd\" in x][0], sep=\";\").iloc[-80000:]\n",
    "    temperature_data = pd.read_csv([x for x in station_data if \"produkt_tu\" in x][0], sep=\";\").iloc[-80000:]\n",
    "    precipitation_data = pd.read_csv([x for x in station_data if \"produkt_rr\" in x][0], sep=\";\").iloc[-80000:]\n",
    "    \n",
    "    wind_data.index = [pd.to_datetime(x, format=\"%Y%m%d%H\") for x in wind_data[\"MESS_DATUM\"]]\n",
    "    wind_data = wind_data.drop(columns=\"MESS_DATUM\")\n",
    "    wind_data = wind_data.rename(columns={\"  FF\": \"Wind Velocity for Station \" + station_id})\n",
    "    solar_data.index = [pd.to_datetime(x, format=\"%Y%m%d%H\") for x in solar_data[\"MESS_DATUM\"]]\n",
    "    solar_data = solar_data.drop(columns=\"MESS_DATUM\")\n",
    "    solar_data = solar_data.rename(columns={\"SD_SO\": \"Sun Duration for Station \" + station_id})\n",
    "    temperature_data.index = [pd.to_datetime(x, format=\"%Y%m%d%H\") for x in temperature_data[\"MESS_DATUM\"]]\n",
    "    temperature_data = temperature_data.drop(columns=\"MESS_DATUM\")\n",
    "    temperature_data = temperature_data.rename(columns={\"TT_TU\": \"Air Temperature for Station \" + station_id})\n",
    "    precipitation_data.index = [pd.to_datetime(x, format=\"%Y%m%d%H\") for x in precipitation_data[\"MESS_DATUM\"]]\n",
    "    precipitation_data = precipitation_data.drop(columns=\"MESS_DATUM\")\n",
    "    precipitation_data = precipitation_data.rename(columns={\"  R1\": \"Precipitation Amount for Station \" + station_id})\n",
    "\n",
    "    residual_load_dataset = pd.concat([residual_load_dataset, wind_data[\"Wind Velocity for Station \" + station_id], solar_data[\"Sun Duration for Station \" + station_id], temperature_data[\"Air Temperature for Station \" + station_id], precipitation_data[\"Precipitation Amount for Station \" + station_id]], axis=1)\n",
    "    \n",
    "    return residual_load_dataset"
   ]
  },
  {
   "cell_type": "code",
   "execution_count": null,
   "metadata": {
    "ExecuteTime": {
     "end_time": "2023-10-19T15:26:36.521015Z",
     "start_time": "2023-10-19T15:26:05.444990Z"
    },
    "collapsed": false
   },
   "outputs": [],
   "source": [
    "for i in [\"02014\", \"03987\", \"03379\", \"04928\"]:\n",
    "    residual_load_dataset = extract_dwd_data(residual_load_dataset, i)"
   ]
  },
  {
   "cell_type": "code",
   "execution_count": null,
   "metadata": {
    "ExecuteTime": {
     "end_time": "2023-10-19T15:26:36.547283Z",
     "start_time": "2023-10-19T15:26:36.522503Z"
    },
    "collapsed": false
   },
   "outputs": [],
   "source": [
    "residual_load_dataset = residual_load_dataset.dropna()"
   ]
  },
  {
   "cell_type": "code",
   "execution_count": null,
   "metadata": {
    "ExecuteTime": {
     "end_time": "2023-10-19T15:28:42.407572Z",
     "start_time": "2023-10-19T15:28:42.394176Z"
    },
    "collapsed": false
   },
   "outputs": [],
   "source": [
    "residual_load_dataset[\"Quarter\"] = residual_load_dataset.index\n",
    "residual_load_dataset[\"Quarter\"] = residual_load_dataset[\"Quarter\"].dt.quarter"
   ]
  },
  {
   "cell_type": "code",
   "execution_count": null,
   "metadata": {
    "ExecuteTime": {
     "end_time": "2023-10-19T15:29:32.633345Z",
     "start_time": "2023-10-19T15:29:32.607182Z"
    },
    "collapsed": false
   },
   "outputs": [],
   "source": [
    "residual_load_dataset[\"Month\"] = [x.month for x in list(residual_load_dataset.index)]"
   ]
  },
  {
   "cell_type": "code",
   "execution_count": null,
   "metadata": {
    "ExecuteTime": {
     "end_time": "2023-10-19T15:31:48.428730Z",
     "start_time": "2023-10-19T15:31:48.421131Z"
    },
    "collapsed": false
   },
   "outputs": [],
   "source": [
    "cols = residual_load_dataset.columns.tolist()\n",
    "cols = cols[1:] + [cols[0]]\n",
    "residual_load_dataset = residual_load_dataset[cols]\n",
    "residual_load_dataset "
   ]
  },
  {
   "cell_type": "code",
   "execution_count": null,
   "metadata": {
    "ExecuteTime": {
     "end_time": "2023-10-19T15:32:05.870853Z",
     "start_time": "2023-10-19T15:32:00.407255Z"
    },
    "collapsed": false
   },
   "outputs": [],
   "source": [
    "from sklearn.model_selection import train_test_split\n",
    "\n",
    "X_test, X_train, y_test, y_train = train_test_split(residual_load_dataset.drop(columns=\"Energy Consumption\"), residual_load_dataset[\"Energy Consumption\"])"
   ]
  },
  {
   "cell_type": "code",
   "execution_count": null,
   "metadata": {
    "ExecuteTime": {
     "end_time": "2023-10-19T15:32:06.444697Z",
     "start_time": "2023-10-19T15:32:05.873931Z"
    },
    "collapsed": false
   },
   "outputs": [],
   "source": [
    "from sklearn.ensemble import *\n",
    "from sklearn.linear_model import *\n",
    "\n",
    "clf = LinearRegression()\n",
    "clf.fit(X_train, y_train)\n",
    "y_pred = clf.predict(X_test)"
   ]
  },
  {
   "cell_type": "code",
   "execution_count": null,
   "metadata": {
    "ExecuteTime": {
     "end_time": "2023-10-19T15:32:06.445325Z",
     "start_time": "2023-10-19T15:32:06.433478Z"
    },
    "collapsed": false
   },
   "outputs": [],
   "source": [
    "import math\n",
    "from sklearn.metrics import *\n",
    "\n",
    "math.pow(mean_squared_error(y_test, y_pred), 1/2)"
   ]
  },
  {
   "cell_type": "code",
   "execution_count": null,
   "metadata": {
    "ExecuteTime": {
     "end_time": "2023-10-19T15:32:06.641694Z",
     "start_time": "2023-10-19T15:32:06.439499Z"
    },
    "collapsed": false
   },
   "outputs": [],
   "source": [
    "test = pd.DataFrame()\n",
    "test[\"Y TRUE\"] = y_test\n",
    "test[\"Y PRED\"] = y_pred\n",
    "test[\"Difference\"] = abs(y_test - y_pred)\n",
    "test.describe()"
   ]
  },
  {
   "cell_type": "code",
   "execution_count": null,
   "metadata": {
    "ExecuteTime": {
     "end_time": "2023-10-19T15:32:06.928746Z",
     "start_time": "2023-10-19T15:32:06.633840Z"
    },
    "collapsed": false
   },
   "outputs": [],
   "source": [
    "residual_load_dataset.to_csv(\"Energy Consumption Dataset.csv\")"
   ]
  },
  {
   "cell_type": "code",
   "execution_count": null,
   "metadata": {
    "ExecuteTime": {
     "end_time": "2023-10-19T15:36:03.370229Z",
     "start_time": "2023-10-19T15:36:03.367768Z"
    },
    "collapsed": false
   },
   "outputs": [],
   "source": [
    "import numpy as np\n",
    "\n",
    "y_mean = y_test.mean()\n",
    "y_pred = np.empty(y_test.size)\n",
    "y_pred.fill(y_mean)"
   ]
  },
  {
   "cell_type": "code",
   "execution_count": null,
   "metadata": {
    "ExecuteTime": {
     "end_time": "2023-10-19T15:36:04.340584Z",
     "start_time": "2023-10-19T15:36:04.322665Z"
    },
    "collapsed": false
   },
   "outputs": [],
   "source": [
    "import math\n",
    "from sklearn.metrics import *\n",
    "\n",
    "math.pow(mean_squared_error(y_test, y_pred), 1/2)"
   ]
  },
  {
   "cell_type": "code",
   "execution_count": null,
   "metadata": {
    "collapsed": false
   },
   "outputs": [],
   "source": []
  }
 ],
 "metadata": {
  "kernelspec": {
   "display_name": "Python 3",
   "language": "python",
   "name": "python3"
  },
  "language_info": {
   "codemirror_mode": {
    "name": "ipython",
    "version": 3
   },
   "file_extension": ".py",
   "mimetype": "text/x-python",
   "name": "python",
   "nbconvert_exporter": "python",
   "pygments_lexer": "ipython3",
   "version": "3.11.6"
  }
 },
 "nbformat": 4,
 "nbformat_minor": 0
}
