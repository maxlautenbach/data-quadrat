{
 "cells": [
  {
   "cell_type": "code",
   "execution_count": 2,
   "metadata": {},
   "outputs": [],
   "source": [
    "import pandas as pd\n",
    "import matplotlib.pyplot as plt\n",
    "import numpy as np"
   ]
  },
  {
   "cell_type": "code",
   "execution_count": 3,
   "metadata": {},
   "outputs": [],
   "source": [
    "import data_preprocessing\n",
    "\n",
    "energy_consumption_data_train, energy_consumption_data_test = data_preprocessing.preprocess_data(\"Energy Consumption Dataset.csv\")"
   ]
  },
  {
   "cell_type": "code",
   "execution_count": 4,
   "metadata": {},
   "outputs": [],
   "source": [
    "X_train = pd.DataFrame(energy_consumption_data_train.iloc[:, :18])\n",
    "Y_train = pd.DataFrame(energy_consumption_data_train.iloc[:, -1])\n",
    "\n",
    "X_test = pd.DataFrame(energy_consumption_data_test.iloc[:, :18])\n",
    "Y_test = pd.DataFrame(energy_consumption_data_test.iloc[:, -1])\n",
    "_range = (Y_test.max() - Y_test.min()).item()"
   ]
  },
  {
   "cell_type": "code",
   "execution_count": 5,
   "metadata": {},
   "outputs": [],
   "source": [
    "from sklearn.tree import DecisionTreeRegressor\n",
    "from sklearn.model_selection import RandomizedSearchCV\n",
    "from sklearn.model_selection import KFold"
   ]
  },
  {
   "cell_type": "code",
   "execution_count": 6,
   "metadata": {},
   "outputs": [],
   "source": [
    "# try a default decision tree without hyperparameter tuning\n",
    "regressor = DecisionTreeRegressor()\n",
    "regressor.fit(X_train, Y_train)\n",
    "Y_pred = regressor.predict(X_test)"
   ]
  },
  {
   "cell_type": "code",
   "execution_count": 7,
   "metadata": {},
   "outputs": [
    {
     "data": {
      "text/plain": [
       "(array([[36169.  , 34264.75, 31731.5 , 32394.75, 32294.25]]),\n",
       " array([39047.75, 55805.5 , 43994.  , 52247.  , 40987.75]))"
      ]
     },
     "execution_count": 7,
     "metadata": {},
     "output_type": "execute_result"
    }
   ],
   "source": [
    "Y_test.values[:5].swapaxes(0, 1), Y_pred[:5]"
   ]
  },
  {
   "cell_type": "code",
   "execution_count": 8,
   "metadata": {},
   "outputs": [
    {
     "name": "stdout",
     "output_type": "stream",
     "text": [
      "rsme=14855.722627344107\n",
      "rsme_norm=0.21935036215551054\n"
     ]
    }
   ],
   "source": [
    "# estimate example using (normalized) RMSE\n",
    "from sklearn.metrics import mean_squared_error\n",
    "\n",
    "rsme = np.sqrt(mean_squared_error(Y_test, Y_pred))\n",
    "rsme_norm = rsme / _range\n",
    "\n",
    "print(f\"{rsme=}\")\n",
    "print(f\"{rsme_norm=}\")"
   ]
  },
  {
   "cell_type": "code",
   "execution_count": 12,
   "metadata": {},
   "outputs": [
    {
     "name": "stdout",
     "output_type": "stream",
     "text": [
      "regressor.tree_.node_count=80581\n",
      "regressor.get_depth()=40\n",
      "regressor.get_n_leaves()=40291\n",
      "(math.fsum(regressor.tree_.impurity) / len(regressor.tree_.impurity))=7840993.941107945\n",
      "regressor.tree_.max_n_classes=1\n"
     ]
    }
   ],
   "source": [
    "# inspect decision tree\n",
    "import math\n",
    "\n",
    "print(f\"{regressor.tree_.node_count=}\")\n",
    "print(f\"{regressor.get_depth()=}\")\n",
    "print(f\"{regressor.get_n_leaves()=}\")\n",
    "\n",
    "print(f\"{(math.fsum(regressor.tree_.impurity) / len(regressor.tree_.impurity))=}\")\n",
    "print(f\"{regressor.tree_.max_n_classes=}\")"
   ]
  },
  {
   "cell_type": "code",
   "execution_count": 13,
   "metadata": {},
   "outputs": [
    {
     "name": "stderr",
     "output_type": "stream",
     "text": [
      "/Users/I539028/.pyenv/versions/3.11.6/lib/python3.11/site-packages/sklearn/model_selection/_validation.py:425: FitFailedWarning: \n",
      "25 fits failed out of a total of 50.\n",
      "The score on these train-test partitions for these parameters will be set to nan.\n",
      "If these failures are not expected, you can try to debug them by setting error_score='raise'.\n",
      "\n",
      "Below are more details about the failures:\n",
      "--------------------------------------------------------------------------------\n",
      "5 fits failed with the following error:\n",
      "Traceback (most recent call last):\n",
      "  File \"/Users/I539028/.pyenv/versions/3.11.6/lib/python3.11/site-packages/sklearn/model_selection/_validation.py\", line 729, in _fit_and_score\n",
      "    estimator.fit(X_train, y_train, **fit_params)\n",
      "  File \"/Users/I539028/.pyenv/versions/3.11.6/lib/python3.11/site-packages/sklearn/base.py\", line 1145, in wrapper\n",
      "    estimator._validate_params()\n",
      "  File \"/Users/I539028/.pyenv/versions/3.11.6/lib/python3.11/site-packages/sklearn/base.py\", line 638, in _validate_params\n",
      "    validate_parameter_constraints(\n",
      "  File \"/Users/I539028/.pyenv/versions/3.11.6/lib/python3.11/site-packages/sklearn/utils/_param_validation.py\", line 95, in validate_parameter_constraints\n",
      "    raise InvalidParameterError(\n",
      "sklearn.utils._param_validation.InvalidParameterError: The 'max_features' parameter of DecisionTreeRegressor must be an int in the range [1, inf), a float in the range (0.0, 1.0], a str among {'sqrt', 'log2'} or None. Got 0 instead.\n",
      "\n",
      "--------------------------------------------------------------------------------\n",
      "20 fits failed with the following error:\n",
      "Traceback (most recent call last):\n",
      "  File \"/Users/I539028/.pyenv/versions/3.11.6/lib/python3.11/site-packages/sklearn/model_selection/_validation.py\", line 729, in _fit_and_score\n",
      "    estimator.fit(X_train, y_train, **fit_params)\n",
      "  File \"/Users/I539028/.pyenv/versions/3.11.6/lib/python3.11/site-packages/sklearn/base.py\", line 1145, in wrapper\n",
      "    estimator._validate_params()\n",
      "  File \"/Users/I539028/.pyenv/versions/3.11.6/lib/python3.11/site-packages/sklearn/base.py\", line 638, in _validate_params\n",
      "    validate_parameter_constraints(\n",
      "  File \"/Users/I539028/.pyenv/versions/3.11.6/lib/python3.11/site-packages/sklearn/utils/_param_validation.py\", line 95, in validate_parameter_constraints\n",
      "    raise InvalidParameterError(\n",
      "sklearn.utils._param_validation.InvalidParameterError: The 'max_depth' parameter of DecisionTreeRegressor must be an int in the range [1, inf) or None. Got 0 instead.\n",
      "\n",
      "  warnings.warn(some_fits_failed_message, FitFailedWarning)\n",
      "/Users/I539028/.pyenv/versions/3.11.6/lib/python3.11/site-packages/sklearn/model_selection/_search.py:979: UserWarning: One or more of the test scores are non-finite: [       nan        nan 0.30545581        nan 0.29606484        nan\n",
      " 0.2320411         nan 0.15165222 0.22296782]\n",
      "  warnings.warn(\n"
     ]
    }
   ],
   "source": [
    "# utilize randomized search with a parameter grid to finde the best hyperparameters for\n",
    "# the decision tree regressor.\n",
    "\n",
    "regressor = DecisionTreeRegressor()\n",
    "\n",
    "param_dist = {\"max_depth\":          [i for i in range(0, 9)],\n",
    "              \"max_features\":       [i for i in range(0, 9)],\n",
    "              \"min_samples_leaf\":   [i for i in range(0, 9)],\n",
    "              \"criterion\":          ['squared_error', 'poisson', 'friedman_mse', 'absolute_error'],\n",
    "              \"ccp_alpha\":          [i for i in range(0, 9)]}\n",
    "\n",
    "# Create the GridSearchCV object\n",
    "rand_search_dt = RandomizedSearchCV(estimator=regressor,\n",
    "                                    param_distributions=param_dist,\n",
    "                                    cv=KFold(n_splits=5, shuffle=True, random_state=42))\n",
    "\n",
    "# Fit the GridSearchCV object to the training data\n",
    "rand_search_dt.fit(X_train, Y_train)\n",
    "\n",
    "# Get the best hyperparameters\n",
    "best_regressor = rand_search_dt.best_estimator_\n",
    "best_hyperparams = rand_search_dt.best_params_"
   ]
  },
  {
   "cell_type": "code",
   "execution_count": 14,
   "metadata": {},
   "outputs": [
    {
     "data": {
      "text/plain": [
       "\"best_hyperparams={'min_samples_leaf': 6, 'max_features': 4, 'max_depth': 8, 'criterion': 'squared_error', 'ccp_alpha': 3}\""
      ]
     },
     "execution_count": 14,
     "metadata": {},
     "output_type": "execute_result"
    }
   ],
   "source": [
    "f\"{best_hyperparams=}\""
   ]
  },
  {
   "cell_type": "code",
   "execution_count": 15,
   "metadata": {},
   "outputs": [],
   "source": [
    "regressor = best_regressor"
   ]
  },
  {
   "cell_type": "code",
   "execution_count": 16,
   "metadata": {},
   "outputs": [
    {
     "name": "stdout",
     "output_type": "stream",
     "text": [
      "regressor.tree_.node_count=429\n",
      "regressor.get_depth()=8\n",
      "regressor.get_n_leaves()=215\n",
      "(math.fsum(regressor.tree_.impurity) / len(regressor.tree_.impurity))=101609480.7186063\n",
      "regressor.tree_.max_n_classes=1\n"
     ]
    }
   ],
   "source": [
    "# inspect decision tree\n",
    "import math\n",
    "\n",
    "print(f\"{regressor.tree_.node_count=}\")\n",
    "print(f\"{regressor.get_depth()=}\")\n",
    "print(f\"{regressor.get_n_leaves()=}\")\n",
    "\n",
    "print(f\"{(math.fsum(regressor.tree_.impurity) / len(regressor.tree_.impurity))=}\")\n",
    "print(f\"{regressor.tree_.max_n_classes=}\")"
   ]
  },
  {
   "cell_type": "code",
   "execution_count": 17,
   "metadata": {},
   "outputs": [
    {
     "data": {
      "text/plain": [
       "(array([[36169.  , 34264.75, 31731.5 , 32394.75, 32294.25]]),\n",
       " array([44095.10598377, 45539.18421053, 45539.18421053, 45539.18421053,\n",
       "        44095.10598377]))"
      ]
     },
     "execution_count": 17,
     "metadata": {},
     "output_type": "execute_result"
    }
   ],
   "source": [
    "# predict on testset using best regressor\n",
    "regressor.fit(X_train, Y_train)\n",
    "\n",
    "# predict values\n",
    "Y_pred = regressor.predict(X_test)\n",
    "\n",
    "Y_test.values[:5].swapaxes(0, 1), Y_pred[:5]"
   ]
  },
  {
   "cell_type": "code",
   "execution_count": 18,
   "metadata": {},
   "outputs": [
    {
     "name": "stdout",
     "output_type": "stream",
     "text": [
      "rsme=11634.101467363196\n",
      "rsme_norm=0.21935036215551054\n"
     ]
    }
   ],
   "source": [
    "# evaluate using (normalized) RMSE\n",
    "rsme = np.sqrt(mean_squared_error(Y_test, Y_pred))\n",
    "print(f\"{rsme=}\")\n",
    "print(f\"{rsme_norm=}\")"
   ]
  },
  {
   "cell_type": "code",
   "execution_count": null,
   "metadata": {},
   "outputs": [],
   "source": []
  }
 ],
 "metadata": {
  "kernelspec": {
   "display_name": "Python 3",
   "language": "python",
   "name": "python3"
  },
  "language_info": {
   "codemirror_mode": {
    "name": "ipython",
    "version": 3
   },
   "file_extension": ".py",
   "mimetype": "text/x-python",
   "name": "python",
   "nbconvert_exporter": "python",
   "pygments_lexer": "ipython3",
   "version": "3.11.6"
  }
 },
 "nbformat": 4,
 "nbformat_minor": 2
}
