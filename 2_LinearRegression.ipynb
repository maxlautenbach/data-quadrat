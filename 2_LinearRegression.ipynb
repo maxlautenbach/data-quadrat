{
 "cells": [
  {
   "cell_type": "code",
   "execution_count": 36,
   "metadata": {
    "collapsed": true,
    "ExecuteTime": {
     "end_time": "2023-12-07T13:07:17.446822Z",
     "start_time": "2023-12-07T13:07:17.423546Z"
    }
   },
   "outputs": [],
   "source": [
    "import pandas as pd\n",
    "import numpy as np\n",
    "from sklearn.model_selection import train_test_split\n",
    "import itertools\n",
    "import matplotlib.pyplot as plt\n",
    "from sklearn.preprocessing import *\n",
    "from sklearn.linear_model import LinearRegression, Lasso, Ridge\n",
    "from sklearn.preprocessing import PolynomialFeatures\n",
    "from sklearn.pipeline import Pipeline, make_pipeline\n",
    "from sklearn.metrics import mean_squared_error, r2_score\n",
    "from sklearn.model_selection import GridSearchCV"
   ]
  },
  {
   "cell_type": "markdown",
   "source": [
    "### Import dataset from prepared csv file and preprocess it"
   ],
   "metadata": {
    "collapsed": false
   }
  },
  {
   "cell_type": "code",
   "execution_count": 37,
   "outputs": [],
   "source": [
    "import data_preprocessing\n",
    "\n",
    "train, test = data_preprocessing.preprocess_data(\"Residual Load Dataset.csv\")"
   ],
   "metadata": {
    "collapsed": false,
    "ExecuteTime": {
     "end_time": "2023-12-07T13:07:17.523650Z",
     "start_time": "2023-12-07T13:07:17.427425Z"
    }
   }
  },
  {
   "cell_type": "markdown",
   "source": [
    "### Prepare data for applying and testing regression models"
   ],
   "metadata": {
    "collapsed": false
   }
  },
  {
   "cell_type": "code",
   "execution_count": 38,
   "outputs": [],
   "source": [
    "# Function to seperate influencers and target variable within the dataset\n",
    "def split_x_y(df):\n",
    "    y = df[\"Residual Load\"]\n",
    "    X = df.drop(\"Residual Load\", axis=1)\n",
    "    return X, y"
   ],
   "metadata": {
    "collapsed": false,
    "ExecuteTime": {
     "end_time": "2023-12-07T13:07:17.536946Z",
     "start_time": "2023-12-07T13:07:17.522821Z"
    }
   }
  },
  {
   "cell_type": "code",
   "execution_count": 39,
   "outputs": [],
   "source": [
    "X_train, y_train = split_x_y(train)\n",
    "X_test, y_test = split_x_y(test)"
   ],
   "metadata": {
    "collapsed": false,
    "ExecuteTime": {
     "end_time": "2023-12-07T13:07:17.537617Z",
     "start_time": "2023-12-07T13:07:17.525016Z"
    }
   }
  },
  {
   "cell_type": "markdown",
   "source": [
    "### Definition of testing function based on test dataset"
   ],
   "metadata": {
    "collapsed": false
   }
  },
  {
   "cell_type": "code",
   "execution_count": 40,
   "outputs": [],
   "source": [
    "def test_regressor(pipe):\n",
    "    y_pred = pipe.fit(X_train, y_train).predict(X_test)\n",
    "    return mean_squared_error(y_true=y_test, y_pred=y_pred, squared=False)"
   ],
   "metadata": {
    "collapsed": false,
    "ExecuteTime": {
     "end_time": "2023-12-07T13:07:17.537757Z",
     "start_time": "2023-12-07T13:07:17.537103Z"
    }
   }
  },
  {
   "cell_type": "markdown",
   "source": [
    "### Application of Linear regression"
   ],
   "metadata": {
    "collapsed": false
   }
  },
  {
   "cell_type": "code",
   "execution_count": 41,
   "outputs": [
    {
     "data": {
      "text/plain": "18152.20759372999"
     },
     "execution_count": 41,
     "metadata": {},
     "output_type": "execute_result"
    }
   ],
   "source": [
    "pipe = Pipeline([(\"Regressor\", LinearRegression())])\n",
    "test_regressor(pipe)"
   ],
   "metadata": {
    "collapsed": false,
    "ExecuteTime": {
     "end_time": "2023-12-07T13:07:17.684973Z",
     "start_time": "2023-12-07T13:07:17.537553Z"
    }
   }
  },
  {
   "cell_type": "markdown",
   "source": [
    "### Preperation of hyperparameter tuning for Lasso/Ridge regression"
   ],
   "metadata": {
    "collapsed": false
   }
  },
  {
   "cell_type": "code",
   "execution_count": 42,
   "outputs": [],
   "source": [
    "from sklearn.model_selection import *\n",
    "\n",
    "tscv = TimeSeriesSplit(5)"
   ],
   "metadata": {
    "collapsed": false,
    "ExecuteTime": {
     "end_time": "2023-12-07T13:07:17.691411Z",
     "start_time": "2023-12-07T13:07:17.672010Z"
    }
   }
  },
  {
   "cell_type": "markdown",
   "source": [
    "### Application of Lasso Regression"
   ],
   "metadata": {
    "collapsed": false
   }
  },
  {
   "cell_type": "code",
   "execution_count": 51,
   "outputs": [
    {
     "data": {
      "text/plain": "{'Regressor__alpha': 2.7}"
     },
     "execution_count": 51,
     "metadata": {},
     "output_type": "execute_result"
    }
   ],
   "source": [
    "pipe = Pipeline([(\"Regressor\", Lasso())])\n",
    "params = {\"Regressor__alpha\": np.arange(0.1,20, 0.1)}\n",
    "reg = GridSearchCV(pipe, params, cv=tscv, scoring=\"neg_mean_squared_error\", n_jobs=-1)\n",
    "reg.fit(X_train, y_train)\n",
    "reg.best_params_"
   ],
   "metadata": {
    "collapsed": false,
    "ExecuteTime": {
     "end_time": "2023-12-07T13:11:12.014211Z",
     "start_time": "2023-12-07T13:10:58.803623Z"
    }
   }
  },
  {
   "cell_type": "code",
   "execution_count": 52,
   "outputs": [
    {
     "data": {
      "text/plain": "10135.211154709661"
     },
     "execution_count": 52,
     "metadata": {},
     "output_type": "execute_result"
    }
   ],
   "source": [
    "pipe = Pipeline([(\"Regressor\", Lasso(alpha=reg.best_params_[\"Regressor__alpha\"]))])\n",
    "test_regressor(pipe)"
   ],
   "metadata": {
    "collapsed": false,
    "ExecuteTime": {
     "end_time": "2023-12-07T13:11:12.631113Z",
     "start_time": "2023-12-07T13:11:12.016069Z"
    }
   }
  },
  {
   "cell_type": "markdown",
   "source": [
    "### Application of Ridge regression"
   ],
   "metadata": {
    "collapsed": false
   }
  },
  {
   "cell_type": "code",
   "execution_count": 57,
   "outputs": [
    {
     "data": {
      "text/plain": "{'Regressor__alpha': 1.2000000000000002}"
     },
     "execution_count": 57,
     "metadata": {},
     "output_type": "execute_result"
    }
   ],
   "source": [
    "pipe = Pipeline([(\"Regressor\", Ridge())])\n",
    "params = {\"Regressor__alpha\": np.arange(0.1,20, 0.1)}\n",
    "reg = GridSearchCV(pipe, params, cv=tscv, scoring=\"neg_mean_squared_error\", n_jobs=-1)\n",
    "reg.fit(X_train, y_train)\n",
    "reg.best_params_"
   ],
   "metadata": {
    "collapsed": false,
    "ExecuteTime": {
     "end_time": "2023-12-07T13:14:00.305769Z",
     "start_time": "2023-12-07T13:13:48.032949Z"
    }
   }
  },
  {
   "cell_type": "code",
   "execution_count": 58,
   "outputs": [
    {
     "data": {
      "text/plain": "16882.450715523573"
     },
     "execution_count": 58,
     "metadata": {},
     "output_type": "execute_result"
    }
   ],
   "source": [
    "pipe = Pipeline([(\"Regressor\", Ridge(alpha=reg.best_params_[\"Regressor__alpha\"]))])\n",
    "test_regressor(pipe)"
   ],
   "metadata": {
    "collapsed": false,
    "ExecuteTime": {
     "end_time": "2023-12-07T13:14:00.322641Z",
     "start_time": "2023-12-07T13:14:00.306205Z"
    }
   }
  },
  {
   "cell_type": "markdown",
   "source": [
    "Best alpha of earlier grid searches: alpha = 10, RMSE = 12854.15"
   ],
   "metadata": {
    "collapsed": false
   }
  },
  {
   "cell_type": "code",
   "execution_count": null,
   "outputs": [],
   "source": [],
   "metadata": {
    "collapsed": false
   }
  }
 ],
 "metadata": {
  "kernelspec": {
   "display_name": "Python 3",
   "language": "python",
   "name": "python3"
  },
  "language_info": {
   "codemirror_mode": {
    "name": "ipython",
    "version": 2
   },
   "file_extension": ".py",
   "mimetype": "text/x-python",
   "name": "python",
   "nbconvert_exporter": "python",
   "pygments_lexer": "ipython2",
   "version": "2.7.6"
  }
 },
 "nbformat": 4,
 "nbformat_minor": 0
}
