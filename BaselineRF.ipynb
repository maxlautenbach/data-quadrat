{
 "cells": [
  {
   "cell_type": "code",
   "execution_count": 1,
   "metadata": {
    "ExecuteTime": {
     "end_time": "2023-11-19T13:04:45.253991Z",
     "start_time": "2023-11-19T13:04:45.248427Z"
    },
    "collapsed": true
   },
   "outputs": [],
   "source": [
    "import pandas as pd\n",
    "import numpy as np\n",
    "import tqdm as tqdm\n",
    "from sklearn.model_selection import train_test_split\n",
    "import itertools\n",
    "import matplotlib.pyplot as plt\n",
    "from sklearn.preprocessing import *\n",
    "from sklearn.linear_model import LinearRegression, Lasso, Ridge\n",
    "from sklearn.preprocessing import PolynomialFeatures\n",
    "from sklearn.pipeline import Pipeline, make_pipeline\n",
    "from sklearn.metrics import mean_squared_error, r2_score\n",
    "from sklearn.model_selection import GridSearchCV"
   ]
  },
  {
   "cell_type": "code",
   "execution_count": 2,
   "metadata": {
    "ExecuteTime": {
     "end_time": "2023-11-19T13:04:45.342081Z",
     "start_time": "2023-11-19T13:04:45.251395Z"
    },
    "collapsed": false
   },
   "outputs": [],
   "source": [
    "import data_preprocessing\n",
    "\n",
    "train, test = data_preprocessing.preprocess_data(\"Energy Consumption Dataset.csv\")"
   ]
  },
  {
   "cell_type": "code",
   "execution_count": 3,
   "metadata": {
    "ExecuteTime": {
     "end_time": "2023-11-19T13:04:45.343816Z",
     "start_time": "2023-11-19T13:04:45.342375Z"
    },
    "collapsed": false
   },
   "outputs": [],
   "source": [
    "def split_x_y(df):\n",
    "    y = df[\"Energy Consumption\"]\n",
    "    X = df.drop(\"Energy Consumption\", axis=1)\n",
    "    return X, y"
   ]
  },
  {
   "cell_type": "code",
   "execution_count": 4,
   "metadata": {
    "ExecuteTime": {
     "end_time": "2023-11-19T13:04:45.349301Z",
     "start_time": "2023-11-19T13:04:45.347457Z"
    },
    "collapsed": false
   },
   "outputs": [],
   "source": [
    "X_train, y_train = split_x_y(train)\n",
    "X_test, y_test = split_x_y(test)"
   ]
  },
  {
   "cell_type": "code",
   "execution_count": 5,
   "metadata": {
    "ExecuteTime": {
     "end_time": "2023-11-19T17:15:48.860901Z",
     "start_time": "2023-11-19T17:15:48.854744Z"
    },
    "collapsed": false
   },
   "outputs": [],
   "source": [
    "from sklearn.ensemble import *\n",
    "\n",
    "def random_forest_reg(args):\n",
    "    n_estimators, max_depth, min_samples_split = args\n",
    "    reg = RandomForestRegressor(random_state=42, n_jobs=-1, n_estimators=int(n_estimators), max_depth=int(max_depth), min_samples_split=int(min_samples_split))\n",
    "    reg.fit(X_train, y_train)\n",
    "    y_pred = reg.predict(X_test)\n",
    "    return mean_squared_error(y_test, y_pred, squared=False)"
   ]
  },
  {
   "cell_type": "code",
   "execution_count": 7,
   "metadata": {
    "ExecuteTime": {
     "end_time": "2023-11-19T17:57:52.594176Z",
     "start_time": "2023-11-19T17:47:39.780521Z"
    },
    "collapsed": false
   },
   "outputs": [
    {
     "name": "stdout",
     "output_type": "stream",
     "text": [
      "100%|██████████| 100/100 [16:50<00:00, 10.10s/trial, best loss: 11116.293656763748]\n"
     ]
    }
   ],
   "source": [
    "from hyperopt import hp, space_eval, tpe, fmin\n",
    "\n",
    "space = [\n",
    "    hp.quniform(\"n_estimators\", 100, 500, 10),\n",
    "    hp.quniform(\"max_depth\", 2, 18, 1),\n",
    "    hp.quniform(\"min_samples_split\", 2, 100, 1),\n",
    "\n",
    "]\n",
    "\n",
    "best = fmin(fn=random_forest_reg, space=space, algo=tpe.suggest, verbose=True, max_evals=100)"
   ]
  },
  {
   "cell_type": "code",
   "execution_count": 50,
   "metadata": {
    "ExecuteTime": {
     "end_time": "2023-11-19T17:57:52.597676Z",
     "start_time": "2023-11-19T17:57:52.595314Z"
    },
    "collapsed": false
   },
   "outputs": [
    {
     "data": {
      "text/plain": [
       "(420.0, 18.0, 15.0)"
      ]
     },
     "execution_count": 50,
     "metadata": {},
     "output_type": "execute_result"
    }
   ],
   "source": [
    "space_eval(space, best)"
   ]
  },
  {
   "cell_type": "code",
   "execution_count": null,
   "metadata": {
    "collapsed": false
   },
   "outputs": [],
   "source": []
  }
 ],
 "metadata": {
  "kernelspec": {
   "display_name": "Python 3",
   "language": "python",
   "name": "python3"
  },
  "language_info": {
   "codemirror_mode": {
    "name": "ipython",
    "version": 3
   },
   "file_extension": ".py",
   "mimetype": "text/x-python",
   "name": "python",
   "nbconvert_exporter": "python",
   "pygments_lexer": "ipython3",
   "version": "3.11.6"
  }
 },
 "nbformat": 4,
 "nbformat_minor": 0
}
