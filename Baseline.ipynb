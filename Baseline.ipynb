{
 "cells": [
  {
   "cell_type": "code",
   "execution_count": 2,
   "id": "initial_id",
   "metadata": {
    "ExecuteTime": {
     "end_time": "2023-10-27T12:36:22.971218Z",
     "start_time": "2023-10-27T12:36:22.723784Z"
    },
    "collapsed": true
   },
   "outputs": [],
   "source": [
    "import math\n",
    "\n",
    "import data_preprocessing\n",
    "\n",
    "train, test = data_preprocessing.preprocess_data(\"Energy Consumption Dataset.csv\")"
   ]
  },
  {
   "cell_type": "code",
   "execution_count": 3,
   "id": "43467e083aa7e36b",
   "metadata": {
    "ExecuteTime": {
     "end_time": "2023-10-27T12:37:33.014670Z",
     "start_time": "2023-10-27T12:37:33.007503Z"
    },
    "collapsed": false
   },
   "outputs": [
    {
     "data": {
      "text/plain": [
       "43341.75"
      ]
     },
     "execution_count": 3,
     "metadata": {},
     "output_type": "execute_result"
    }
   ],
   "source": [
    "y_median = train[\"Energy Consumption\"].median()\n",
    "y_median"
   ]
  },
  {
   "cell_type": "code",
   "execution_count": 4,
   "id": "5034d77cf09609e4",
   "metadata": {
    "ExecuteTime": {
     "end_time": "2023-10-27T12:42:22.021234Z",
     "start_time": "2023-10-27T12:42:22.014879Z"
    },
    "collapsed": false
   },
   "outputs": [],
   "source": [
    "import numpy as np\n",
    "\n",
    "y_pred = np.full((len(test)), y_median)\n",
    "y_true = test[\"Energy Consumption\"]"
   ]
  },
  {
   "cell_type": "code",
   "execution_count": 5,
   "id": "bfee96ba4bd3afe2",
   "metadata": {
    "ExecuteTime": {
     "end_time": "2023-10-27T12:42:22.162514Z",
     "start_time": "2023-10-27T12:42:22.158898Z"
    },
    "collapsed": false
   },
   "outputs": [
    {
     "data": {
      "text/plain": [
       "14290.494702764094"
      ]
     },
     "execution_count": 5,
     "metadata": {},
     "output_type": "execute_result"
    }
   ],
   "source": [
    "from sklearn.metrics import *\n",
    "import math\n",
    "\n",
    "math.sqrt(mean_squared_error(y_true=y_true, y_pred= y_pred))"
   ]
  }
 ],
 "metadata": {
  "kernelspec": {
   "display_name": "Python 3",
   "language": "python",
   "name": "python3"
  },
  "language_info": {
   "codemirror_mode": {
    "name": "ipython",
    "version": 3
   },
   "file_extension": ".py",
   "mimetype": "text/x-python",
   "name": "python",
   "nbconvert_exporter": "python",
   "pygments_lexer": "ipython3",
   "version": "3.9.13"
  }
 },
 "nbformat": 4,
 "nbformat_minor": 5
}
