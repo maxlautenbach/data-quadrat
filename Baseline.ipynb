{
 "cells": [
  {
   "cell_type": "code",
   "execution_count": 5,
   "id": "initial_id",
   "metadata": {
    "collapsed": true,
    "ExecuteTime": {
     "end_time": "2023-11-13T18:50:48.183353Z",
     "start_time": "2023-11-13T18:50:48.081537Z"
    }
   },
   "outputs": [],
   "source": [
    "import math\n",
    "\n",
    "import data_preprocessing\n",
    "\n",
    "train, test = data_preprocessing.preprocess_data(\"Energy Consumption Dataset.csv\")"
   ]
  },
  {
   "cell_type": "code",
   "execution_count": 6,
   "id": "43467e083aa7e36b",
   "metadata": {
    "collapsed": false,
    "ExecuteTime": {
     "end_time": "2023-11-13T18:50:48.187945Z",
     "start_time": "2023-11-13T18:50:48.185038Z"
    }
   },
   "outputs": [
    {
     "data": {
      "text/plain": "43341.75"
     },
     "execution_count": 6,
     "metadata": {},
     "output_type": "execute_result"
    }
   ],
   "source": [
    "y_median = train[\"Energy Consumption\"].median()\n",
    "y_median"
   ]
  },
  {
   "cell_type": "code",
   "execution_count": 7,
   "id": "5034d77cf09609e4",
   "metadata": {
    "collapsed": false,
    "ExecuteTime": {
     "end_time": "2023-11-13T18:50:48.190806Z",
     "start_time": "2023-11-13T18:50:48.189271Z"
    }
   },
   "outputs": [],
   "source": [
    "import numpy as np\n",
    "\n",
    "y_pred = np.full((len(test)), y_median)\n",
    "y_true = test[\"Energy Consumption\"]"
   ]
  },
  {
   "cell_type": "code",
   "execution_count": 8,
   "id": "bfee96ba4bd3afe2",
   "metadata": {
    "collapsed": false,
    "ExecuteTime": {
     "end_time": "2023-11-13T18:50:48.195428Z",
     "start_time": "2023-11-13T18:50:48.192575Z"
    }
   },
   "outputs": [
    {
     "data": {
      "text/plain": "14290.494702764094"
     },
     "execution_count": 8,
     "metadata": {},
     "output_type": "execute_result"
    }
   ],
   "source": [
    "from sklearn.metrics import *\n",
    "import math\n",
    "\n",
    "math.sqrt(mean_squared_error(y_true=y_true, y_pred= y_pred))"
   ]
  }
 ],
 "metadata": {
  "kernelspec": {
   "display_name": "Python 3",
   "language": "python",
   "name": "python3"
  },
  "language_info": {
   "codemirror_mode": {
    "name": "ipython",
    "version": 3
   },
   "file_extension": ".py",
   "mimetype": "text/x-python",
   "name": "python",
   "nbconvert_exporter": "python",
   "pygments_lexer": "ipython3",
   "version": "3.9.13"
  }
 },
 "nbformat": 4,
 "nbformat_minor": 5
}
